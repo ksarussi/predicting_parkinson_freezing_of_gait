{
 "cells": [
  {
   "cell_type": "code",
   "execution_count": 1,
   "id": "4c7c83b2-d721-4090-b6c4-51b48b1bfaac",
   "metadata": {},
   "outputs": [],
   "source": [
    "import os \n",
    "from fog.code.utils.utils import *\n",
    "\n",
    "# from fog.code.utils.utils import *\n",
    "from pyspark.sql.functions import lit, col\n",
    "from pyspark.sql.types import StringType, BooleanType, IntegerType, FloatType, DateType\n",
    "from pyspark.sql import SparkSession\n",
    "from google.cloud import storage\n",
    "\n",
    "import matplotlib.pyplot as plt\n",
    "from pyspark.ml.feature import VectorAssembler\n",
    "from pyspark.ml.feature import StandardScaler\n",
    "from pyspark.ml.clustering import KMeans\n",
    "from pyspark.ml.evaluation import ClusteringEvaluator\n",
    "    # measures how close each point in one cluster is to points in the neighboring clusters \n",
    "    #  helping in figuring out clusters that are compact and well-spaced out."
   ]
  },
  {
   "cell_type": "code",
   "execution_count": 2,
   "id": "289a1670-66c2-4e5d-8b14-2d06e98c1968",
   "metadata": {},
   "outputs": [],
   "source": [
    "spark = SparkSession.builder.appName(\"K-Means Test\").getOrCreate()"
   ]
  },
  {
   "cell_type": "markdown",
   "id": "10d5db4d-e6b4-4e7c-aceb-345f49b0fb7c",
   "metadata": {},
   "source": [
    "## Read in daily processed parquet files"
   ]
  },
  {
   "cell_type": "code",
   "execution_count": 3,
   "id": "0221bc67-3bec-403f-8254-9edc693ab50d",
   "metadata": {},
   "outputs": [],
   "source": [
    "daily_path = \"parkinsons_data/unlabeled_combined/daily_one_day\"\n",
    "defog_path = \"parkinsons_data/train/processed/defog_tasks\"\n",
    "top_bucket_name = \"msca-bdp-student-gcs\""
   ]
  },
  {
   "cell_type": "code",
   "execution_count": 4,
   "id": "c639fb08-49f8-4d2e-a6f2-783e425e2c47",
   "metadata": {},
   "outputs": [],
   "source": [
    "def feed_files(top_bucket_name, prefix, suffix):\n",
    "    client = storage.Client()\n",
    "    blobs = client.list_blobs(top_bucket_name, prefix=prefix)\n",
    "\n",
    "    processed = None\n",
    "\n",
    "    for i, blob in enumerate(blobs):\n",
    "        print(blob.name)\n",
    "        if blob.name.endswith(suffix):\n",
    "            \n",
    "            if suffix == \".parquet\":\n",
    "                df = spark.read.parquet(f\"gs://{top_bucket_name}/{blob.name}\")\n",
    "            elif suffix == \".csv\":\n",
    "                df = spark.read.csv(f\"gs://{top_bucket_name}/{blob.name}\")\n",
    "            if processed is None:\n",
    "                processed = df\n",
    "            else:\n",
    "                processed = processed.union(df)\n",
    "    return processed"
   ]
  },
  {
   "cell_type": "code",
   "execution_count": 5,
   "id": "bd57a126-0f57-4ed5-b1f0-795604d0a476",
   "metadata": {},
   "outputs": [],
   "source": [
    "def vectorize_features(dataframe, features):\n",
    "    assemble=VectorAssembler(inputCols=features, outputCol = 'features')\n",
    "    assembled_data = assemble.transform(dataframe)\n",
    "    \n",
    "    return assembled_data"
   ]
  },
  {
   "cell_type": "code",
   "execution_count": 6,
   "id": "220cf45d-e38b-4516-ba4e-446fe9bb97d9",
   "metadata": {},
   "outputs": [],
   "source": [
    "def standardize_features(assembled_dataframe):\n",
    "    scale = StandardScaler(inputCol='features', outputCol = 'standardized')\n",
    "    data_scale = scale.fit(assembled_dataframe)\n",
    "    data_scale_output = data_scale.transform(assembled_dataframe)\n",
    "    \n",
    "    return data_scale_output"
   ]
  },
  {
   "cell_type": "code",
   "execution_count": 7,
   "id": "18a9964d-b880-4e01-8a7a-285549154f98",
   "metadata": {},
   "outputs": [
    {
     "name": "stdout",
     "output_type": "stream",
     "text": [
      "parkinsons_data/train/processed/defog_tasks/\n",
      "parkinsons_data/train/processed/defog_tasks/_SUCCESS\n",
      "parkinsons_data/train/processed/defog_tasks/part-00000-6093110f-ab1f-4d32-8374-296135c35de0-c000.snappy.parquet\n"
     ]
    },
    {
     "name": "stderr",
     "output_type": "stream",
     "text": [
      "                                                                                \r"
     ]
    },
    {
     "name": "stdout",
     "output_type": "stream",
     "text": [
      "parkinsons_data/train/processed/defog_tasks/part-00001-6093110f-ab1f-4d32-8374-296135c35de0-c000.snappy.parquet\n",
      "parkinsons_data/train/processed/defog_tasks/part-00002-6093110f-ab1f-4d32-8374-296135c35de0-c000.snappy.parquet\n",
      "parkinsons_data/train/processed/defog_tasks/part-00003-6093110f-ab1f-4d32-8374-296135c35de0-c000.snappy.parquet\n",
      "parkinsons_data/train/processed/defog_tasks/part-00004-6093110f-ab1f-4d32-8374-296135c35de0-c000.snappy.parquet\n"
     ]
    },
    {
     "name": "stderr",
     "output_type": "stream",
     "text": [
      "                                                                                \r"
     ]
    },
    {
     "name": "stdout",
     "output_type": "stream",
     "text": [
      "parkinsons_data/train/processed/defog_tasks/part-00005-6093110f-ab1f-4d32-8374-296135c35de0-c000.snappy.parquet\n",
      "parkinsons_data/train/processed/defog_tasks/part-00006-6093110f-ab1f-4d32-8374-296135c35de0-c000.snappy.parquet\n",
      "parkinsons_data/train/processed/defog_tasks/part-00007-6093110f-ab1f-4d32-8374-296135c35de0-c000.snappy.parquet\n",
      "parkinsons_data/train/processed/defog_tasks/part-00008-6093110f-ab1f-4d32-8374-296135c35de0-c000.snappy.parquet\n",
      "parkinsons_data/train/processed/defog_tasks/part-00009-6093110f-ab1f-4d32-8374-296135c35de0-c000.snappy.parquet\n",
      "parkinsons_data/train/processed/defog_tasks/part-00010-6093110f-ab1f-4d32-8374-296135c35de0-c000.snappy.parquet\n",
      "parkinsons_data/train/processed/defog_tasks_lagging/\n",
      "parkinsons_data/unlabeled_combined/daily_one_day/\n",
      "parkinsons_data/unlabeled_combined/daily_one_day/_SUCCESS\n",
      "parkinsons_data/unlabeled_combined/daily_one_day/part-00000-26ba933d-cb86-4a7c-bca4-56cc7864f451-c000.snappy.parquet\n",
      "parkinsons_data/unlabeled_combined/daily_one_day/part-00013-26ba933d-cb86-4a7c-bca4-56cc7864f451-c000.snappy.parquet\n",
      "parkinsons_data/unlabeled_combined/daily_one_day/part-00041-26ba933d-cb86-4a7c-bca4-56cc7864f451-c000.snappy.parquet\n",
      "parkinsons_data/unlabeled_combined/daily_one_day/part-00069-26ba933d-cb86-4a7c-bca4-56cc7864f451-c000.snappy.parquet\n",
      "parkinsons_data/unlabeled_combined/daily_one_day/part-00097-26ba933d-cb86-4a7c-bca4-56cc7864f451-c000.snappy.parquet\n",
      "parkinsons_data/unlabeled_combined/daily_one_day/part-00125-26ba933d-cb86-4a7c-bca4-56cc7864f451-c000.snappy.parquet\n",
      "parkinsons_data/unlabeled_combined/daily_one_day/part-00153-26ba933d-cb86-4a7c-bca4-56cc7864f451-c000.snappy.parquet\n",
      "parkinsons_data/unlabeled_combined/daily_one_day/part-00181-26ba933d-cb86-4a7c-bca4-56cc7864f451-c000.snappy.parquet\n",
      "parkinsons_data/unlabeled_combined/daily_one_day/part-00209-26ba933d-cb86-4a7c-bca4-56cc7864f451-c000.snappy.parquet\n",
      "parkinsons_data/unlabeled_combined/daily_one_day/part-00237-26ba933d-cb86-4a7c-bca4-56cc7864f451-c000.snappy.parquet\n",
      "parkinsons_data/unlabeled_combined/daily_one_day/part-00265-26ba933d-cb86-4a7c-bca4-56cc7864f451-c000.snappy.parquet\n",
      "parkinsons_data/unlabeled_combined/daily_one_day/part-00293-26ba933d-cb86-4a7c-bca4-56cc7864f451-c000.snappy.parquet\n",
      "parkinsons_data/unlabeled_combined/daily_one_day/part-00321-26ba933d-cb86-4a7c-bca4-56cc7864f451-c000.snappy.parquet\n",
      "parkinsons_data/unlabeled_combined/daily_one_day/part-00349-26ba933d-cb86-4a7c-bca4-56cc7864f451-c000.snappy.parquet\n",
      "parkinsons_data/unlabeled_combined/daily_one_day/part-00377-26ba933d-cb86-4a7c-bca4-56cc7864f451-c000.snappy.parquet\n",
      "parkinsons_data/unlabeled_combined/daily_one_day/part-00405-26ba933d-cb86-4a7c-bca4-56cc7864f451-c000.snappy.parquet\n",
      "parkinsons_data/unlabeled_combined/daily_one_day/part-00433-26ba933d-cb86-4a7c-bca4-56cc7864f451-c000.snappy.parquet\n",
      "parkinsons_data/unlabeled_combined/daily_one_day/part-00461-26ba933d-cb86-4a7c-bca4-56cc7864f451-c000.snappy.parquet\n",
      "parkinsons_data/unlabeled_combined/daily_one_day/part-00489-26ba933d-cb86-4a7c-bca4-56cc7864f451-c000.snappy.parquet\n",
      "parkinsons_data/unlabeled_combined/daily_one_day/part-00517-26ba933d-cb86-4a7c-bca4-56cc7864f451-c000.snappy.parquet\n",
      "parkinsons_data/unlabeled_combined/daily_one_day/part-00545-26ba933d-cb86-4a7c-bca4-56cc7864f451-c000.snappy.parquet\n",
      "parkinsons_data/unlabeled_combined/daily_one_day/part-00573-26ba933d-cb86-4a7c-bca4-56cc7864f451-c000.snappy.parquet\n",
      "parkinsons_data/unlabeled_combined/daily_one_day/part-00601-26ba933d-cb86-4a7c-bca4-56cc7864f451-c000.snappy.parquet\n",
      "parkinsons_data/unlabeled_combined/daily_one_day/part-00629-26ba933d-cb86-4a7c-bca4-56cc7864f451-c000.snappy.parquet\n",
      "parkinsons_data/unlabeled_combined/daily_one_day/part-00657-26ba933d-cb86-4a7c-bca4-56cc7864f451-c000.snappy.parquet\n",
      "parkinsons_data/unlabeled_combined/daily_one_day/part-00685-26ba933d-cb86-4a7c-bca4-56cc7864f451-c000.snappy.parquet\n",
      "parkinsons_data/unlabeled_combined/daily_one_day/part-00713-26ba933d-cb86-4a7c-bca4-56cc7864f451-c000.snappy.parquet\n",
      "parkinsons_data/unlabeled_combined/daily_one_day/part-00741-26ba933d-cb86-4a7c-bca4-56cc7864f451-c000.snappy.parquet\n",
      "parkinsons_data/unlabeled_combined/daily_one_day/part-00769-26ba933d-cb86-4a7c-bca4-56cc7864f451-c000.snappy.parquet\n",
      "parkinsons_data/unlabeled_combined/daily_one_day/part-00797-26ba933d-cb86-4a7c-bca4-56cc7864f451-c000.snappy.parquet\n",
      "parkinsons_data/unlabeled_combined/daily_one_day/part-00825-26ba933d-cb86-4a7c-bca4-56cc7864f451-c000.snappy.parquet\n",
      "parkinsons_data/unlabeled_combined/daily_one_day/part-00853-26ba933d-cb86-4a7c-bca4-56cc7864f451-c000.snappy.parquet\n",
      "parkinsons_data/unlabeled_combined/daily_one_day/part-00881-26ba933d-cb86-4a7c-bca4-56cc7864f451-c000.snappy.parquet\n",
      "parkinsons_data/unlabeled_combined/daily_one_day/part-00909-26ba933d-cb86-4a7c-bca4-56cc7864f451-c000.snappy.parquet\n",
      "parkinsons_data/unlabeled_combined/daily_one_day/part-00937-26ba933d-cb86-4a7c-bca4-56cc7864f451-c000.snappy.parquet\n",
      "parkinsons_data/unlabeled_combined/daily_one_day/part-00965-26ba933d-cb86-4a7c-bca4-56cc7864f451-c000.snappy.parquet\n",
      "parkinsons_data/unlabeled_combined/daily_one_day/part-00993-26ba933d-cb86-4a7c-bca4-56cc7864f451-c000.snappy.parquet\n",
      "parkinsons_data/unlabeled_combined/daily_one_day/part-01021-26ba933d-cb86-4a7c-bca4-56cc7864f451-c000.snappy.parquet\n",
      "parkinsons_data/unlabeled_combined/daily_one_day/part-01049-26ba933d-cb86-4a7c-bca4-56cc7864f451-c000.snappy.parquet\n",
      "parkinsons_data/unlabeled_combined/daily_one_day/part-01077-26ba933d-cb86-4a7c-bca4-56cc7864f451-c000.snappy.parquet\n",
      "parkinsons_data/unlabeled_combined/daily_one_day/part-01105-26ba933d-cb86-4a7c-bca4-56cc7864f451-c000.snappy.parquet\n",
      "parkinsons_data/unlabeled_combined/daily_one_day/part-01133-26ba933d-cb86-4a7c-bca4-56cc7864f451-c000.snappy.parquet\n",
      "parkinsons_data/unlabeled_combined/daily_one_day/part-01161-26ba933d-cb86-4a7c-bca4-56cc7864f451-c000.snappy.parquet\n",
      "parkinsons_data/unlabeled_combined/daily_one_day/part-01189-26ba933d-cb86-4a7c-bca4-56cc7864f451-c000.snappy.parquet\n",
      "parkinsons_data/unlabeled_combined/daily_one_day/part-01217-26ba933d-cb86-4a7c-bca4-56cc7864f451-c000.snappy.parquet\n",
      "parkinsons_data/unlabeled_combined/daily_one_day/part-01245-26ba933d-cb86-4a7c-bca4-56cc7864f451-c000.snappy.parquet\n",
      "parkinsons_data/unlabeled_combined/daily_one_day/part-01273-26ba933d-cb86-4a7c-bca4-56cc7864f451-c000.snappy.parquet\n",
      "parkinsons_data/unlabeled_combined/daily_one_day/part-01301-26ba933d-cb86-4a7c-bca4-56cc7864f451-c000.snappy.parquet\n",
      "parkinsons_data/unlabeled_combined/daily_one_day/part-01329-26ba933d-cb86-4a7c-bca4-56cc7864f451-c000.snappy.parquet\n",
      "parkinsons_data/unlabeled_combined/daily_one_day/part-01357-26ba933d-cb86-4a7c-bca4-56cc7864f451-c000.snappy.parquet\n",
      "parkinsons_data/unlabeled_combined/daily_one_day/part-01385-26ba933d-cb86-4a7c-bca4-56cc7864f451-c000.snappy.parquet\n",
      "parkinsons_data/unlabeled_combined/daily_one_day/part-01413-26ba933d-cb86-4a7c-bca4-56cc7864f451-c000.snappy.parquet\n",
      "parkinsons_data/unlabeled_combined/daily_one_day/part-01441-26ba933d-cb86-4a7c-bca4-56cc7864f451-c000.snappy.parquet\n",
      "parkinsons_data/unlabeled_combined/daily_one_day/part-01469-26ba933d-cb86-4a7c-bca4-56cc7864f451-c000.snappy.parquet\n",
      "parkinsons_data/unlabeled_combined/daily_one_day/part-01497-26ba933d-cb86-4a7c-bca4-56cc7864f451-c000.snappy.parquet\n",
      "parkinsons_data/unlabeled_combined/daily_one_day/part-01525-26ba933d-cb86-4a7c-bca4-56cc7864f451-c000.snappy.parquet\n",
      "parkinsons_data/unlabeled_combined/daily_one_day/part-01553-26ba933d-cb86-4a7c-bca4-56cc7864f451-c000.snappy.parquet\n",
      "parkinsons_data/unlabeled_combined/daily_one_day/part-01581-26ba933d-cb86-4a7c-bca4-56cc7864f451-c000.snappy.parquet\n",
      "parkinsons_data/unlabeled_combined/daily_one_day/part-01609-26ba933d-cb86-4a7c-bca4-56cc7864f451-c000.snappy.parquet\n",
      "parkinsons_data/unlabeled_combined/daily_one_day/part-01637-26ba933d-cb86-4a7c-bca4-56cc7864f451-c000.snappy.parquet\n",
      "parkinsons_data/unlabeled_combined/daily_one_day/part-01665-26ba933d-cb86-4a7c-bca4-56cc7864f451-c000.snappy.parquet\n",
      "parkinsons_data/unlabeled_combined/daily_one_day/part-01693-26ba933d-cb86-4a7c-bca4-56cc7864f451-c000.snappy.parquet\n",
      "parkinsons_data/unlabeled_combined/daily_one_day/part-01721-26ba933d-cb86-4a7c-bca4-56cc7864f451-c000.snappy.parquet\n",
      "parkinsons_data/unlabeled_combined/daily_one_day/part-01749-26ba933d-cb86-4a7c-bca4-56cc7864f451-c000.snappy.parquet\n",
      "parkinsons_data/unlabeled_combined/daily_one_day/part-01777-26ba933d-cb86-4a7c-bca4-56cc7864f451-c000.snappy.parquet\n",
      "parkinsons_data/unlabeled_combined/daily_one_day/part-01805-26ba933d-cb86-4a7c-bca4-56cc7864f451-c000.snappy.parquet\n"
     ]
    }
   ],
   "source": [
    "defog_processed = feed_files(top_bucket_name, defog_path, \".parquet\")\n",
    "daily_processed = feed_files(top_bucket_name, daily_path, \".parquet\")"
   ]
  },
  {
   "cell_type": "code",
   "execution_count": 9,
   "id": "cd7d4b1e-4fa4-46ee-aa97-561893392290",
   "metadata": {},
   "outputs": [
    {
     "name": "stdout",
     "output_type": "stream",
     "text": [
      "['Subject', 'Visit', 'Id', 'Time', 'AccV', 'AccML', 'AccAP', 'StartHesitation', 'Turn', 'Walking', 'Valid', 'Task', 'SourceDefog', 'Medication', 'Age', 'Sex', 'YearsSinceDx', 'UPDRSIII_On', 'UPDRSIII_Off', 'NFOGQ', 'Test', 'TimeSeconds', 'Begin', 'End', 'TaskType', 'MB9', 'Rest1', 'MB6-L', 'MB6-R', 'Turning-C', 'MB2a', 'MB3-L', 'MB12', 'MB5', 'MB3-R', 'MB13', 'TUG-DT', 'Turning-ST', 'TUG-ST', '4MW-C', 'Hotspot2', 'MB6', 'TUG-C', '4MW', 'Hotspot1-C', 'Hotspot2-C', 'MB8', 'Hotspot1', 'MB4', 'MB1', 'MB7', 'Rest2', 'MB2b', 'MB10', 'Turning-DT', 'MB11', 'target']\n",
      "['Subject', 'Id', 'Time', 'AccV', 'AccML', 'AccAP', 'Visit', 'record_begin', 'NFOGQ', 'TimeSeconds']\n"
     ]
    }
   ],
   "source": [
    "print(defog_processed.columns)\n",
    "print(daily_processed.columns)"
   ]
  },
  {
   "cell_type": "code",
   "execution_count": 8,
   "id": "05b41834-6aab-4a8b-a62c-96ec61827ada",
   "metadata": {},
   "outputs": [
    {
     "name": "stderr",
     "output_type": "stream",
     "text": [
      "                                                                                \r"
     ]
    }
   ],
   "source": [
    "defog_processed = vectorize_features(defog_processed, ['AccV', 'AccML', 'AccAP'])\n",
    "daily_processed = vectorize_features(daily_processed, ['AccV', 'AccML', 'AccAP'])\n",
    "\n",
    "defog_processed = standardize_features(defog_processed)\n",
    "daily_processed = standardize_features(daily_processed)"
   ]
  },
  {
   "cell_type": "markdown",
   "id": "f26a8272-fd2b-4aab-b253-0bf83e9c9274",
   "metadata": {},
   "source": [
    "### Use the Silhouette Score to determine ideal number of clusters\n",
    "https://www.data4v.com/tutorial-k-means-clustering-on-spark/"
   ]
  },
  {
   "cell_type": "code",
   "execution_count": null,
   "id": "38f6e6b0-7eed-47d4-a792-59af5cf81511",
   "metadata": {},
   "outputs": [
    {
     "name": "stderr",
     "output_type": "stream",
     "text": [
      "23/05/19 20:29:14 WARN com.github.fommil.netlib.BLAS: Failed to load implementation from: com.github.fommil.netlib.NativeSystemBLAS\n",
      "23/05/19 20:29:15 WARN com.github.fommil.netlib.BLAS: Failed to load implementation from: com.github.fommil.netlib.NativeRefBLAS\n",
      "                                                                                \r"
     ]
    },
    {
     "name": "stdout",
     "output_type": "stream",
     "text": [
      "20\n"
     ]
    },
    {
     "name": "stderr",
     "output_type": "stream",
     "text": [
      "23/05/19 20:39:48 ERROR org.apache.spark.scheduler.AsyncEventQueue: Dropping event from queue dataprocEvent. This likely means one of the listeners is too slow and cannot keep up with the rate at which tasks are being started by the scheduler.\n",
      "23/05/19 20:39:48 WARN org.apache.spark.scheduler.AsyncEventQueue: Dropped 1 events from dataprocEvent since the application started.\n",
      "                                                                                \r"
     ]
    },
    {
     "name": "stdout",
     "output_type": "stream",
     "text": [
      "40\n"
     ]
    },
    {
     "name": "stderr",
     "output_type": "stream",
     "text": [
      "23/05/19 20:40:48 WARN org.apache.spark.scheduler.AsyncEventQueue: Dropped 922 events from dataprocEvent since Fri May 19 20:39:48 UTC 2023.\n",
      "23/05/19 20:41:55 WARN org.apache.spark.scheduler.AsyncEventQueue: Dropped 1024 events from dataprocEvent since Fri May 19 20:40:48 UTC 2023.\n",
      "23/05/19 20:43:03 WARN org.apache.spark.scheduler.AsyncEventQueue: Dropped 1056 events from dataprocEvent since Fri May 19 20:41:55 UTC 2023.\n",
      "23/05/19 20:44:09 WARN org.apache.spark.scheduler.AsyncEventQueue: Dropped 1056 events from dataprocEvent since Fri May 19 20:43:03 UTC 2023.\n",
      "23/05/19 20:45:12 WARN org.apache.spark.scheduler.AsyncEventQueue: Dropped 1056 events from dataprocEvent since Fri May 19 20:44:09 UTC 2023.\n",
      "                                                                                \r"
     ]
    },
    {
     "name": "stdout",
     "output_type": "stream",
     "text": [
      "60\n"
     ]
    },
    {
     "name": "stderr",
     "output_type": "stream",
     "text": [
      "23/05/19 20:46:21 WARN org.apache.spark.scheduler.AsyncEventQueue: Dropped 1056 events from dataprocEvent since Fri May 19 20:45:12 UTC 2023.\n",
      "23/05/19 20:47:29 WARN org.apache.spark.scheduler.AsyncEventQueue: Dropped 1056 events from dataprocEvent since Fri May 19 20:46:21 UTC 2023.\n",
      "23/05/19 20:48:36 WARN org.apache.spark.scheduler.AsyncEventQueue: Dropped 1056 events from dataprocEvent since Fri May 19 20:47:29 UTC 2023.\n",
      "23/05/19 20:49:44 WARN org.apache.spark.scheduler.AsyncEventQueue: Dropped 1056 events from dataprocEvent since Fri May 19 20:48:36 UTC 2023.\n",
      "23/05/19 20:50:49 WARN org.apache.spark.scheduler.AsyncEventQueue: Dropped 1056 events from dataprocEvent since Fri May 19 20:49:44 UTC 2023.\n",
      "                                                                                \r"
     ]
    },
    {
     "name": "stdout",
     "output_type": "stream",
     "text": [
      "80\n"
     ]
    },
    {
     "name": "stderr",
     "output_type": "stream",
     "text": [
      "23/05/19 20:51:56 WARN org.apache.spark.scheduler.AsyncEventQueue: Dropped 1056 events from dataprocEvent since Fri May 19 20:50:49 UTC 2023.\n",
      "23/05/19 20:53:04 WARN org.apache.spark.scheduler.AsyncEventQueue: Dropped 1056 events from dataprocEvent since Fri May 19 20:51:56 UTC 2023.\n",
      "23/05/19 20:54:11 WARN org.apache.spark.scheduler.AsyncEventQueue: Dropped 1056 events from dataprocEvent since Fri May 19 20:53:04 UTC 2023.\n",
      "23/05/19 20:55:20 WARN org.apache.spark.scheduler.AsyncEventQueue: Dropped 1056 events from dataprocEvent since Fri May 19 20:54:11 UTC 2023.\n",
      "23/05/19 20:56:26 WARN org.apache.spark.scheduler.AsyncEventQueue: Dropped 1056 events from dataprocEvent since Fri May 19 20:55:20 UTC 2023.\n",
      "[Stage 5160:===============================================>      (58 + 8) / 66]\r"
     ]
    },
    {
     "name": "stdout",
     "output_type": "stream",
     "text": [
      "max score index 67 0.8337750758336424\n"
     ]
    },
    {
     "name": "stderr",
     "output_type": "stream",
     "text": [
      "                                                                                \r"
     ]
    }
   ],
   "source": [
    "# THIS TAKES VERY LONG TO RUN, the highest silhouette score is at index 67 if you just need the number\n",
    "silhouette_score = []\n",
    "evaluator = ClusteringEvaluator(predictionCol = 'prediction', \\\n",
    "                                featuresCol = 'standardized', \\\n",
    "                                metricName = 'silhouette', \\\n",
    "                                distanceMeasure = 'squaredEuclidean')\n",
    "\n",
    "for i in range(2,100):\n",
    "    kmeans = KMeans(featuresCol = 'standardized', k = i)\n",
    "    kmeans_fit = kmeans.fit(data_scale_output)\n",
    "    output = kmeans_fit.transform(data_scale_output)\n",
    "    \n",
    "    evaluation_score = evaluator.evaluate(output)\n",
    "    silhouette_score.append(evaluation_score)\n",
    "    if i % 20 == 0:\n",
    "        print(i)\n",
    "\n",
    "max_score = max(silhouette_score)\n",
    "print(\"max score index\", silhouette_score.index(max_score), max_score)\n",
    "    "
   ]
  },
  {
   "cell_type": "code",
   "execution_count": 9,
   "id": "33ada420-022d-4276-8b51-ef65a1db07a8",
   "metadata": {},
   "outputs": [
    {
     "data": {
      "text/plain": [
       "Text(0, 0.5, 'Silhouette Score')"
      ]
     },
     "execution_count": 9,
     "metadata": {},
     "output_type": "execute_result"
    },
    {
     "data": {
      "image/png": "[encoded data removed]",
      "text/plain": [
       "<Figure size 1000x800 with 1 Axes>"
      ]
     },
     "metadata": {},
     "output_type": "display_data"
    }
   ],
   "source": [
    "fig, ax = plt.subplots(1,1, figsize = (10,8))\n",
    "ax.plot(range(2,100), silhouette_score)\n",
    "ax.set_xlabel('Number of Clusters')\n",
    "ax.set_ylabel('Silhouette Score')"
   ]
  },
  {
   "cell_type": "markdown",
   "id": "dec91fe8-89d3-4ec9-99c6-c3fbf3b79751",
   "metadata": {},
   "source": [
    "### Add features to Defog with 67 clusters"
   ]
  },
  {
   "cell_type": "code",
   "execution_count": null,
   "id": "5062085d-656e-43e8-b8fc-06b373e7b7ec",
   "metadata": {},
   "outputs": [
    {
     "name": "stderr",
     "output_type": "stream",
     "text": [
      "23/05/20 23:31:56 WARN com.github.fommil.netlib.BLAS: Failed to load implementation from: com.github.fommil.netlib.NativeSystemBLAS\n",
      "23/05/20 23:31:56 WARN com.github.fommil.netlib.BLAS: Failed to load implementation from: com.github.fommil.netlib.NativeRefBLAS\n",
      "                                                                                \r"
     ]
    },
    {
     "name": "stdout",
     "output_type": "stream",
     "text": [
      "+-------+----------+----+--------------------+----------+\n",
      "|Subject|        Id|Time|        standardized|prediction|\n",
      "+-------+----------+----+--------------------+----------+\n",
      "| accced|a2f1a8ab76|   0|[-11.555618077760...|        61|\n",
      "| accced|a2f1a8ab76|   1|[-11.522774455915...|        61|\n",
      "| accced|a2f1a8ab76|   2|[-11.533671773512...|        61|\n",
      "| accced|a2f1a8ab76|   3|[-11.499965923488...|        61|\n",
      "| accced|a2f1a8ab76|   4|[-11.499902208635...|        61|\n",
      "+-------+----------+----+--------------------+----------+\n",
      "only showing top 5 rows\n",
      "\n"
     ]
    }
   ],
   "source": [
    "groups = 67\n",
    "kmeans = KMeans(featuresCol = 'standardized', k = groups, seed = 1)\n",
    "model = kmeans.fit(daily_processed.select('standardized'))\n",
    "transformed = model.transform(defog_processed)\n",
    "transformed = transformed.withColumn(\"prediction_67\", transformed.prediction).drop(\"prediction\")\n",
    "transformed.select(\"Subject\", \"Id\", \"Time\", \"standardized\", \"prediction67\").show(5)"
   ]
  },
  {
   "cell_type": "code",
   "execution_count": 19,
   "id": "cc5dedcc-9675-4098-9591-43d30bb0ca79",
   "metadata": {},
   "outputs": [
    {
     "name": "stderr",
     "output_type": "stream",
     "text": [
      "                                                                                \r"
     ]
    },
    {
     "name": "stdout",
     "output_type": "stream",
     "text": [
      "+-------------+-----+\n",
      "|prediction_67|count|\n",
      "+-------------+-----+\n",
      "|           31|   16|\n",
      "|           65|   27|\n",
      "|           34|   12|\n",
      "|           28|   13|\n",
      "|           27|   33|\n",
      "|           26|    5|\n",
      "|           44| 5963|\n",
      "|           12|   45|\n",
      "|           22|   36|\n",
      "|           47|   43|\n",
      "|            1|   25|\n",
      "|           13|    4|\n",
      "|            6|   20|\n",
      "|           16|    3|\n",
      "|            3|  242|\n",
      "|           20|   57|\n",
      "|           40|   14|\n",
      "|           57|    3|\n",
      "|           54|   77|\n",
      "|           48|  137|\n",
      "+-------------+-----+\n",
      "only showing top 20 rows\n",
      "\n"
     ]
    }
   ],
   "source": [
    "transformed.groupBy(\"prediction_67\").count().show()"
   ]
  },
  {
   "cell_type": "markdown",
   "id": "1fd5f78c-c906-4de5-a375-5650ff65c46c",
   "metadata": {},
   "source": [
    "## Add features to Defog with 4 clusters"
   ]
  },
  {
   "cell_type": "code",
   "execution_count": 12,
   "id": "5a811156-70f4-47db-a67f-b94c3d43b89c",
   "metadata": {},
   "outputs": [],
   "source": [
    "groups = 4\n",
    "kmeans = KMeans(featuresCol = 'standardized', k = groups, seed = 1)\n",
    "model = kmeans.fit(daily_processed.select('standardized'))\n",
    "transformed4 = model.transform(transformed)\n",
    "#transformed4.select(\"Subject\", \"Id\", \"Time\", \"standardized\", \"prediction\").show(5)\n",
    "transformed4 = transformed4.withColumn(\"prediction4\", transformed4.prediction).drop(\"prediction\")"
   ]
  },
  {
   "cell_type": "code",
   "execution_count": 16,
   "id": "4e4ea0e3-6d25-4efe-a5f1-cfccf9492e56",
   "metadata": {},
   "outputs": [
    {
     "name": "stderr",
     "output_type": "stream",
     "text": [
      "[Stage 210:=====================================================> (38 + 1) / 39]\r"
     ]
    },
    {
     "name": "stdout",
     "output_type": "stream",
     "text": [
      "+-----------+--------+\n",
      "|prediction4|   count|\n",
      "+-----------+--------+\n",
      "|          1|13521432|\n",
      "|          3|    1079|\n",
      "|          2|    2943|\n",
      "|          0|     249|\n",
      "+-----------+--------+\n",
      "\n"
     ]
    },
    {
     "name": "stderr",
     "output_type": "stream",
     "text": [
      "                                                                                \r"
     ]
    }
   ],
   "source": [
    "#transformed4.select(\"prediction\").distinct().show()\n",
    "transformed4.groupBy(\"prediction4\").count().show()"
   ]
  },
  {
   "cell_type": "markdown",
   "id": "9cff70d3-3bc8-424f-8a14-538c4c3caabb",
   "metadata": {},
   "source": [
    "## Add in lagging values as features\n",
    "Add in 'AccV', 'AccML', 'AccAP' values to defog as new features for past 10 timesteps, partitioned by person"
   ]
  },
  {
   "cell_type": "code",
   "execution_count": 13,
   "id": "26ee6134-583f-433d-bf19-197e95de74c0",
   "metadata": {},
   "outputs": [
    {
     "name": "stderr",
     "output_type": "stream",
     "text": [
      "                                                                                \r"
     ]
    },
    {
     "name": "stdout",
     "output_type": "stream",
     "text": [
      "+-------+----------+-----------+-----------+\n",
      "|Subject|AccV_lag10|       AccV|prediction4|\n",
      "+-------+----------+-----------+-----------+\n",
      "| 5bfae2|      null| -0.8983334|          1|\n",
      "| 5bfae2|      null|-0.90572405|          1|\n",
      "| 5bfae2|      null| -0.8972374|          1|\n",
      "+-------+----------+-----------+-----------+\n",
      "only showing top 3 rows\n",
      "\n"
     ]
    },
    {
     "name": "stderr",
     "output_type": "stream",
     "text": [
      "                                                                                \r"
     ]
    },
    {
     "name": "stdout",
     "output_type": "stream",
     "text": [
      "+-------+-----------+-----------+-----------+\n",
      "|Subject|AccML_lag10|      AccML|prediction4|\n",
      "+-------+-----------+-----------+-----------+\n",
      "| 5bfae2|       null|-0.14672334|          1|\n",
      "| 5bfae2|       null|-0.13500977|          1|\n",
      "| 5bfae2|       null|-0.14654109|          1|\n",
      "+-------+-----------+-----------+-----------+\n",
      "only showing top 3 rows\n",
      "\n"
     ]
    },
    {
     "name": "stderr",
     "output_type": "stream",
     "text": [
      "[Stage 203:>                                                        (0 + 1) / 1]\r"
     ]
    },
    {
     "name": "stdout",
     "output_type": "stream",
     "text": [
      "+-------+-----------+----------+-----------+\n",
      "|Subject|AccAP_lag10|     AccAP|prediction4|\n",
      "+-------+-----------+----------+-----------+\n",
      "| 5bfae2|       null|0.42330447|          1|\n",
      "| 5bfae2|       null|  0.406467|          1|\n",
      "| 5bfae2|       null| 0.4230957|          1|\n",
      "+-------+-----------+----------+-----------+\n",
      "only showing top 3 rows\n",
      "\n"
     ]
    },
    {
     "name": "stderr",
     "output_type": "stream",
     "text": [
      "                                                                                \r"
     ]
    }
   ],
   "source": [
    "from pyspark.sql.window import Window\n",
    "from pyspark.sql.functions import lag \n",
    "\n",
    "features = ['AccV','AccML','AccAP']\n",
    "\n",
    "for feat in features:\n",
    "    for i in range(1,11):\n",
    "        windowSpec = Window.partitionBy(\"Subject\").orderBy(\"Time\")\n",
    "        transformed4 = transformed4.withColumn(\"{}_lag{}\".format(feat,i),lag(feat, i).over(windowSpec))\n",
    "    transformed4.select(\"Subject\", \"{}_lag{}\".format(feat,i),feat,\"prediction4\").show(3)"
   ]
  },
  {
   "cell_type": "code",
   "execution_count": 15,
   "id": "a60908b6-9e43-4f19-8b0e-9251b9669438",
   "metadata": {},
   "outputs": [
    {
     "name": "stderr",
     "output_type": "stream",
     "text": [
      "[Stage 209:>                                                        (0 + 1) / 1]\r"
     ]
    },
    {
     "name": "stdout",
     "output_type": "stream",
     "text": [
      "+-------------+------------+-------------+------------+-------------+------------+-------------+-----------+\n",
      "|        AccML|       AccAP|   AccML_lag1|  AccAP_lag1|   AccML_lag2|  AccAP_lag2|  AccML_lag10|AccAP_lag10|\n",
      "+-------------+------------+-------------+------------+-------------+------------+-------------+-----------+\n",
      "|  -0.03657596|   0.4044014|         null|        null|         null|        null|         null|       null|\n",
      "|  -0.03500191|   0.3973637|  -0.03657596|   0.4044014|         null|        null|         null|       null|\n",
      "| -0.029427469|  0.38947272|  -0.03500191|   0.3973637|  -0.03657596|   0.4044014|         null|       null|\n",
      "| -0.037811324|   0.4040465| -0.029427469|  0.38947272|  -0.03500191|   0.3973637|         null|       null|\n",
      "|  -0.03285201|  0.40247783| -0.037811324|   0.4040465| -0.029427469|  0.38947272|         null|       null|\n",
      "| -0.034468517|   0.4151124|  -0.03285201|  0.40247783| -0.037811324|   0.4040465|         null|       null|\n",
      "|   0.11424488| -0.13170823| -0.034468517|   0.4151124|  -0.03285201|  0.40247783|         null|       null|\n",
      "|  0.052407525| -0.14113587|   0.11424488| -0.13170823| -0.034468517|   0.4151124|         null|       null|\n",
      "|-0.0067150258| -0.15783235|  0.052407525| -0.14113587|   0.11424488| -0.13170823|         null|       null|\n",
      "| -0.059238072| -0.16078232|-0.0067150258| -0.15783235|  0.052407525| -0.14113587|         null|       null|\n",
      "|  -0.09455315| -0.15147607| -0.059238072| -0.16078232|-0.0067150258| -0.15783235|  -0.03657596|  0.4044014|\n",
      "|  -0.11317259| -0.13095501|  -0.09455315| -0.15147607| -0.059238072| -0.16078232|  -0.03500191|  0.3973637|\n",
      "|  -0.11474315| -0.11482831|  -0.11317259| -0.13095501|  -0.09455315| -0.15147607| -0.029427469| 0.38947272|\n",
      "| -0.091722965|  -0.1033372|  -0.11474315| -0.11482831|  -0.11317259| -0.13095501| -0.037811324|  0.4040465|\n",
      "| -0.047044527|-0.100429796| -0.091722965|  -0.1033372|  -0.11474315| -0.11482831|  -0.03285201| 0.40247783|\n",
      "|  0.017993296| -0.10128993| -0.047044527|-0.100429796| -0.091722965|  -0.1033372| -0.034468517|  0.4151124|\n",
      "| -0.034179688|  0.41339153|  0.017993296| -0.10128993| -0.047044527|-0.100429796|   0.11424488|-0.13170823|\n",
      "|   0.09722037| -0.10000326| -0.034179688|  0.41339153|  0.017993296| -0.10128993|  0.052407525|-0.14113587|\n",
      "|   0.17227618|-0.090018265|   0.09722037| -0.10000326| -0.034179688|  0.41339153|-0.0067150258|-0.15783235|\n",
      "|    0.2363548|-0.073148265|   0.17227618|-0.090018265|   0.09722037| -0.10000326| -0.059238072|-0.16078232|\n",
      "+-------------+------------+-------------+------------+-------------+------------+-------------+-----------+\n",
      "only showing top 20 rows\n",
      "\n"
     ]
    },
    {
     "name": "stderr",
     "output_type": "stream",
     "text": [
      "                                                                                \r"
     ]
    }
   ],
   "source": [
    "# Sanity check for lagged features\n",
    "transformed4.select('AccML','AccAP','AccML_lag1','AccAP_lag1','AccML_lag2','AccAP_lag2','AccML_lag10','AccAP_lag10').show(20)"
   ]
  },
  {
   "cell_type": "code",
   "execution_count": 14,
   "id": "c4de83d6-ba7e-4c63-9aa1-d3adb8571a1c",
   "metadata": {},
   "outputs": [
    {
     "name": "stderr",
     "output_type": "stream",
     "text": [
      "23/05/20 23:49:36 WARN org.apache.spark.sql.catalyst.util.package: Truncated the string representation of a plan since it was too large. This behavior can be adjusted by setting 'spark.sql.debug.maxToStringFields'.\n",
      "                                                                                \r"
     ]
    }
   ],
   "source": [
    "transformed4.write.format(\"parquet\").mode(\"overwrite\").save(\"gs://msca-bdp-student-gcs/parkinsons_data/train/processed/defog_tasks_lagging\")\n"
   ]
  },
  {
   "cell_type": "code",
   "execution_count": null,
   "id": "0bf85bef-3d25-4466-943e-8f3209c10e64",
   "metadata": {},
   "outputs": [],
   "source": []
  }
 ],
 "metadata": {
  "kernelspec": {
   "display_name": "PySpark",
   "language": "python",
   "name": "pyspark"
  },
  "language_info": {
   "codemirror_mode": {
    "name": "ipython",
    "version": 3
   },
   "file_extension": ".py",
   "mimetype": "text/x-python",
   "name": "python",
   "nbconvert_exporter": "python",
   "pygments_lexer": "ipython3",
   "version": "3.8.15"
  }
 },
 "nbformat": 4,
 "nbformat_minor": 5
}
