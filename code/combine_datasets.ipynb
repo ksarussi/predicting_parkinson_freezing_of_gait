{
 "cells": [
  {
   "cell_type": "markdown",
   "id": "101570ab-4fdf-4edf-ae16-a8e94c3e370a",
   "metadata": {},
   "source": [
    "# Feeder\n",
    "## Contents\n",
    "1) Feed and combine DeFog/TDCSFog files\n",
    "2) Join on metadata\n",
    "3) Join on subjects data\n",
    "4) Combine DeFog and TDCSFog into complete fog training data."
   ]
  },
  {
   "cell_type": "code",
   "execution_count": 31,
   "id": "8628dc29-f078-431b-90ee-14feb84f1ebf",
   "metadata": {},
   "outputs": [],
   "source": [
    "import os \n",
    "from utils.utils import *\n",
    "from pyspark.sql.functions import lit, col\n",
    "from pyspark.sql.types import StringType, BooleanType, IntegerType, FloatType, DateType\n",
    "spark = SparkSession.builder.appName(\"PySpark Cloud Test\").getOrCreate()"
   ]
  },
  {
   "cell_type": "code",
   "execution_count": 2,
   "id": "21105cae-c88e-4d1d-9fb9-68a72f6a12fa",
   "metadata": {},
   "outputs": [],
   "source": [
    "spark.conf.set( \"spark.sql.crossJoin.enabled\" , \"true\" ) # enable left outer join"
   ]
  },
  {
   "cell_type": "code",
   "execution_count": 3,
   "id": "b1d8e582-003c-444c-a44a-b60dbab5e01b",
   "metadata": {},
   "outputs": [
    {
     "data": {
      "text/plain": [
       "[('spark.driver.port', '42795'),\n",
       " ('spark.sql.catalogImplementation', 'hive'),\n",
       " ('spark.driver.host', '7a62544a6b07'),\n",
       " ('spark.rpc.message.maxSize', '512'),\n",
       " ('spark.rdd.compress', 'True'),\n",
       " ('spark.serializer.objectStreamReset', '100'),\n",
       " ('spark.master', 'local[*]'),\n",
       " ('spark.executor.id', 'driver'),\n",
       " ('spark.submit.deployMode', 'client'),\n",
       " ('spark.app.id', 'local-1683234607479'),\n",
       " ('spark.app.name', 'PySpark Cloud Test'),\n",
       " ('spark.ui.showConsoleProgress', 'true')]"
      ]
     },
     "execution_count": 3,
     "metadata": {},
     "output_type": "execute_result"
    }
   ],
   "source": [
    "spark.sparkContext.getConf().getAll()"
   ]
  },
  {
   "cell_type": "markdown",
   "id": "235706f5-3939-4f9f-9924-f5b9c1aa557c",
   "metadata": {},
   "source": [
    "## Feed and Combine DeFog/TDCSFog files"
   ]
  },
  {
   "cell_type": "code",
   "execution_count": 4,
   "id": "e2f3cedd-dbe6-4d22-af4a-e06f982625ab",
   "metadata": {},
   "outputs": [],
   "source": [
    "defog_path = 'parkinsons_data/train/defog/'\n",
    "tdcsfog_path = 'parkinsons_data/train/tdcsfog/'\n",
    "defog_files = list_blobs(\"msca-bdp-student-gcs\", string_match=defog_path)\n",
    "tdcsfog_files = list_blobs(\"msca-bdp-student-gcs\", string_match=tdcsfog_path)"
   ]
  },
  {
   "cell_type": "code",
   "execution_count": 5,
   "id": "9d07130f-8601-4447-8422-2698fecd831d",
   "metadata": {},
   "outputs": [
    {
     "name": "stderr",
     "output_type": "stream",
     "text": [
      "                                                                                \r"
     ]
    }
   ],
   "source": [
    "defog_md = spark.read.csv(\"gs://msca-bdp-student-gcs/parkinsons_data/defog_metadata.csv\", header=True)\n",
    "tdcsfog_md = spark.read.csv(\"gs://msca-bdp-student-gcs/parkinsons_data/tdcsfog_metadata.csv\", header=True)\n",
    "subjects = spark.read.csv(\"gs://msca-bdp-student-gcs/parkinsons_data/subjects.csv\", header=True)"
   ]
  },
  {
   "cell_type": "code",
   "execution_count": 45,
   "id": "ae1bdb83-99ad-4a88-9786-f0e847cfb4b9",
   "metadata": {},
   "outputs": [
    {
     "name": "stdout",
     "output_type": "stream",
     "text": [
      "File 1 of 91\n",
      "File 26 of 91\n",
      "File 51 of 91\n",
      "File 76 of 91\n"
     ]
    }
   ],
   "source": [
    "defog = feed_files(defog_files, prefix=defog_path, v=1, spark=spark)"
   ]
  },
  {
   "cell_type": "code",
   "execution_count": 46,
   "id": "e979f603-2c1f-45fa-95dd-6d0440b41782",
   "metadata": {},
   "outputs": [
    {
     "name": "stdout",
     "output_type": "stream",
     "text": [
      "File 1 of 833\n",
      "File 26 of 833\n",
      "File 51 of 833\n",
      "File 76 of 833\n",
      "File 101 of 833\n",
      "File 126 of 833\n",
      "File 151 of 833\n",
      "File 176 of 833\n",
      "File 201 of 833\n",
      "File 226 of 833\n",
      "File 251 of 833\n",
      "File 276 of 833\n",
      "File 301 of 833\n",
      "File 326 of 833\n",
      "File 351 of 833\n",
      "File 376 of 833\n",
      "File 401 of 833\n",
      "File 426 of 833\n",
      "File 451 of 833\n",
      "File 476 of 833\n",
      "File 501 of 833\n",
      "File 526 of 833\n",
      "File 551 of 833\n",
      "File 576 of 833\n",
      "File 601 of 833\n",
      "File 626 of 833\n",
      "File 651 of 833\n",
      "File 676 of 833\n",
      "File 701 of 833\n",
      "File 726 of 833\n",
      "File 751 of 833\n",
      "File 776 of 833\n",
      "File 801 of 833\n",
      "File 826 of 833\n"
     ]
    }
   ],
   "source": [
    "tdcsfog = feed_files(tdcsfog_files, prefix=tdcsfog_path, v=1, spark=spark)"
   ]
  },
  {
   "cell_type": "code",
   "execution_count": 47,
   "id": "1e6c6178-1709-450b-a4cc-6d0a29d51c35",
   "metadata": {},
   "outputs": [],
   "source": [
    "# add data source flag: 1=defog, 0=tdcsfog\n",
    "defog = defog.withColumn(\"SourceDefog\", lit(1))\n",
    "tdcsfog = tdcsfog.withColumn(\"SourceDefog\", lit(0))"
   ]
  },
  {
   "cell_type": "code",
   "execution_count": 48,
   "id": "621cde93-5b0d-4494-bc65-0cc46f51fbf5",
   "metadata": {},
   "outputs": [],
   "source": [
    "defog_count = defog.count()\n",
    "tdcsfog_count = tdcsfog.count()"
   ]
  },
  {
   "cell_type": "code",
   "execution_count": 49,
   "id": "779d15cd-a02f-4c23-962f-88d5701b3476",
   "metadata": {},
   "outputs": [
    {
     "name": "stdout",
     "output_type": "stream",
     "text": [
      "+----+----+------------------+-----+---------------+----+-------+-----+-----+----------+-----------+\n",
      "|Time|AccV|             AccML|AccAP|StartHesitation|Turn|Walking|Valid| Task|        Id|SourceDefog|\n",
      "+----+----+------------------+-----+---------------+----+-------+-----+-----+----------+-----------+\n",
      "|   0|-1.0|0.0441294600297506|-0.25|              0|   0|      0|false|false|02ea782681|          1|\n",
      "|   1|-1.0|0.0344313599752663|-0.25|              0|   0|      0|false|false|02ea782681|          1|\n",
      "|   2|-1.0|           0.03125|-0.25|              0|   0|      0|false|false|02ea782681|          1|\n",
      "|   3|-1.0|           0.03125|-0.25|              0|   0|      0|false|false|02ea782681|          1|\n",
      "|   4|-1.0|           0.03125|-0.25|              0|   0|      0|false|false|02ea782681|          1|\n",
      "+----+----+------------------+-----+---------------+----+-------+-----+-----+----------+-----------+\n",
      "only showing top 5 rows\n",
      "\n",
      "+----+-----------------+-----------------+-----------------+---------------+----+-------+----------+-----------+\n",
      "|Time|             AccV|            AccML|            AccAP|StartHesitation|Turn|Walking|        Id|SourceDefog|\n",
      "+----+-----------------+-----------------+-----------------+---------------+----+-------+----------+-----------+\n",
      "|   0|-9.53393930253288|0.566321631981499|-1.41352531246173|              0|   0|      0|003f117e14|          0|\n",
      "|   1|-9.53614029997918|0.564136952175035| -1.4406209993301|              0|   0|      0|003f117e14|          0|\n",
      "|   2|-9.52934530245762|0.561764770716807|-1.42933154059721|              0|   0|      0|003f117e14|          0|\n",
      "|   3|-9.53123898558684|0.564227314497224|-1.41548975954121|              0|   0|      0|003f117e14|          0|\n",
      "|   4|-9.54082487327138|0.561853506148896|-1.42947071667569|              0|   0|      0|003f117e14|          0|\n",
      "+----+-----------------+-----------------+-----------------+---------------+----+-------+----------+-----------+\n",
      "only showing top 5 rows\n",
      "\n"
     ]
    }
   ],
   "source": [
    "defog.show(5)\n",
    "tdcsfog.show(5)"
   ]
  },
  {
   "cell_type": "code",
   "execution_count": 50,
   "id": "68ccf755-8b56-4f0b-9bc5-9111c7b46326",
   "metadata": {},
   "outputs": [
    {
     "name": "stdout",
     "output_type": "stream",
     "text": [
      "Number of defog observations: 162907\n",
      "Number of tdcsfog observations: 4682\n"
     ]
    }
   ],
   "source": [
    "print(f\"Number of defog observations: {defog_count}\")\n",
    "print(f\"Number of tdcsfog observations: {tdcsfog_count}\")"
   ]
  },
  {
   "cell_type": "markdown",
   "id": "c2bcd93c-a096-42e2-bdaf-b82038989010",
   "metadata": {},
   "source": [
    "## Join on Meta Data"
   ]
  },
  {
   "cell_type": "code",
   "execution_count": 51,
   "id": "31639589-5a9b-4582-99d2-930dc916c092",
   "metadata": {},
   "outputs": [
    {
     "name": "stdout",
     "output_type": "stream",
     "text": [
      "+----------+-------+-----+----------+\n",
      "|        Id|Subject|Visit|Medication|\n",
      "+----------+-------+-----+----------+\n",
      "|02ab235146| ab54e1|    2|        on|\n",
      "|02ea782681| bf608b|    2|        on|\n",
      "|06414383cf| c0b71e|    2|       off|\n",
      "|092b4c1819| b6a627|    1|       off|\n",
      "|0a900ed8a2| b7bd52|    2|        on|\n",
      "+----------+-------+-----+----------+\n",
      "only showing top 5 rows\n",
      "\n"
     ]
    }
   ],
   "source": [
    "defog_md.show(5)"
   ]
  },
  {
   "cell_type": "code",
   "execution_count": 52,
   "id": "e53f2cab-4649-40ee-b570-d0af91416648",
   "metadata": {},
   "outputs": [
    {
     "name": "stdout",
     "output_type": "stream",
     "text": [
      "+----------+-------+-----+----+----------+\n",
      "|        Id|Subject|Visit|Test|Medication|\n",
      "+----------+-------+-----+----+----------+\n",
      "|003f117e14| 13abfd|    3|   2|        on|\n",
      "|009ee11563| d81e3a|    4|   2|        on|\n",
      "|011322847a| 203e85|    2|   2|        on|\n",
      "|01d0fe7266| 203e85|    2|   1|       off|\n",
      "|024418ba39| cecfb8|   19|   3|        on|\n",
      "+----------+-------+-----+----+----------+\n",
      "only showing top 5 rows\n",
      "\n"
     ]
    }
   ],
   "source": [
    "tdcsfog_md.show(5)"
   ]
  },
  {
   "cell_type": "code",
   "execution_count": 53,
   "id": "980c16bc-7685-4792-b448-5ebda771bd52",
   "metadata": {},
   "outputs": [
    {
     "name": "stdout",
     "output_type": "stream",
     "text": [
      "+----------+----+----+------------------+-----+---------------+----+-------+-----+-----+-----------+-------+-----+----------+\n",
      "|        Id|Time|AccV|             AccML|AccAP|StartHesitation|Turn|Walking|Valid| Task|SourceDefog|Subject|Visit|Medication|\n",
      "+----------+----+----+------------------+-----+---------------+----+-------+-----+-----+-----------+-------+-----+----------+\n",
      "|02ea782681|   0|-1.0|0.0441294600297506|-0.25|              0|   0|      0|false|false|          1| bf608b|    2|        on|\n",
      "|02ea782681|   1|-1.0|0.0344313599752663|-0.25|              0|   0|      0|false|false|          1| bf608b|    2|        on|\n",
      "|02ea782681|   2|-1.0|           0.03125|-0.25|              0|   0|      0|false|false|          1| bf608b|    2|        on|\n",
      "|02ea782681|   3|-1.0|           0.03125|-0.25|              0|   0|      0|false|false|          1| bf608b|    2|        on|\n",
      "|02ea782681|   4|-1.0|           0.03125|-0.25|              0|   0|      0|false|false|          1| bf608b|    2|        on|\n",
      "+----------+----+----+------------------+-----+---------------+----+-------+-----+-----+-----------+-------+-----+----------+\n",
      "only showing top 5 rows\n",
      "\n"
     ]
    }
   ],
   "source": [
    "defog1 = defog.join(defog_md, on=\"Id\", how=\"left\")\n",
    "defog1.show(5)"
   ]
  },
  {
   "cell_type": "code",
   "execution_count": 54,
   "id": "17226045-e4e6-4201-9c71-fe71ea0c13bd",
   "metadata": {},
   "outputs": [
    {
     "name": "stdout",
     "output_type": "stream",
     "text": [
      "+----------+----+-----------------+-----------------+-----------------+---------------+----+-------+-----------+-------+-----+----+----------+\n",
      "|        Id|Time|             AccV|            AccML|            AccAP|StartHesitation|Turn|Walking|SourceDefog|Subject|Visit|Test|Medication|\n",
      "+----------+----+-----------------+-----------------+-----------------+---------------+----+-------+-----------+-------+-----+----+----------+\n",
      "|003f117e14|   0|-9.53393930253288|0.566321631981499|-1.41352531246173|              0|   0|      0|          0| 13abfd|    3|   2|        on|\n",
      "|003f117e14|   1|-9.53614029997918|0.564136952175035| -1.4406209993301|              0|   0|      0|          0| 13abfd|    3|   2|        on|\n",
      "|003f117e14|   2|-9.52934530245762|0.561764770716807|-1.42933154059721|              0|   0|      0|          0| 13abfd|    3|   2|        on|\n",
      "|003f117e14|   3|-9.53123898558684|0.564227314497224|-1.41548975954121|              0|   0|      0|          0| 13abfd|    3|   2|        on|\n",
      "|003f117e14|   4|-9.54082487327138|0.561853506148896|-1.42947071667569|              0|   0|      0|          0| 13abfd|    3|   2|        on|\n",
      "+----------+----+-----------------+-----------------+-----------------+---------------+----+-------+-----------+-------+-----+----+----------+\n",
      "only showing top 5 rows\n",
      "\n"
     ]
    }
   ],
   "source": [
    "tdcsfog1 = tdcsfog.join(tdcsfog_md, on=\"Id\", how=\"left\")\n",
    "tdcsfog1.show(5)"
   ]
  },
  {
   "cell_type": "code",
   "execution_count": 55,
   "id": "0c86ecbf-caae-4a2e-ac2e-0eb36133a9df",
   "metadata": {},
   "outputs": [
    {
     "name": "stdout",
     "output_type": "stream",
     "text": [
      "Does defog post-join df have same number of observations as original? --> True\n",
      "Does tdcsfog post-join df have same number of observations as original? --> True\n"
     ]
    }
   ],
   "source": [
    "print(f\"Does defog post-join df have same number of observations as original? --> {defog1.count() == defog_count}\")\n",
    "print(f\"Does tdcsfog post-join df have same number of observations as original? --> {tdcsfog1.count() == tdcsfog_count}\")"
   ]
  },
  {
   "cell_type": "markdown",
   "id": "d5a70116-0013-4237-9b6d-1d33285a1df6",
   "metadata": {},
   "source": [
    "## Join on Subjects Meta Data"
   ]
  },
  {
   "cell_type": "code",
   "execution_count": 56,
   "id": "3cef501b-c0b6-4fec-87dc-8bc2af249440",
   "metadata": {},
   "outputs": [],
   "source": [
    "defog2 = defog1.join(subjects, on=[\"Subject\", \"Visit\"])\n",
    "tdcsfog2 = tdcsfog1.join(subjects.drop(\"Visit\"), on=[\"Subject\"]) # \"Visit\" field not available for tdcs subjects "
   ]
  },
  {
   "cell_type": "code",
   "execution_count": 57,
   "id": "8b134417-f5c5-4425-a0d1-ed60ba8f203e",
   "metadata": {},
   "outputs": [
    {
     "name": "stdout",
     "output_type": "stream",
     "text": [
      "Does defog post-join #2 df have same number of observations as original? --> True\n",
      "Does tdcsfog post-join #2 df have same number of observations as original? --> True\n"
     ]
    }
   ],
   "source": [
    "print(f\"Does defog post-join #2 df have same number of observations as original? --> {defog2.count() == defog_count}\")\n",
    "print(f\"Does tdcsfog post-join #2 df have same number of observations as original? --> {tdcsfog2.count() == tdcsfog_count}\")"
   ]
  },
  {
   "cell_type": "code",
   "execution_count": 58,
   "id": "0fafdebd-318a-49f2-b294-ecf37dc96c81",
   "metadata": {},
   "outputs": [
    {
     "name": "stdout",
     "output_type": "stream",
     "text": [
      "+-------+-----+----------+----+----+------------------+-----+---------------+----+-------+-----+-----+-----------+----------+---+---+------------+-----------+------------+-----+\n",
      "|Subject|Visit|        Id|Time|AccV|             AccML|AccAP|StartHesitation|Turn|Walking|Valid| Task|SourceDefog|Medication|Age|Sex|YearsSinceDx|UPDRSIII_On|UPDRSIII_Off|NFOGQ|\n",
      "+-------+-----+----------+----+----+------------------+-----+---------------+----+-------+-----+-----+-----------+----------+---+---+------------+-----------+------------+-----+\n",
      "| bf608b|    2|02ea782681|   0|-1.0|0.0441294600297506|-0.25|              0|   0|      0|false|false|          1|        on| 67|  M|         7.0|         14|          57|   19|\n",
      "| bf608b|    2|02ea782681|   1|-1.0|0.0344313599752663|-0.25|              0|   0|      0|false|false|          1|        on| 67|  M|         7.0|         14|          57|   19|\n",
      "| bf608b|    2|02ea782681|   2|-1.0|           0.03125|-0.25|              0|   0|      0|false|false|          1|        on| 67|  M|         7.0|         14|          57|   19|\n",
      "| bf608b|    2|02ea782681|   3|-1.0|           0.03125|-0.25|              0|   0|      0|false|false|          1|        on| 67|  M|         7.0|         14|          57|   19|\n",
      "| bf608b|    2|02ea782681|   4|-1.0|           0.03125|-0.25|              0|   0|      0|false|false|          1|        on| 67|  M|         7.0|         14|          57|   19|\n",
      "+-------+-----+----------+----+----+------------------+-----+---------------+----+-------+-----+-----+-----------+----------+---+---+------------+-----------+------------+-----+\n",
      "only showing top 5 rows\n",
      "\n"
     ]
    }
   ],
   "source": [
    "defog2.show(5)"
   ]
  },
  {
   "cell_type": "code",
   "execution_count": 59,
   "id": "eb6d8de2-c550-4745-b108-7978e2ca2006",
   "metadata": {},
   "outputs": [
    {
     "name": "stdout",
     "output_type": "stream",
     "text": [
      "+-------+----------+----+-----------------+-----------------+-----------------+---------------+----+-------+-----------+-----+----+----------+---+---+------------+-----------+------------+-----+\n",
      "|Subject|        Id|Time|             AccV|            AccML|            AccAP|StartHesitation|Turn|Walking|SourceDefog|Visit|Test|Medication|Age|Sex|YearsSinceDx|UPDRSIII_On|UPDRSIII_Off|NFOGQ|\n",
      "+-------+----------+----+-----------------+-----------------+-----------------+---------------+----+-------+-----------+-----+----+----------+---+---+------------+-----------+------------+-----+\n",
      "| 13abfd|003f117e14|   0|-9.53393930253288|0.566321631981499|-1.41352531246173|              0|   0|      0|          0|    3|   2|        on| 68|  F|         9.0|         17|          15|   15|\n",
      "| 13abfd|003f117e14|   1|-9.53614029997918|0.564136952175035| -1.4406209993301|              0|   0|      0|          0|    3|   2|        on| 68|  F|         9.0|         17|          15|   15|\n",
      "| 13abfd|003f117e14|   2|-9.52934530245762|0.561764770716807|-1.42933154059721|              0|   0|      0|          0|    3|   2|        on| 68|  F|         9.0|         17|          15|   15|\n",
      "| 13abfd|003f117e14|   3|-9.53123898558684|0.564227314497224|-1.41548975954121|              0|   0|      0|          0|    3|   2|        on| 68|  F|         9.0|         17|          15|   15|\n",
      "| 13abfd|003f117e14|   4|-9.54082487327138|0.561853506148896|-1.42947071667569|              0|   0|      0|          0|    3|   2|        on| 68|  F|         9.0|         17|          15|   15|\n",
      "+-------+----------+----+-----------------+-----------------+-----------------+---------------+----+-------+-----------+-----+----+----------+---+---+------------+-----------+------------+-----+\n",
      "only showing top 5 rows\n",
      "\n"
     ]
    }
   ],
   "source": [
    "tdcsfog2.show(5)"
   ]
  },
  {
   "cell_type": "markdown",
   "id": "92a9dcd9-7f8e-4aa7-a821-8b3ff20b5c19",
   "metadata": {},
   "source": [
    "## Combine files\n",
    "Add in missing fields for each"
   ]
  },
  {
   "cell_type": "code",
   "execution_count": 60,
   "id": "52204b3d-da40-428a-9e00-f57c55230338",
   "metadata": {},
   "outputs": [],
   "source": [
    "defog_Hz = 100\n",
    "defog2 = defog2.withColumn(\"Test\", lit('null')) \\\n",
    "    .withColumn(\"TimeSeconds\", convert_time(col(\"Time\").cast(IntegerType()), Hz=defog_Hz))\n"
   ]
  },
  {
   "cell_type": "code",
   "execution_count": 61,
   "id": "58e1c901-d6d9-40df-977b-091d5fc45889",
   "metadata": {},
   "outputs": [
    {
     "name": "stdout",
     "output_type": "stream",
     "text": [
      "+----+-----------+\n",
      "|Time|TimeSeconds|\n",
      "+----+-----------+\n",
      "|   0|        0.0|\n",
      "|   1|       0.01|\n",
      "|   2|       0.02|\n",
      "|   3|       0.03|\n",
      "|   4|       0.04|\n",
      "|   5|       0.05|\n",
      "+----+-----------+\n",
      "only showing top 6 rows\n",
      "\n"
     ]
    }
   ],
   "source": [
    "defog2.select([\"Time\", \"TimeSeconds\"]).show(6)"
   ]
  },
  {
   "cell_type": "code",
   "execution_count": 62,
   "id": "9754f782-07b1-4817-bbba-d4fb3b3c1fd2",
   "metadata": {},
   "outputs": [],
   "source": [
    "tdcsfog2_Hz = 128\n",
    "tdcsfog2 = tdcsfog2.withColumn(\"Valid\", lit('null')) \\\n",
    "    .withColumn(\"Task\", lit('null')) \\\n",
    "    .withColumn(\"TimeSeconds\", convert_time(col(\"Time\").cast(IntegerType()), Hz=tdcsfog2_Hz))"
   ]
  },
  {
   "cell_type": "code",
   "execution_count": 63,
   "id": "5d39e2ba-d1d5-4135-91f0-62dda4270add",
   "metadata": {},
   "outputs": [
    {
     "name": "stdout",
     "output_type": "stream",
     "text": [
      "+----+-----------+\n",
      "|Time|TimeSeconds|\n",
      "+----+-----------+\n",
      "|   0|        0.0|\n",
      "|   1|       0.01|\n",
      "|   2|       0.02|\n",
      "|   3|       0.03|\n",
      "|   4|       0.04|\n",
      "|   5|       0.05|\n",
      "+----+-----------+\n",
      "only showing top 6 rows\n",
      "\n"
     ]
    }
   ],
   "source": [
    "defog2.select([\"Time\", \"TimeSeconds\"]).show(6)"
   ]
  },
  {
   "cell_type": "code",
   "execution_count": null,
   "id": "f4b5d1fa-b323-4662-b3ca-fe5f2c154bcd",
   "metadata": {},
   "outputs": [],
   "source": [
    "tdcsfog2 = tdcsfog2.select(defog2.columns)\n",
    "if defog2.columns == tdcsfog2.columns:  \n",
    "    fog = defog2.union(tdcsfog2)\n",
    "    fog.show(5)\n",
    "else:\n",
    "    print(\"ERROR - MAKE SURE COLUMNS OF TWO DATASETS ARE EQUAL BEFORE PERFORMING UNION\")"
   ]
  },
  {
   "cell_type": "code",
   "execution_count": 64,
   "id": "3f63a252-4e36-474e-b252-5cb8929b91e3",
   "metadata": {},
   "outputs": [
    {
     "name": "stdout",
     "output_type": "stream",
     "text": [
      "+-------+-----+----------+----+----+------------------+-----+---------------+----+-------+-----+-----+-----------+----------+---+---+------------+-----------+------------+-----+----+-----------+\n",
      "|Subject|Visit|        Id|Time|AccV|             AccML|AccAP|StartHesitation|Turn|Walking|Valid| Task|SourceDefog|Medication|Age|Sex|YearsSinceDx|UPDRSIII_On|UPDRSIII_Off|NFOGQ|Test|TimeSeconds|\n",
      "+-------+-----+----------+----+----+------------------+-----+---------------+----+-------+-----+-----+-----------+----------+---+---+------------+-----------+------------+-----+----+-----------+\n",
      "| bf608b|    2|02ea782681|   0|-1.0|0.0441294600297506|-0.25|              0|   0|      0|false|false|          1|        on| 67|  M|         7.0|         14|          57|   19|null|        0.0|\n",
      "| bf608b|    2|02ea782681|   1|-1.0|0.0344313599752663|-0.25|              0|   0|      0|false|false|          1|        on| 67|  M|         7.0|         14|          57|   19|null|       0.01|\n",
      "| bf608b|    2|02ea782681|   2|-1.0|           0.03125|-0.25|              0|   0|      0|false|false|          1|        on| 67|  M|         7.0|         14|          57|   19|null|       0.02|\n",
      "| bf608b|    2|02ea782681|   3|-1.0|           0.03125|-0.25|              0|   0|      0|false|false|          1|        on| 67|  M|         7.0|         14|          57|   19|null|       0.03|\n",
      "| bf608b|    2|02ea782681|   4|-1.0|           0.03125|-0.25|              0|   0|      0|false|false|          1|        on| 67|  M|         7.0|         14|          57|   19|null|       0.04|\n",
      "+-------+-----+----------+----+----+------------------+-----+---------------+----+-------+-----+-----+-----------+----------+---+---+------------+-----------+------------+-----+----+-----------+\n",
      "only showing top 5 rows\n",
      "\n"
     ]
    }
   ],
   "source": [
    "fog = defog2.union(tdcsfog2)\n",
    "fog.show(5)"
   ]
  },
  {
   "cell_type": "code",
   "execution_count": 65,
   "id": "caaf3518-a42b-43b1-afb9-b70c115d2ba2",
   "metadata": {},
   "outputs": [
    {
     "name": "stdout",
     "output_type": "stream",
     "text": [
      "root\n",
      " |-- Subject: string (nullable = true)\n",
      " |-- Visit: string (nullable = true)\n",
      " |-- Id: string (nullable = true)\n",
      " |-- Time: string (nullable = true)\n",
      " |-- AccV: string (nullable = true)\n",
      " |-- AccML: string (nullable = true)\n",
      " |-- AccAP: string (nullable = true)\n",
      " |-- StartHesitation: string (nullable = true)\n",
      " |-- Turn: string (nullable = true)\n",
      " |-- Walking: string (nullable = true)\n",
      " |-- Valid: string (nullable = true)\n",
      " |-- Task: string (nullable = true)\n",
      " |-- SourceDefog: string (nullable = true)\n",
      " |-- Medication: string (nullable = true)\n",
      " |-- Age: string (nullable = true)\n",
      " |-- Sex: string (nullable = true)\n",
      " |-- YearsSinceDx: string (nullable = true)\n",
      " |-- UPDRSIII_On: string (nullable = true)\n",
      " |-- UPDRSIII_Off: string (nullable = true)\n",
      " |-- NFOGQ: string (nullable = true)\n",
      " |-- Test: string (nullable = false)\n",
      " |-- TimeSeconds: double (nullable = true)\n",
      "\n"
     ]
    }
   ],
   "source": [
    "fog.printSchema()"
   ]
  },
  {
   "cell_type": "code",
   "execution_count": 66,
   "id": "a204da4b-c00c-42e3-aeb5-4796185d49ac",
   "metadata": {},
   "outputs": [],
   "source": [
    "# convert data types\n",
    "fog = fog.withColumn(\"AccV\", col(\"AccV\").cast(FloatType())) \\\n",
    "    .withColumn(\"AccML\", col(\"AccML\").cast(FloatType())) \\\n",
    "    .withColumn(\"AccAP\", col(\"AccAP\").cast(FloatType())) \\\n",
    "    .withColumn(\"StartHesitation\", col(\"StartHesitation\").cast(IntegerType())) \\\n",
    "    .withColumn(\"Turn\", col(\"Turn\").cast(IntegerType())) \\\n",
    "    .withColumn(\"Walking\", col(\"Walking\").cast(IntegerType())) \\\n",
    "    .withColumn(\"StartHesitation\", col(\"StartHesitation\").cast(IntegerType())) \\\n",
    "    .withColumn(\"Valid\", col(\"Valid\").cast(BooleanType())) \\\n",
    "    .withColumn(\"Task\", col(\"Task\").cast(BooleanType())) \\\n",
    "    .withColumn(\"SourceDefog\", col(\"SourceDefog\").cast(IntegerType())) \\\n",
    "    .withColumn(\"Age\", col(\"Age\").cast(IntegerType())) \\\n",
    "    .withColumn(\"YearsSinceDx\", col(\"YearsSinceDx\").cast(IntegerType())) \\\n",
    "    .withColumn(\"UPDRSIII_On\", col(\"UPDRSIII_On\").cast(IntegerType())) \\\n",
    "    .withColumn(\"UPDRSIII_Off\", col(\"UPDRSIII_Off\").cast(IntegerType())) \\\n",
    "    .withColumn(\"NFOGQ\", col(\"NFOGQ\").cast(IntegerType()))\n",
    "\n",
    "\n",
    "\n",
    "                "
   ]
  },
  {
   "cell_type": "code",
   "execution_count": 67,
   "id": "6ca4d31d-8e5f-4c03-90ce-6f302fcc5de4",
   "metadata": {},
   "outputs": [
    {
     "name": "stdout",
     "output_type": "stream",
     "text": [
      "root\n",
      " |-- Subject: string (nullable = true)\n",
      " |-- Visit: string (nullable = true)\n",
      " |-- Id: string (nullable = true)\n",
      " |-- Time: string (nullable = true)\n",
      " |-- AccV: float (nullable = true)\n",
      " |-- AccML: float (nullable = true)\n",
      " |-- AccAP: float (nullable = true)\n",
      " |-- StartHesitation: integer (nullable = true)\n",
      " |-- Turn: integer (nullable = true)\n",
      " |-- Walking: integer (nullable = true)\n",
      " |-- Valid: boolean (nullable = true)\n",
      " |-- Task: boolean (nullable = true)\n",
      " |-- SourceDefog: integer (nullable = true)\n",
      " |-- Medication: string (nullable = true)\n",
      " |-- Age: integer (nullable = true)\n",
      " |-- Sex: string (nullable = true)\n",
      " |-- YearsSinceDx: integer (nullable = true)\n",
      " |-- UPDRSIII_On: integer (nullable = true)\n",
      " |-- UPDRSIII_Off: integer (nullable = true)\n",
      " |-- NFOGQ: integer (nullable = true)\n",
      " |-- Test: string (nullable = false)\n",
      " |-- TimeSeconds: double (nullable = true)\n",
      "\n"
     ]
    }
   ],
   "source": [
    "fog.printSchema()"
   ]
  },
  {
   "cell_type": "code",
   "execution_count": 72,
   "id": "93733b4d-690a-4171-88de-1957791592b8",
   "metadata": {},
   "outputs": [
    {
     "name": "stderr",
     "output_type": "stream",
     "text": [
      "                                                                                \r"
     ]
    }
   ],
   "source": [
    "fog.write.option(\"header\",True) \\\n",
    "    .csv(\"gs://msca-bdp-student-gcs/parkinsons_data/train/processed/\")"
   ]
  },
  {
   "cell_type": "code",
   "execution_count": 73,
   "id": "aae8ed20-11af-4bf8-837b-3b93fc054038",
   "metadata": {},
   "outputs": [],
   "source": [
    "# check files wrote out\n",
    "fog_path = \"parkinsons_data/train/processed\"\n",
    "fog_files = list_blobs(\"msca-bdp-student-gcs\", string_match=fog_path)"
   ]
  },
  {
   "cell_type": "code",
   "execution_count": 74,
   "id": "cc7a0f3b-0d54-46e4-b36d-e12c2aee55cd",
   "metadata": {},
   "outputs": [
    {
     "data": {
      "text/plain": [
       "['/',\n",
       " '/_SUCCESS',\n",
       " '/part-00000-559c010c-9dc3-4566-ba1f-2e70aa86e661-c000.csv',\n",
       " '/part-00001-559c010c-9dc3-4566-ba1f-2e70aa86e661-c000.csv',\n",
       " '/part-00002-559c010c-9dc3-4566-ba1f-2e70aa86e661-c000.csv',\n",
       " '/part-00003-559c010c-9dc3-4566-ba1f-2e70aa86e661-c000.csv']"
      ]
     },
     "execution_count": 74,
     "metadata": {},
     "output_type": "execute_result"
    }
   ],
   "source": [
    "fog_files"
   ]
  },
  {
   "cell_type": "code",
   "execution_count": null,
   "id": "a3dd5a65-59c7-4f02-bbc6-b05839f94a86",
   "metadata": {},
   "outputs": [],
   "source": []
  }
 ],
 "metadata": {
  "kernelspec": {
   "display_name": "PySpark (Local)",
   "language": "python",
   "name": "local-pyspark"
  },
  "language_info": {
   "codemirror_mode": {
    "name": "ipython",
    "version": 3
   },
   "file_extension": ".py",
   "mimetype": "text/x-python",
   "name": "python",
   "nbconvert_exporter": "python",
   "pygments_lexer": "ipython3",
   "version": "3.7.12"
  }
 },
 "nbformat": 4,
 "nbformat_minor": 5
}
