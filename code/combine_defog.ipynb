{
 "cells": [
  {
   "cell_type": "markdown",
   "id": "101570ab-4fdf-4edf-ae16-a8e94c3e370a",
   "metadata": {},
   "source": [
    "# Feeder\n",
    "## Contents\n",
    "1) Feed and combine DeFog files\n",
    "2) Join on metadata\n",
    "3) Join on subjects data\n",
    "4) Combine DeFog into complete fog training data."
   ]
  },
  {
   "cell_type": "code",
   "execution_count": 10,
   "id": "8628dc29-f078-431b-90ee-14feb84f1ebf",
   "metadata": {},
   "outputs": [],
   "source": [
    "import os \n",
    "from utils.utils import *\n",
    "\n",
    "# from fog.code.utils.utils import *\n",
    "from pyspark.sql.functions import lit, col\n",
    "from pyspark.sql.types import StringType, BooleanType, IntegerType, FloatType, DateType\n",
    "spark = SparkSession.builder.appName(\"PySpark Cloud Test\").getOrCreate()\n",
    "# conf = spark.sparkContext._conf.setAll([('spark.executor.memory', '16g'), ('spark.app.name', 'Spark Updated Conf'), ('spark.executor.cores', '4'), ('spark.cores.max', '4'), ('spark.driver.memory','16g')])"
   ]
  },
  {
   "cell_type": "code",
   "execution_count": 11,
   "id": "21105cae-c88e-4d1d-9fb9-68a72f6a12fa",
   "metadata": {},
   "outputs": [],
   "source": [
    "spark.conf.set( \"spark.sql.crossJoin.enabled\" , \"true\" ) # enable left outer join"
   ]
  },
  {
   "cell_type": "code",
   "execution_count": 12,
   "id": "b1d8e582-003c-444c-a44a-b60dbab5e01b",
   "metadata": {},
   "outputs": [
    {
     "data": {
      "text/plain": [
       "[('spark.sql.catalogImplementation', 'hive'),\n",
       " ('spark.rpc.message.maxSize', '512'),\n",
       " ('spark.rdd.compress', 'True'),\n",
       " ('spark.driver.port', '39731'),\n",
       " ('spark.serializer.objectStreamReset', '100'),\n",
       " ('spark.master', 'local[*]'),\n",
       " ('spark.executor.id', 'driver'),\n",
       " ('spark.submit.deployMode', 'client'),\n",
       " ('spark.app.id', 'local-1684349063489'),\n",
       " ('spark.app.name', 'PySpark Cloud Test'),\n",
       " ('spark.driver.host', 'd472094d0485'),\n",
       " ('spark.ui.showConsoleProgress', 'true')]"
      ]
     },
     "execution_count": 12,
     "metadata": {},
     "output_type": "execute_result"
    }
   ],
   "source": [
    "spark.sparkContext.getConf().getAll()"
   ]
  },
  {
   "cell_type": "markdown",
   "id": "235706f5-3939-4f9f-9924-f5b9c1aa557c",
   "metadata": {},
   "source": [
    "## Feed and Combine DeFog Files\n"
   ]
  },
  {
   "cell_type": "code",
   "execution_count": 13,
   "id": "e2f3cedd-dbe6-4d22-af4a-e06f982625ab",
   "metadata": {},
   "outputs": [],
   "source": [
    "defog_path = 'parkinsons_data/train/defog/'\n",
    "defog_files = list_blobs(\"msca-bdp-student-gcs\", string_match=defog_path)\n"
   ]
  },
  {
   "cell_type": "code",
   "execution_count": 14,
   "id": "9d07130f-8601-4447-8422-2698fecd831d",
   "metadata": {},
   "outputs": [],
   "source": [
    "defog_md = spark.read.csv(\"gs://msca-bdp-student-gcs/parkinsons_data/defog_metadata.csv\", header=True)\n",
    "subjects = spark.read.csv(\"gs://msca-bdp-student-gcs/parkinsons_data/subjects.csv\", header=True)"
   ]
  },
  {
   "cell_type": "code",
   "execution_count": 15,
   "id": "ae1bdb83-99ad-4a88-9786-f0e847cfb4b9",
   "metadata": {},
   "outputs": [
    {
     "name": "stdout",
     "output_type": "stream",
     "text": [
      "File 1 of 91\n",
      "File 26 of 91\n",
      "File 51 of 91\n",
      "File 76 of 91\n"
     ]
    }
   ],
   "source": [
    "defog = feed_files(defog_files, prefix=defog_path, v=1, spark=spark)"
   ]
  },
  {
   "cell_type": "code",
   "execution_count": 16,
   "id": "1e6c6178-1709-450b-a4cc-6d0a29d51c35",
   "metadata": {},
   "outputs": [],
   "source": [
    "# add data source flag: 1=defog, 0=tdcsfog\n",
    "defog = defog.withColumn(\"SourceDefog\", lit(1))"
   ]
  },
  {
   "cell_type": "code",
   "execution_count": 17,
   "id": "621cde93-5b0d-4494-bc65-0cc46f51fbf5",
   "metadata": {},
   "outputs": [
    {
     "name": "stderr",
     "output_type": "stream",
     "text": [
      "                                                                                \r"
     ]
    }
   ],
   "source": [
    "defog_count = defog.count()"
   ]
  },
  {
   "cell_type": "code",
   "execution_count": 18,
   "id": "779d15cd-a02f-4c23-962f-88d5701b3476",
   "metadata": {},
   "outputs": [
    {
     "name": "stdout",
     "output_type": "stream",
     "text": [
      "+----+----+------------------+-----+---------------+----+-------+-----+-----+----------+-----------+\n",
      "|Time|AccV|             AccML|AccAP|StartHesitation|Turn|Walking|Valid| Task|        Id|SourceDefog|\n",
      "+----+----+------------------+-----+---------------+----+-------+-----+-----+----------+-----------+\n",
      "|   0|-1.0|0.0441294600297506|-0.25|              0|   0|      0|false|false|02ea782681|          1|\n",
      "|   1|-1.0|0.0344313599752663|-0.25|              0|   0|      0|false|false|02ea782681|          1|\n",
      "|   2|-1.0|           0.03125|-0.25|              0|   0|      0|false|false|02ea782681|          1|\n",
      "|   3|-1.0|           0.03125|-0.25|              0|   0|      0|false|false|02ea782681|          1|\n",
      "|   4|-1.0|           0.03125|-0.25|              0|   0|      0|false|false|02ea782681|          1|\n",
      "+----+----+------------------+-----+---------------+----+-------+-----+-----+----------+-----------+\n",
      "only showing top 5 rows\n",
      "\n"
     ]
    }
   ],
   "source": [
    "defog.show(5)"
   ]
  },
  {
   "cell_type": "code",
   "execution_count": 19,
   "id": "68ccf755-8b56-4f0b-9bc5-9111c7b46326",
   "metadata": {},
   "outputs": [
    {
     "name": "stdout",
     "output_type": "stream",
     "text": [
      "Number of defog observations: 13525702\n"
     ]
    }
   ],
   "source": [
    "print(f\"Number of defog observations: {defog_count}\")"
   ]
  },
  {
   "cell_type": "markdown",
   "id": "c2bcd93c-a096-42e2-bdaf-b82038989010",
   "metadata": {},
   "source": [
    "## Join on Meta Data"
   ]
  },
  {
   "cell_type": "code",
   "execution_count": 20,
   "id": "31639589-5a9b-4582-99d2-930dc916c092",
   "metadata": {},
   "outputs": [
    {
     "name": "stdout",
     "output_type": "stream",
     "text": [
      "+----------+-------+-----+----------+\n",
      "|        Id|Subject|Visit|Medication|\n",
      "+----------+-------+-----+----------+\n",
      "|02ab235146| ab54e1|    2|        on|\n",
      "|02ea782681| bf608b|    2|        on|\n",
      "|06414383cf| c0b71e|    2|       off|\n",
      "|092b4c1819| b6a627|    1|       off|\n",
      "|0a900ed8a2| b7bd52|    2|        on|\n",
      "+----------+-------+-----+----------+\n",
      "only showing top 5 rows\n",
      "\n"
     ]
    }
   ],
   "source": [
    "defog_md.show(5)"
   ]
  },
  {
   "cell_type": "code",
   "execution_count": 21,
   "id": "980c16bc-7685-4792-b448-5ebda771bd52",
   "metadata": {},
   "outputs": [],
   "source": [
    "defog1 = defog.join(defog_md, on=\"Id\", how=\"left\")\n",
    "#defog1.show(5)"
   ]
  },
  {
   "cell_type": "code",
   "execution_count": 22,
   "id": "0c86ecbf-caae-4a2e-ac2e-0eb36133a9df",
   "metadata": {},
   "outputs": [
    {
     "name": "stderr",
     "output_type": "stream",
     "text": [
      "[Stage 1026:===================================================>(266 + 3) / 269]"
     ]
    },
    {
     "name": "stdout",
     "output_type": "stream",
     "text": [
      "Does defog post-join df have same number of observations as original? --> True\n"
     ]
    },
    {
     "name": "stderr",
     "output_type": "stream",
     "text": [
      "                                                                                \r"
     ]
    }
   ],
   "source": [
    "print(f\"Does defog post-join df have same number of observations as original? --> {defog1.count() == defog_count}\")"
   ]
  },
  {
   "cell_type": "markdown",
   "id": "d5a70116-0013-4237-9b6d-1d33285a1df6",
   "metadata": {},
   "source": [
    "## Join on Subjects Meta Data"
   ]
  },
  {
   "cell_type": "code",
   "execution_count": 23,
   "id": "3cef501b-c0b6-4fec-87dc-8bc2af249440",
   "metadata": {},
   "outputs": [],
   "source": [
    "defog2 = defog1.join(subjects, on=[\"Subject\", \"Visit\"])"
   ]
  },
  {
   "cell_type": "code",
   "execution_count": 24,
   "id": "8b134417-f5c5-4425-a0d1-ed60ba8f203e",
   "metadata": {},
   "outputs": [
    {
     "name": "stderr",
     "output_type": "stream",
     "text": [
      "[Stage 1030:===================================================>(264 + 4) / 269]"
     ]
    },
    {
     "name": "stdout",
     "output_type": "stream",
     "text": [
      "Does defog post-join #2 df have same number of observations as original? --> True\n"
     ]
    },
    {
     "name": "stderr",
     "output_type": "stream",
     "text": [
      "                                                                                \r"
     ]
    }
   ],
   "source": [
    "print(f\"Does defog post-join #2 df have same number of observations as original? --> {defog2.count() == defog_count}\")"
   ]
  },
  {
   "cell_type": "code",
   "execution_count": 25,
   "id": "0fafdebd-318a-49f2-b294-ecf37dc96c81",
   "metadata": {},
   "outputs": [
    {
     "name": "stdout",
     "output_type": "stream",
     "text": [
      "+-------+-----+----------+----+----+------------------+-----+---------------+----+-------+-----+-----+-----------+----------+---+---+------------+-----------+------------+-----+\n",
      "|Subject|Visit|        Id|Time|AccV|             AccML|AccAP|StartHesitation|Turn|Walking|Valid| Task|SourceDefog|Medication|Age|Sex|YearsSinceDx|UPDRSIII_On|UPDRSIII_Off|NFOGQ|\n",
      "+-------+-----+----------+----+----+------------------+-----+---------------+----+-------+-----+-----+-----------+----------+---+---+------------+-----------+------------+-----+\n",
      "| bf608b|    2|02ea782681|   0|-1.0|0.0441294600297506|-0.25|              0|   0|      0|false|false|          1|        on| 67|  M|         7.0|         14|          57|   19|\n",
      "| bf608b|    2|02ea782681|   1|-1.0|0.0344313599752663|-0.25|              0|   0|      0|false|false|          1|        on| 67|  M|         7.0|         14|          57|   19|\n",
      "| bf608b|    2|02ea782681|   2|-1.0|           0.03125|-0.25|              0|   0|      0|false|false|          1|        on| 67|  M|         7.0|         14|          57|   19|\n",
      "| bf608b|    2|02ea782681|   3|-1.0|           0.03125|-0.25|              0|   0|      0|false|false|          1|        on| 67|  M|         7.0|         14|          57|   19|\n",
      "| bf608b|    2|02ea782681|   4|-1.0|           0.03125|-0.25|              0|   0|      0|false|false|          1|        on| 67|  M|         7.0|         14|          57|   19|\n",
      "+-------+-----+----------+----+----+------------------+-----+---------------+----+-------+-----+-----+-----------+----------+---+---+------------+-----------+------------+-----+\n",
      "only showing top 5 rows\n",
      "\n"
     ]
    }
   ],
   "source": [
    "defog2.show(5)"
   ]
  },
  {
   "cell_type": "markdown",
   "id": "92a9dcd9-7f8e-4aa7-a821-8b3ff20b5c19",
   "metadata": {},
   "source": [
    "## Combine files\n",
    "Add in missing fields for each"
   ]
  },
  {
   "cell_type": "code",
   "execution_count": 26,
   "id": "52204b3d-da40-428a-9e00-f57c55230338",
   "metadata": {},
   "outputs": [],
   "source": [
    "defog_Hz = 100\n",
    "defog2 = defog2.withColumn(\"Test\", lit('null')) \\\n",
    "    .withColumn(\"TimeSeconds\", convert_time(col(\"Time\").cast(IntegerType()), Hz=defog_Hz))\n"
   ]
  },
  {
   "cell_type": "code",
   "execution_count": 27,
   "id": "58e1c901-d6d9-40df-977b-091d5fc45889",
   "metadata": {},
   "outputs": [
    {
     "name": "stdout",
     "output_type": "stream",
     "text": [
      "+----+-----------+\n",
      "|Time|TimeSeconds|\n",
      "+----+-----------+\n",
      "|   0|        0.0|\n",
      "|   1|       0.01|\n",
      "|   2|       0.02|\n",
      "|   3|       0.03|\n",
      "|   4|       0.04|\n",
      "|   5|       0.05|\n",
      "+----+-----------+\n",
      "only showing top 6 rows\n",
      "\n"
     ]
    }
   ],
   "source": [
    "defog2.select([\"Time\", \"TimeSeconds\"]).show(6)"
   ]
  },
  {
   "cell_type": "code",
   "execution_count": 28,
   "id": "5d39e2ba-d1d5-4135-91f0-62dda4270add",
   "metadata": {},
   "outputs": [
    {
     "name": "stdout",
     "output_type": "stream",
     "text": [
      "+----+-----------+\n",
      "|Time|TimeSeconds|\n",
      "+----+-----------+\n",
      "|   0|        0.0|\n",
      "|   1|       0.01|\n",
      "|   2|       0.02|\n",
      "|   3|       0.03|\n",
      "|   4|       0.04|\n",
      "|   5|       0.05|\n",
      "+----+-----------+\n",
      "only showing top 6 rows\n",
      "\n"
     ]
    }
   ],
   "source": [
    "defog2.select([\"Time\", \"TimeSeconds\"]).show(6)"
   ]
  },
  {
   "cell_type": "code",
   "execution_count": 31,
   "id": "483b8342-e6af-44f2-af84-61b797afdf11",
   "metadata": {},
   "outputs": [
    {
     "name": "stdout",
     "output_type": "stream",
     "text": [
      "+-------+-----+----------+----+----+------------------+-----+---------------+----+-------+-----+-----+-----------+----------+---+---+------------+-----------+------------+-----+----+-----------+\n",
      "|Subject|Visit|        Id|Time|AccV|             AccML|AccAP|StartHesitation|Turn|Walking|Valid| Task|SourceDefog|Medication|Age|Sex|YearsSinceDx|UPDRSIII_On|UPDRSIII_Off|NFOGQ|Test|TimeSeconds|\n",
      "+-------+-----+----------+----+----+------------------+-----+---------------+----+-------+-----+-----+-----------+----------+---+---+------------+-----------+------------+-----+----+-----------+\n",
      "| bf608b|    2|02ea782681|   0|-1.0|0.0441294600297506|-0.25|              0|   0|      0|false|false|          1|        on| 67|  M|         7.0|         14|          57|   19|null|        0.0|\n",
      "+-------+-----+----------+----+----+------------------+-----+---------------+----+-------+-----+-----+-----------+----------+---+---+------------+-----------+------------+-----+----+-----------+\n",
      "only showing top 1 row\n",
      "\n"
     ]
    }
   ],
   "source": [
    "defog2.show(1)"
   ]
  },
  {
   "cell_type": "code",
   "execution_count": 32,
   "id": "caaf3518-a42b-43b1-afb9-b70c115d2ba2",
   "metadata": {},
   "outputs": [
    {
     "name": "stdout",
     "output_type": "stream",
     "text": [
      "root\n",
      " |-- Subject: string (nullable = true)\n",
      " |-- Visit: string (nullable = true)\n",
      " |-- Id: string (nullable = false)\n",
      " |-- Time: string (nullable = true)\n",
      " |-- AccV: string (nullable = true)\n",
      " |-- AccML: string (nullable = true)\n",
      " |-- AccAP: string (nullable = true)\n",
      " |-- StartHesitation: string (nullable = true)\n",
      " |-- Turn: string (nullable = true)\n",
      " |-- Walking: string (nullable = true)\n",
      " |-- Valid: string (nullable = true)\n",
      " |-- Task: string (nullable = true)\n",
      " |-- SourceDefog: integer (nullable = false)\n",
      " |-- Medication: string (nullable = true)\n",
      " |-- Age: string (nullable = true)\n",
      " |-- Sex: string (nullable = true)\n",
      " |-- YearsSinceDx: string (nullable = true)\n",
      " |-- UPDRSIII_On: string (nullable = true)\n",
      " |-- UPDRSIII_Off: string (nullable = true)\n",
      " |-- NFOGQ: string (nullable = true)\n",
      " |-- Test: string (nullable = false)\n",
      " |-- TimeSeconds: double (nullable = true)\n",
      "\n"
     ]
    }
   ],
   "source": [
    "defog2.printSchema()"
   ]
  },
  {
   "cell_type": "code",
   "execution_count": 33,
   "id": "a204da4b-c00c-42e3-aeb5-4796185d49ac",
   "metadata": {},
   "outputs": [],
   "source": [
    "# convert data types\n",
    "defog2 = defog2.withColumn(\"AccV\", col(\"AccV\").cast(FloatType())) \\\n",
    "    .withColumn(\"AccML\", col(\"AccML\").cast(FloatType())) \\\n",
    "    .withColumn(\"AccAP\", col(\"AccAP\").cast(FloatType())) \\\n",
    "    .withColumn(\"StartHesitation\", col(\"StartHesitation\").cast(IntegerType())) \\\n",
    "    .withColumn(\"Turn\", col(\"Turn\").cast(IntegerType())) \\\n",
    "    .withColumn(\"Walking\", col(\"Walking\").cast(IntegerType())) \\\n",
    "    .withColumn(\"StartHesitation\", col(\"StartHesitation\").cast(IntegerType())) \\\n",
    "    .withColumn(\"Valid\", col(\"Valid\").cast(BooleanType())) \\\n",
    "    .withColumn(\"Task\", col(\"Task\").cast(BooleanType())) \\\n",
    "    .withColumn(\"SourceDefog\", col(\"SourceDefog\").cast(IntegerType())) \\\n",
    "    .withColumn(\"Age\", col(\"Age\").cast(IntegerType())) \\\n",
    "    .withColumn(\"YearsSinceDx\", col(\"YearsSinceDx\").cast(IntegerType())) \\\n",
    "    .withColumn(\"UPDRSIII_On\", col(\"UPDRSIII_On\").cast(IntegerType())) \\\n",
    "    .withColumn(\"UPDRSIII_Off\", col(\"UPDRSIII_Off\").cast(IntegerType())) \\\n",
    "    .withColumn(\"NFOGQ\", col(\"NFOGQ\").cast(IntegerType()))\n",
    "                "
   ]
  },
  {
   "cell_type": "code",
   "execution_count": 34,
   "id": "6ca4d31d-8e5f-4c03-90ce-6f302fcc5de4",
   "metadata": {},
   "outputs": [
    {
     "name": "stdout",
     "output_type": "stream",
     "text": [
      "root\n",
      " |-- Subject: string (nullable = true)\n",
      " |-- Visit: string (nullable = true)\n",
      " |-- Id: string (nullable = false)\n",
      " |-- Time: string (nullable = true)\n",
      " |-- AccV: float (nullable = true)\n",
      " |-- AccML: float (nullable = true)\n",
      " |-- AccAP: float (nullable = true)\n",
      " |-- StartHesitation: integer (nullable = true)\n",
      " |-- Turn: integer (nullable = true)\n",
      " |-- Walking: integer (nullable = true)\n",
      " |-- Valid: boolean (nullable = true)\n",
      " |-- Task: boolean (nullable = true)\n",
      " |-- SourceDefog: integer (nullable = false)\n",
      " |-- Medication: string (nullable = true)\n",
      " |-- Age: integer (nullable = true)\n",
      " |-- Sex: string (nullable = true)\n",
      " |-- YearsSinceDx: integer (nullable = true)\n",
      " |-- UPDRSIII_On: integer (nullable = true)\n",
      " |-- UPDRSIII_Off: integer (nullable = true)\n",
      " |-- NFOGQ: integer (nullable = true)\n",
      " |-- Test: string (nullable = false)\n",
      " |-- TimeSeconds: double (nullable = true)\n",
      "\n"
     ]
    }
   ],
   "source": [
    "defog2.printSchema()"
   ]
  },
  {
   "cell_type": "code",
   "execution_count": 35,
   "id": "d2ebda78-510b-4e3a-96c1-961c7f459843",
   "metadata": {},
   "outputs": [
    {
     "name": "stderr",
     "output_type": "stream",
     "text": [
      "                                                                                \r"
     ]
    }
   ],
   "source": [
    "row_count = defog2.count()"
   ]
  },
  {
   "cell_type": "code",
   "execution_count": 36,
   "id": "93733b4d-690a-4171-88de-1957791592b8",
   "metadata": {},
   "outputs": [
    {
     "name": "stderr",
     "output_type": "stream",
     "text": [
      "                                                                                \r"
     ]
    }
   ],
   "source": [
    "#fog.write.option(\"header\",True).parquet(\"gs://msca-bdp-student-gcs/parkinsons_data/train/processed/\")\n",
    "defog2.write.format(\"parquet\").mode(\"overwrite\").save(\"gs://msca-bdp-student-gcs/parkinsons_data/train/processed/defog\")\n"
   ]
  },
  {
   "cell_type": "code",
   "execution_count": 37,
   "id": "aae8ed20-11af-4bf8-837b-3b93fc054038",
   "metadata": {},
   "outputs": [],
   "source": [
    "# check files wrote out\n",
    "fog_path = \"parkinsons_data/train/processed/defog\"\n",
    "fog_files = list_blobs(\"msca-bdp-student-gcs\", string_match=fog_path)"
   ]
  },
  {
   "cell_type": "code",
   "execution_count": 38,
   "id": "cc7a0f3b-0d54-46e4-b36d-e12c2aee55cd",
   "metadata": {},
   "outputs": [
    {
     "data": {
      "text/plain": [
       "['/',\n",
       " '/_SUCCESS',\n",
       " '/part-00000-a50e3852-5fe1-4e47-b2de-a30cd5f99ce6-c000.snappy.parquet',\n",
       " '/part-00001-a50e3852-5fe1-4e47-b2de-a30cd5f99ce6-c000.snappy.parquet',\n",
       " '/part-00002-a50e3852-5fe1-4e47-b2de-a30cd5f99ce6-c000.snappy.parquet',\n",
       " '/part-00003-a50e3852-5fe1-4e47-b2de-a30cd5f99ce6-c000.snappy.parquet',\n",
       " '/part-00004-a50e3852-5fe1-4e47-b2de-a30cd5f99ce6-c000.snappy.parquet',\n",
       " '/part-00005-a50e3852-5fe1-4e47-b2de-a30cd5f99ce6-c000.snappy.parquet',\n",
       " '/part-00006-a50e3852-5fe1-4e47-b2de-a30cd5f99ce6-c000.snappy.parquet',\n",
       " '/part-00007-a50e3852-5fe1-4e47-b2de-a30cd5f99ce6-c000.snappy.parquet',\n",
       " '/part-00008-a50e3852-5fe1-4e47-b2de-a30cd5f99ce6-c000.snappy.parquet',\n",
       " '/part-00009-a50e3852-5fe1-4e47-b2de-a30cd5f99ce6-c000.snappy.parquet',\n",
       " '/part-00010-a50e3852-5fe1-4e47-b2de-a30cd5f99ce6-c000.snappy.parquet',\n",
       " '/part-00011-a50e3852-5fe1-4e47-b2de-a30cd5f99ce6-c000.snappy.parquet',\n",
       " '/part-00012-a50e3852-5fe1-4e47-b2de-a30cd5f99ce6-c000.snappy.parquet',\n",
       " '/part-00013-a50e3852-5fe1-4e47-b2de-a30cd5f99ce6-c000.snappy.parquet',\n",
       " '/part-00014-a50e3852-5fe1-4e47-b2de-a30cd5f99ce6-c000.snappy.parquet',\n",
       " '/part-00015-a50e3852-5fe1-4e47-b2de-a30cd5f99ce6-c000.snappy.parquet',\n",
       " '/part-00016-a50e3852-5fe1-4e47-b2de-a30cd5f99ce6-c000.snappy.parquet',\n",
       " '/part-00017-a50e3852-5fe1-4e47-b2de-a30cd5f99ce6-c000.snappy.parquet',\n",
       " '/part-00018-a50e3852-5fe1-4e47-b2de-a30cd5f99ce6-c000.snappy.parquet',\n",
       " '/part-00019-a50e3852-5fe1-4e47-b2de-a30cd5f99ce6-c000.snappy.parquet',\n",
       " '/part-00020-a50e3852-5fe1-4e47-b2de-a30cd5f99ce6-c000.snappy.parquet',\n",
       " '/part-00021-a50e3852-5fe1-4e47-b2de-a30cd5f99ce6-c000.snappy.parquet',\n",
       " '/part-00022-a50e3852-5fe1-4e47-b2de-a30cd5f99ce6-c000.snappy.parquet',\n",
       " '/part-00023-a50e3852-5fe1-4e47-b2de-a30cd5f99ce6-c000.snappy.parquet',\n",
       " '/part-00024-a50e3852-5fe1-4e47-b2de-a30cd5f99ce6-c000.snappy.parquet',\n",
       " '/part-00025-a50e3852-5fe1-4e47-b2de-a30cd5f99ce6-c000.snappy.parquet',\n",
       " '/part-00026-a50e3852-5fe1-4e47-b2de-a30cd5f99ce6-c000.snappy.parquet',\n",
       " '/part-00027-a50e3852-5fe1-4e47-b2de-a30cd5f99ce6-c000.snappy.parquet',\n",
       " '/part-00028-a50e3852-5fe1-4e47-b2de-a30cd5f99ce6-c000.snappy.parquet',\n",
       " '/part-00029-a50e3852-5fe1-4e47-b2de-a30cd5f99ce6-c000.snappy.parquet',\n",
       " '/part-00030-a50e3852-5fe1-4e47-b2de-a30cd5f99ce6-c000.snappy.parquet',\n",
       " '/part-00031-a50e3852-5fe1-4e47-b2de-a30cd5f99ce6-c000.snappy.parquet',\n",
       " '/part-00032-a50e3852-5fe1-4e47-b2de-a30cd5f99ce6-c000.snappy.parquet',\n",
       " '/part-00033-a50e3852-5fe1-4e47-b2de-a30cd5f99ce6-c000.snappy.parquet',\n",
       " '/part-00034-a50e3852-5fe1-4e47-b2de-a30cd5f99ce6-c000.snappy.parquet',\n",
       " '/part-00035-a50e3852-5fe1-4e47-b2de-a30cd5f99ce6-c000.snappy.parquet',\n",
       " '/part-00036-a50e3852-5fe1-4e47-b2de-a30cd5f99ce6-c000.snappy.parquet',\n",
       " '/part-00037-a50e3852-5fe1-4e47-b2de-a30cd5f99ce6-c000.snappy.parquet',\n",
       " '/part-00038-a50e3852-5fe1-4e47-b2de-a30cd5f99ce6-c000.snappy.parquet',\n",
       " '/part-00039-a50e3852-5fe1-4e47-b2de-a30cd5f99ce6-c000.snappy.parquet',\n",
       " '/part-00040-a50e3852-5fe1-4e47-b2de-a30cd5f99ce6-c000.snappy.parquet',\n",
       " '/part-00041-a50e3852-5fe1-4e47-b2de-a30cd5f99ce6-c000.snappy.parquet',\n",
       " '/part-00042-a50e3852-5fe1-4e47-b2de-a30cd5f99ce6-c000.snappy.parquet',\n",
       " '/part-00043-a50e3852-5fe1-4e47-b2de-a30cd5f99ce6-c000.snappy.parquet',\n",
       " '/part-00044-a50e3852-5fe1-4e47-b2de-a30cd5f99ce6-c000.snappy.parquet',\n",
       " '/part-00045-a50e3852-5fe1-4e47-b2de-a30cd5f99ce6-c000.snappy.parquet',\n",
       " '/part-00046-a50e3852-5fe1-4e47-b2de-a30cd5f99ce6-c000.snappy.parquet',\n",
       " '/part-00047-a50e3852-5fe1-4e47-b2de-a30cd5f99ce6-c000.snappy.parquet',\n",
       " '/part-00048-a50e3852-5fe1-4e47-b2de-a30cd5f99ce6-c000.snappy.parquet',\n",
       " '/part-00049-a50e3852-5fe1-4e47-b2de-a30cd5f99ce6-c000.snappy.parquet',\n",
       " '/part-00050-a50e3852-5fe1-4e47-b2de-a30cd5f99ce6-c000.snappy.parquet',\n",
       " '/part-00051-a50e3852-5fe1-4e47-b2de-a30cd5f99ce6-c000.snappy.parquet',\n",
       " '/part-00052-a50e3852-5fe1-4e47-b2de-a30cd5f99ce6-c000.snappy.parquet',\n",
       " '/part-00053-a50e3852-5fe1-4e47-b2de-a30cd5f99ce6-c000.snappy.parquet',\n",
       " '/part-00054-a50e3852-5fe1-4e47-b2de-a30cd5f99ce6-c000.snappy.parquet',\n",
       " '/part-00055-a50e3852-5fe1-4e47-b2de-a30cd5f99ce6-c000.snappy.parquet',\n",
       " '/part-00056-a50e3852-5fe1-4e47-b2de-a30cd5f99ce6-c000.snappy.parquet',\n",
       " '/part-00057-a50e3852-5fe1-4e47-b2de-a30cd5f99ce6-c000.snappy.parquet',\n",
       " '/part-00058-a50e3852-5fe1-4e47-b2de-a30cd5f99ce6-c000.snappy.parquet',\n",
       " '/part-00059-a50e3852-5fe1-4e47-b2de-a30cd5f99ce6-c000.snappy.parquet',\n",
       " '/part-00060-a50e3852-5fe1-4e47-b2de-a30cd5f99ce6-c000.snappy.parquet',\n",
       " '/part-00061-a50e3852-5fe1-4e47-b2de-a30cd5f99ce6-c000.snappy.parquet',\n",
       " '/part-00062-a50e3852-5fe1-4e47-b2de-a30cd5f99ce6-c000.snappy.parquet',\n",
       " '/part-00063-a50e3852-5fe1-4e47-b2de-a30cd5f99ce6-c000.snappy.parquet',\n",
       " '/part-00064-a50e3852-5fe1-4e47-b2de-a30cd5f99ce6-c000.snappy.parquet',\n",
       " '/part-00065-a50e3852-5fe1-4e47-b2de-a30cd5f99ce6-c000.snappy.parquet',\n",
       " '/part-00066-a50e3852-5fe1-4e47-b2de-a30cd5f99ce6-c000.snappy.parquet',\n",
       " '/part-00067-a50e3852-5fe1-4e47-b2de-a30cd5f99ce6-c000.snappy.parquet',\n",
       " '/part-00068-a50e3852-5fe1-4e47-b2de-a30cd5f99ce6-c000.snappy.parquet',\n",
       " '/part-00069-a50e3852-5fe1-4e47-b2de-a30cd5f99ce6-c000.snappy.parquet',\n",
       " '/part-00070-a50e3852-5fe1-4e47-b2de-a30cd5f99ce6-c000.snappy.parquet',\n",
       " '/part-00071-a50e3852-5fe1-4e47-b2de-a30cd5f99ce6-c000.snappy.parquet',\n",
       " '/part-00072-a50e3852-5fe1-4e47-b2de-a30cd5f99ce6-c000.snappy.parquet',\n",
       " '/part-00073-a50e3852-5fe1-4e47-b2de-a30cd5f99ce6-c000.snappy.parquet',\n",
       " '/part-00074-a50e3852-5fe1-4e47-b2de-a30cd5f99ce6-c000.snappy.parquet',\n",
       " '/part-00075-a50e3852-5fe1-4e47-b2de-a30cd5f99ce6-c000.snappy.parquet',\n",
       " '/part-00076-a50e3852-5fe1-4e47-b2de-a30cd5f99ce6-c000.snappy.parquet',\n",
       " '/part-00077-a50e3852-5fe1-4e47-b2de-a30cd5f99ce6-c000.snappy.parquet',\n",
       " '/part-00078-a50e3852-5fe1-4e47-b2de-a30cd5f99ce6-c000.snappy.parquet',\n",
       " '/part-00079-a50e3852-5fe1-4e47-b2de-a30cd5f99ce6-c000.snappy.parquet',\n",
       " '/part-00080-a50e3852-5fe1-4e47-b2de-a30cd5f99ce6-c000.snappy.parquet',\n",
       " '/part-00081-a50e3852-5fe1-4e47-b2de-a30cd5f99ce6-c000.snappy.parquet',\n",
       " '/part-00082-a50e3852-5fe1-4e47-b2de-a30cd5f99ce6-c000.snappy.parquet',\n",
       " '/part-00083-a50e3852-5fe1-4e47-b2de-a30cd5f99ce6-c000.snappy.parquet',\n",
       " '/part-00084-a50e3852-5fe1-4e47-b2de-a30cd5f99ce6-c000.snappy.parquet',\n",
       " '/part-00085-a50e3852-5fe1-4e47-b2de-a30cd5f99ce6-c000.snappy.parquet',\n",
       " '/part-00086-a50e3852-5fe1-4e47-b2de-a30cd5f99ce6-c000.snappy.parquet',\n",
       " '/part-00087-a50e3852-5fe1-4e47-b2de-a30cd5f99ce6-c000.snappy.parquet',\n",
       " '/part-00088-a50e3852-5fe1-4e47-b2de-a30cd5f99ce6-c000.snappy.parquet',\n",
       " '/part-00089-a50e3852-5fe1-4e47-b2de-a30cd5f99ce6-c000.snappy.parquet',\n",
       " '/part-00090-a50e3852-5fe1-4e47-b2de-a30cd5f99ce6-c000.snappy.parquet',\n",
       " '/part-00091-a50e3852-5fe1-4e47-b2de-a30cd5f99ce6-c000.snappy.parquet',\n",
       " '/part-00092-a50e3852-5fe1-4e47-b2de-a30cd5f99ce6-c000.snappy.parquet',\n",
       " '/part-00093-a50e3852-5fe1-4e47-b2de-a30cd5f99ce6-c000.snappy.parquet',\n",
       " '/part-00094-a50e3852-5fe1-4e47-b2de-a30cd5f99ce6-c000.snappy.parquet',\n",
       " '/part-00095-a50e3852-5fe1-4e47-b2de-a30cd5f99ce6-c000.snappy.parquet',\n",
       " '/part-00096-a50e3852-5fe1-4e47-b2de-a30cd5f99ce6-c000.snappy.parquet',\n",
       " '/part-00097-a50e3852-5fe1-4e47-b2de-a30cd5f99ce6-c000.snappy.parquet',\n",
       " '/part-00098-a50e3852-5fe1-4e47-b2de-a30cd5f99ce6-c000.snappy.parquet',\n",
       " '/part-00099-a50e3852-5fe1-4e47-b2de-a30cd5f99ce6-c000.snappy.parquet',\n",
       " '/part-00100-a50e3852-5fe1-4e47-b2de-a30cd5f99ce6-c000.snappy.parquet',\n",
       " '/part-00101-a50e3852-5fe1-4e47-b2de-a30cd5f99ce6-c000.snappy.parquet',\n",
       " '/part-00102-a50e3852-5fe1-4e47-b2de-a30cd5f99ce6-c000.snappy.parquet',\n",
       " '/part-00103-a50e3852-5fe1-4e47-b2de-a30cd5f99ce6-c000.snappy.parquet',\n",
       " '/part-00104-a50e3852-5fe1-4e47-b2de-a30cd5f99ce6-c000.snappy.parquet',\n",
       " '/part-00105-a50e3852-5fe1-4e47-b2de-a30cd5f99ce6-c000.snappy.parquet',\n",
       " '/part-00106-a50e3852-5fe1-4e47-b2de-a30cd5f99ce6-c000.snappy.parquet',\n",
       " '/part-00107-a50e3852-5fe1-4e47-b2de-a30cd5f99ce6-c000.snappy.parquet',\n",
       " '/part-00108-a50e3852-5fe1-4e47-b2de-a30cd5f99ce6-c000.snappy.parquet',\n",
       " '/part-00109-a50e3852-5fe1-4e47-b2de-a30cd5f99ce6-c000.snappy.parquet',\n",
       " '/part-00110-a50e3852-5fe1-4e47-b2de-a30cd5f99ce6-c000.snappy.parquet',\n",
       " '/part-00111-a50e3852-5fe1-4e47-b2de-a30cd5f99ce6-c000.snappy.parquet',\n",
       " '/part-00112-a50e3852-5fe1-4e47-b2de-a30cd5f99ce6-c000.snappy.parquet',\n",
       " '/part-00113-a50e3852-5fe1-4e47-b2de-a30cd5f99ce6-c000.snappy.parquet',\n",
       " '/part-00114-a50e3852-5fe1-4e47-b2de-a30cd5f99ce6-c000.snappy.parquet',\n",
       " '/part-00115-a50e3852-5fe1-4e47-b2de-a30cd5f99ce6-c000.snappy.parquet',\n",
       " '/part-00116-a50e3852-5fe1-4e47-b2de-a30cd5f99ce6-c000.snappy.parquet',\n",
       " '/part-00117-a50e3852-5fe1-4e47-b2de-a30cd5f99ce6-c000.snappy.parquet',\n",
       " '/part-00118-a50e3852-5fe1-4e47-b2de-a30cd5f99ce6-c000.snappy.parquet',\n",
       " '/part-00119-a50e3852-5fe1-4e47-b2de-a30cd5f99ce6-c000.snappy.parquet',\n",
       " '/part-00120-a50e3852-5fe1-4e47-b2de-a30cd5f99ce6-c000.snappy.parquet',\n",
       " '/part-00121-a50e3852-5fe1-4e47-b2de-a30cd5f99ce6-c000.snappy.parquet',\n",
       " '/part-00122-a50e3852-5fe1-4e47-b2de-a30cd5f99ce6-c000.snappy.parquet',\n",
       " '/part-00123-a50e3852-5fe1-4e47-b2de-a30cd5f99ce6-c000.snappy.parquet',\n",
       " '/part-00124-a50e3852-5fe1-4e47-b2de-a30cd5f99ce6-c000.snappy.parquet',\n",
       " '/part-00125-a50e3852-5fe1-4e47-b2de-a30cd5f99ce6-c000.snappy.parquet',\n",
       " '/part-00126-a50e3852-5fe1-4e47-b2de-a30cd5f99ce6-c000.snappy.parquet',\n",
       " '/part-00127-a50e3852-5fe1-4e47-b2de-a30cd5f99ce6-c000.snappy.parquet',\n",
       " '/part-00128-a50e3852-5fe1-4e47-b2de-a30cd5f99ce6-c000.snappy.parquet',\n",
       " '/part-00129-a50e3852-5fe1-4e47-b2de-a30cd5f99ce6-c000.snappy.parquet',\n",
       " '/part-00130-a50e3852-5fe1-4e47-b2de-a30cd5f99ce6-c000.snappy.parquet',\n",
       " '/part-00131-a50e3852-5fe1-4e47-b2de-a30cd5f99ce6-c000.snappy.parquet',\n",
       " '/part-00132-a50e3852-5fe1-4e47-b2de-a30cd5f99ce6-c000.snappy.parquet',\n",
       " '/part-00133-a50e3852-5fe1-4e47-b2de-a30cd5f99ce6-c000.snappy.parquet',\n",
       " '/part-00134-a50e3852-5fe1-4e47-b2de-a30cd5f99ce6-c000.snappy.parquet',\n",
       " '/part-00135-a50e3852-5fe1-4e47-b2de-a30cd5f99ce6-c000.snappy.parquet',\n",
       " '/part-00136-a50e3852-5fe1-4e47-b2de-a30cd5f99ce6-c000.snappy.parquet',\n",
       " '/part-00137-a50e3852-5fe1-4e47-b2de-a30cd5f99ce6-c000.snappy.parquet',\n",
       " '/part-00138-a50e3852-5fe1-4e47-b2de-a30cd5f99ce6-c000.snappy.parquet',\n",
       " '/part-00139-a50e3852-5fe1-4e47-b2de-a30cd5f99ce6-c000.snappy.parquet',\n",
       " '/part-00140-a50e3852-5fe1-4e47-b2de-a30cd5f99ce6-c000.snappy.parquet',\n",
       " '/part-00141-a50e3852-5fe1-4e47-b2de-a30cd5f99ce6-c000.snappy.parquet',\n",
       " '/part-00142-a50e3852-5fe1-4e47-b2de-a30cd5f99ce6-c000.snappy.parquet',\n",
       " '/part-00143-a50e3852-5fe1-4e47-b2de-a30cd5f99ce6-c000.snappy.parquet',\n",
       " '/part-00144-a50e3852-5fe1-4e47-b2de-a30cd5f99ce6-c000.snappy.parquet',\n",
       " '/part-00145-a50e3852-5fe1-4e47-b2de-a30cd5f99ce6-c000.snappy.parquet',\n",
       " '/part-00146-a50e3852-5fe1-4e47-b2de-a30cd5f99ce6-c000.snappy.parquet',\n",
       " '/part-00147-a50e3852-5fe1-4e47-b2de-a30cd5f99ce6-c000.snappy.parquet',\n",
       " '/part-00148-a50e3852-5fe1-4e47-b2de-a30cd5f99ce6-c000.snappy.parquet',\n",
       " '/part-00149-a50e3852-5fe1-4e47-b2de-a30cd5f99ce6-c000.snappy.parquet',\n",
       " '/part-00150-a50e3852-5fe1-4e47-b2de-a30cd5f99ce6-c000.snappy.parquet',\n",
       " '/part-00151-a50e3852-5fe1-4e47-b2de-a30cd5f99ce6-c000.snappy.parquet',\n",
       " '/part-00152-a50e3852-5fe1-4e47-b2de-a30cd5f99ce6-c000.snappy.parquet',\n",
       " '/part-00153-a50e3852-5fe1-4e47-b2de-a30cd5f99ce6-c000.snappy.parquet',\n",
       " '/part-00154-a50e3852-5fe1-4e47-b2de-a30cd5f99ce6-c000.snappy.parquet',\n",
       " '/part-00155-a50e3852-5fe1-4e47-b2de-a30cd5f99ce6-c000.snappy.parquet',\n",
       " '/part-00156-a50e3852-5fe1-4e47-b2de-a30cd5f99ce6-c000.snappy.parquet',\n",
       " '/part-00157-a50e3852-5fe1-4e47-b2de-a30cd5f99ce6-c000.snappy.parquet',\n",
       " '/part-00158-a50e3852-5fe1-4e47-b2de-a30cd5f99ce6-c000.snappy.parquet',\n",
       " '/part-00159-a50e3852-5fe1-4e47-b2de-a30cd5f99ce6-c000.snappy.parquet',\n",
       " '/part-00160-a50e3852-5fe1-4e47-b2de-a30cd5f99ce6-c000.snappy.parquet',\n",
       " '/part-00161-a50e3852-5fe1-4e47-b2de-a30cd5f99ce6-c000.snappy.parquet',\n",
       " '/part-00162-a50e3852-5fe1-4e47-b2de-a30cd5f99ce6-c000.snappy.parquet',\n",
       " '/part-00163-a50e3852-5fe1-4e47-b2de-a30cd5f99ce6-c000.snappy.parquet',\n",
       " '/part-00164-a50e3852-5fe1-4e47-b2de-a30cd5f99ce6-c000.snappy.parquet',\n",
       " '/part-00165-a50e3852-5fe1-4e47-b2de-a30cd5f99ce6-c000.snappy.parquet',\n",
       " '/part-00166-a50e3852-5fe1-4e47-b2de-a30cd5f99ce6-c000.snappy.parquet',\n",
       " '/part-00167-a50e3852-5fe1-4e47-b2de-a30cd5f99ce6-c000.snappy.parquet',\n",
       " '/part-00168-a50e3852-5fe1-4e47-b2de-a30cd5f99ce6-c000.snappy.parquet',\n",
       " '/part-00169-a50e3852-5fe1-4e47-b2de-a30cd5f99ce6-c000.snappy.parquet',\n",
       " '/part-00170-a50e3852-5fe1-4e47-b2de-a30cd5f99ce6-c000.snappy.parquet',\n",
       " '/part-00171-a50e3852-5fe1-4e47-b2de-a30cd5f99ce6-c000.snappy.parquet',\n",
       " '/part-00172-a50e3852-5fe1-4e47-b2de-a30cd5f99ce6-c000.snappy.parquet',\n",
       " '/part-00173-a50e3852-5fe1-4e47-b2de-a30cd5f99ce6-c000.snappy.parquet',\n",
       " '/part-00174-a50e3852-5fe1-4e47-b2de-a30cd5f99ce6-c000.snappy.parquet',\n",
       " '/part-00175-a50e3852-5fe1-4e47-b2de-a30cd5f99ce6-c000.snappy.parquet',\n",
       " '/part-00176-a50e3852-5fe1-4e47-b2de-a30cd5f99ce6-c000.snappy.parquet',\n",
       " '/part-00177-a50e3852-5fe1-4e47-b2de-a30cd5f99ce6-c000.snappy.parquet',\n",
       " '/part-00178-a50e3852-5fe1-4e47-b2de-a30cd5f99ce6-c000.snappy.parquet',\n",
       " '/part-00179-a50e3852-5fe1-4e47-b2de-a30cd5f99ce6-c000.snappy.parquet',\n",
       " '/part-00180-a50e3852-5fe1-4e47-b2de-a30cd5f99ce6-c000.snappy.parquet',\n",
       " '/part-00181-a50e3852-5fe1-4e47-b2de-a30cd5f99ce6-c000.snappy.parquet',\n",
       " '/part-00182-a50e3852-5fe1-4e47-b2de-a30cd5f99ce6-c000.snappy.parquet',\n",
       " '/part-00183-a50e3852-5fe1-4e47-b2de-a30cd5f99ce6-c000.snappy.parquet',\n",
       " '/part-00184-a50e3852-5fe1-4e47-b2de-a30cd5f99ce6-c000.snappy.parquet',\n",
       " '/part-00185-a50e3852-5fe1-4e47-b2de-a30cd5f99ce6-c000.snappy.parquet',\n",
       " '/part-00186-a50e3852-5fe1-4e47-b2de-a30cd5f99ce6-c000.snappy.parquet',\n",
       " '/part-00187-a50e3852-5fe1-4e47-b2de-a30cd5f99ce6-c000.snappy.parquet',\n",
       " '/part-00188-a50e3852-5fe1-4e47-b2de-a30cd5f99ce6-c000.snappy.parquet',\n",
       " '/part-00189-a50e3852-5fe1-4e47-b2de-a30cd5f99ce6-c000.snappy.parquet',\n",
       " '/part-00190-a50e3852-5fe1-4e47-b2de-a30cd5f99ce6-c000.snappy.parquet',\n",
       " '/part-00191-a50e3852-5fe1-4e47-b2de-a30cd5f99ce6-c000.snappy.parquet',\n",
       " '/part-00192-a50e3852-5fe1-4e47-b2de-a30cd5f99ce6-c000.snappy.parquet',\n",
       " '/part-00193-a50e3852-5fe1-4e47-b2de-a30cd5f99ce6-c000.snappy.parquet',\n",
       " '/part-00194-a50e3852-5fe1-4e47-b2de-a30cd5f99ce6-c000.snappy.parquet',\n",
       " '/part-00195-a50e3852-5fe1-4e47-b2de-a30cd5f99ce6-c000.snappy.parquet',\n",
       " '/part-00196-a50e3852-5fe1-4e47-b2de-a30cd5f99ce6-c000.snappy.parquet',\n",
       " '/part-00197-a50e3852-5fe1-4e47-b2de-a30cd5f99ce6-c000.snappy.parquet',\n",
       " '/part-00198-a50e3852-5fe1-4e47-b2de-a30cd5f99ce6-c000.snappy.parquet',\n",
       " '/part-00199-a50e3852-5fe1-4e47-b2de-a30cd5f99ce6-c000.snappy.parquet',\n",
       " '/part-00200-a50e3852-5fe1-4e47-b2de-a30cd5f99ce6-c000.snappy.parquet',\n",
       " '/part-00201-a50e3852-5fe1-4e47-b2de-a30cd5f99ce6-c000.snappy.parquet',\n",
       " '/part-00202-a50e3852-5fe1-4e47-b2de-a30cd5f99ce6-c000.snappy.parquet',\n",
       " '/part-00203-a50e3852-5fe1-4e47-b2de-a30cd5f99ce6-c000.snappy.parquet',\n",
       " '/part-00204-a50e3852-5fe1-4e47-b2de-a30cd5f99ce6-c000.snappy.parquet',\n",
       " '/part-00205-a50e3852-5fe1-4e47-b2de-a30cd5f99ce6-c000.snappy.parquet',\n",
       " '/part-00206-a50e3852-5fe1-4e47-b2de-a30cd5f99ce6-c000.snappy.parquet',\n",
       " '/part-00207-a50e3852-5fe1-4e47-b2de-a30cd5f99ce6-c000.snappy.parquet',\n",
       " '/part-00208-a50e3852-5fe1-4e47-b2de-a30cd5f99ce6-c000.snappy.parquet',\n",
       " '/part-00209-a50e3852-5fe1-4e47-b2de-a30cd5f99ce6-c000.snappy.parquet',\n",
       " '/part-00210-a50e3852-5fe1-4e47-b2de-a30cd5f99ce6-c000.snappy.parquet',\n",
       " '/part-00211-a50e3852-5fe1-4e47-b2de-a30cd5f99ce6-c000.snappy.parquet',\n",
       " '/part-00212-a50e3852-5fe1-4e47-b2de-a30cd5f99ce6-c000.snappy.parquet',\n",
       " '/part-00213-a50e3852-5fe1-4e47-b2de-a30cd5f99ce6-c000.snappy.parquet',\n",
       " '/part-00214-a50e3852-5fe1-4e47-b2de-a30cd5f99ce6-c000.snappy.parquet',\n",
       " '/part-00215-a50e3852-5fe1-4e47-b2de-a30cd5f99ce6-c000.snappy.parquet',\n",
       " '/part-00216-a50e3852-5fe1-4e47-b2de-a30cd5f99ce6-c000.snappy.parquet',\n",
       " '/part-00217-a50e3852-5fe1-4e47-b2de-a30cd5f99ce6-c000.snappy.parquet',\n",
       " '/part-00218-a50e3852-5fe1-4e47-b2de-a30cd5f99ce6-c000.snappy.parquet',\n",
       " '/part-00219-a50e3852-5fe1-4e47-b2de-a30cd5f99ce6-c000.snappy.parquet',\n",
       " '/part-00220-a50e3852-5fe1-4e47-b2de-a30cd5f99ce6-c000.snappy.parquet',\n",
       " '/part-00221-a50e3852-5fe1-4e47-b2de-a30cd5f99ce6-c000.snappy.parquet',\n",
       " '/part-00222-a50e3852-5fe1-4e47-b2de-a30cd5f99ce6-c000.snappy.parquet',\n",
       " '/part-00223-a50e3852-5fe1-4e47-b2de-a30cd5f99ce6-c000.snappy.parquet',\n",
       " '/part-00224-a50e3852-5fe1-4e47-b2de-a30cd5f99ce6-c000.snappy.parquet',\n",
       " '/part-00225-a50e3852-5fe1-4e47-b2de-a30cd5f99ce6-c000.snappy.parquet',\n",
       " '/part-00226-a50e3852-5fe1-4e47-b2de-a30cd5f99ce6-c000.snappy.parquet',\n",
       " '/part-00227-a50e3852-5fe1-4e47-b2de-a30cd5f99ce6-c000.snappy.parquet',\n",
       " '/part-00228-a50e3852-5fe1-4e47-b2de-a30cd5f99ce6-c000.snappy.parquet',\n",
       " '/part-00229-a50e3852-5fe1-4e47-b2de-a30cd5f99ce6-c000.snappy.parquet',\n",
       " '/part-00230-a50e3852-5fe1-4e47-b2de-a30cd5f99ce6-c000.snappy.parquet',\n",
       " '/part-00231-a50e3852-5fe1-4e47-b2de-a30cd5f99ce6-c000.snappy.parquet',\n",
       " '/part-00232-a50e3852-5fe1-4e47-b2de-a30cd5f99ce6-c000.snappy.parquet',\n",
       " '/part-00233-a50e3852-5fe1-4e47-b2de-a30cd5f99ce6-c000.snappy.parquet',\n",
       " '/part-00234-a50e3852-5fe1-4e47-b2de-a30cd5f99ce6-c000.snappy.parquet',\n",
       " '/part-00235-a50e3852-5fe1-4e47-b2de-a30cd5f99ce6-c000.snappy.parquet',\n",
       " '/part-00236-a50e3852-5fe1-4e47-b2de-a30cd5f99ce6-c000.snappy.parquet',\n",
       " '/part-00237-a50e3852-5fe1-4e47-b2de-a30cd5f99ce6-c000.snappy.parquet',\n",
       " '/part-00238-a50e3852-5fe1-4e47-b2de-a30cd5f99ce6-c000.snappy.parquet',\n",
       " '/part-00239-a50e3852-5fe1-4e47-b2de-a30cd5f99ce6-c000.snappy.parquet',\n",
       " '/part-00240-a50e3852-5fe1-4e47-b2de-a30cd5f99ce6-c000.snappy.parquet',\n",
       " '/part-00241-a50e3852-5fe1-4e47-b2de-a30cd5f99ce6-c000.snappy.parquet',\n",
       " '/part-00242-a50e3852-5fe1-4e47-b2de-a30cd5f99ce6-c000.snappy.parquet',\n",
       " '/part-00243-a50e3852-5fe1-4e47-b2de-a30cd5f99ce6-c000.snappy.parquet',\n",
       " '/part-00244-a50e3852-5fe1-4e47-b2de-a30cd5f99ce6-c000.snappy.parquet',\n",
       " '/part-00245-a50e3852-5fe1-4e47-b2de-a30cd5f99ce6-c000.snappy.parquet',\n",
       " '/part-00246-a50e3852-5fe1-4e47-b2de-a30cd5f99ce6-c000.snappy.parquet',\n",
       " '/part-00247-a50e3852-5fe1-4e47-b2de-a30cd5f99ce6-c000.snappy.parquet',\n",
       " '/part-00248-a50e3852-5fe1-4e47-b2de-a30cd5f99ce6-c000.snappy.parquet',\n",
       " '/part-00249-a50e3852-5fe1-4e47-b2de-a30cd5f99ce6-c000.snappy.parquet',\n",
       " '/part-00250-a50e3852-5fe1-4e47-b2de-a30cd5f99ce6-c000.snappy.parquet',\n",
       " '/part-00251-a50e3852-5fe1-4e47-b2de-a30cd5f99ce6-c000.snappy.parquet',\n",
       " '/part-00252-a50e3852-5fe1-4e47-b2de-a30cd5f99ce6-c000.snappy.parquet',\n",
       " '/part-00253-a50e3852-5fe1-4e47-b2de-a30cd5f99ce6-c000.snappy.parquet',\n",
       " '/part-00254-a50e3852-5fe1-4e47-b2de-a30cd5f99ce6-c000.snappy.parquet',\n",
       " '/part-00255-a50e3852-5fe1-4e47-b2de-a30cd5f99ce6-c000.snappy.parquet',\n",
       " '/part-00256-a50e3852-5fe1-4e47-b2de-a30cd5f99ce6-c000.snappy.parquet',\n",
       " '/part-00257-a50e3852-5fe1-4e47-b2de-a30cd5f99ce6-c000.snappy.parquet',\n",
       " '/part-00258-a50e3852-5fe1-4e47-b2de-a30cd5f99ce6-c000.snappy.parquet',\n",
       " '/part-00259-a50e3852-5fe1-4e47-b2de-a30cd5f99ce6-c000.snappy.parquet',\n",
       " '/part-00260-a50e3852-5fe1-4e47-b2de-a30cd5f99ce6-c000.snappy.parquet',\n",
       " '/part-00261-a50e3852-5fe1-4e47-b2de-a30cd5f99ce6-c000.snappy.parquet',\n",
       " '/part-00262-a50e3852-5fe1-4e47-b2de-a30cd5f99ce6-c000.snappy.parquet',\n",
       " '/part-00263-a50e3852-5fe1-4e47-b2de-a30cd5f99ce6-c000.snappy.parquet',\n",
       " '/part-00264-a50e3852-5fe1-4e47-b2de-a30cd5f99ce6-c000.snappy.parquet',\n",
       " '/part-00265-a50e3852-5fe1-4e47-b2de-a30cd5f99ce6-c000.snappy.parquet',\n",
       " '/part-00266-a50e3852-5fe1-4e47-b2de-a30cd5f99ce6-c000.snappy.parquet',\n",
       " '/part-00267-a50e3852-5fe1-4e47-b2de-a30cd5f99ce6-c000.snappy.parquet',\n",
       " '/part-00268-a50e3852-5fe1-4e47-b2de-a30cd5f99ce6-c000.snappy.parquet']"
      ]
     },
     "execution_count": 38,
     "metadata": {},
     "output_type": "execute_result"
    }
   ],
   "source": [
    "fog_files"
   ]
  },
  {
   "cell_type": "code",
   "execution_count": 39,
   "id": "a3dd5a65-59c7-4f02-bbc6-b05839f94a86",
   "metadata": {},
   "outputs": [],
   "source": [
    "k = spark.read.csv(\"gs://msca-bdp-student-gcs/parkinsons_data/train/tdcsfog/0a89f859b5.csv\", inferSchema=True, header=True)"
   ]
  },
  {
   "cell_type": "code",
   "execution_count": 40,
   "id": "9f1691b5-1140-4907-9a93-6c2ce6b3b520",
   "metadata": {},
   "outputs": [
    {
     "data": {
      "text/plain": [
       "9155"
      ]
     },
     "execution_count": 40,
     "metadata": {},
     "output_type": "execute_result"
    }
   ],
   "source": [
    "k.count()"
   ]
  },
  {
   "cell_type": "code",
   "execution_count": null,
   "id": "edf51003-e358-4c35-bdee-7deb4a45d266",
   "metadata": {},
   "outputs": [],
   "source": []
  }
 ],
 "metadata": {
  "kernelspec": {
   "display_name": "PySpark (Local)",
   "language": "python",
   "name": "local-pyspark"
  },
  "language_info": {
   "codemirror_mode": {
    "name": "ipython",
    "version": 3
   },
   "file_extension": ".py",
   "mimetype": "text/x-python",
   "name": "python",
   "nbconvert_exporter": "python",
   "pygments_lexer": "ipython3",
   "version": "3.7.12"
  }
 },
 "nbformat": 4,
 "nbformat_minor": 5
}
