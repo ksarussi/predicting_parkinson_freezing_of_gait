{
 "cells": [
  {
   "cell_type": "markdown",
   "id": "1fc14a98-1ff7-43cf-b7d3-6b9c5c55cc08",
   "metadata": {},
   "source": [
    "# Load Fog data with subjects metadata"
   ]
  },
  {
   "cell_type": "code",
   "execution_count": null,
   "id": "6cfcc6c8-88ad-400c-a136-b871c5b111df",
   "metadata": {},
   "outputs": [],
   "source": [
    "import os \n",
    "from utils.utils import *\n",
    "from pyspark.sql.functions import lit\n",
    "spark = SparkSession.builder.appName(\"PySpark Cloud Test\").getOrCreate()"
   ]
  },
  {
   "cell_type": "code",
   "execution_count": null,
   "id": "7aae7332-9eb7-485b-a1d1-d451c5654e63",
   "metadata": {},
   "outputs": [],
   "source": [
    "fog_path = \"parkinsons_data/train/processed\"\n",
    "fog_files = list_blobs(\"msca-bdp-student-gcs\", string_match=fog_path)"
   ]
  },
  {
   "cell_type": "code",
   "execution_count": null,
   "id": "908b466a-d515-45ed-a540-df4352d439c8",
   "metadata": {},
   "outputs": [],
   "source": [
    "new_fog = feed_files(fog_files, prefix=fog_path, v=1, spark=spark)"
   ]
  }
 ],
 "metadata": {
  "kernelspec": {
   "display_name": "PySpark (Local)",
   "language": "python",
   "name": "local-pyspark"
  },
  "language_info": {
   "codemirror_mode": {
    "name": "ipython",
    "version": 3
   },
   "file_extension": ".py",
   "mimetype": "text/x-python",
   "name": "python",
   "nbconvert_exporter": "python",
   "pygments_lexer": "ipython3",
   "version": "3.7.12"
  }
 },
 "nbformat": 4,
 "nbformat_minor": 5
}
