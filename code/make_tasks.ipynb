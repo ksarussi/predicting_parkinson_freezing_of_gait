{
 "cells": [
  {
   "cell_type": "markdown",
   "id": "2c28b5f7-56b4-4f97-9bbc-b3afe3b34608",
   "metadata": {},
   "source": [
    "Join tasks data with fog, transform target variable"
   ]
  },
  {
   "cell_type": "code",
   "execution_count": 1,
   "id": "5a66e2a5-c353-4f44-a848-b186e1e45cc5",
   "metadata": {},
   "outputs": [],
   "source": [
    "import os \n",
    "#from utils.utils import *\n",
    "from fog.code.utils.utils import *\n",
    "from pyspark.sql import SparkSession\n",
    "import pyspark.sql.functions as F"
   ]
  },
  {
   "cell_type": "code",
   "execution_count": 2,
   "id": "a8df8cd8-eed3-4e26-99f3-072e1a39eb1c",
   "metadata": {},
   "outputs": [
    {
     "data": {
      "text/plain": [
       "[('spark.app.id', 'application_1684436604634_0023'),\n",
       " ('spark.dynamicAllocation.minExecutors', '1'),\n",
       " ('spark.driver.port', '35673'),\n",
       " ('spark.eventLog.enabled', 'true'),\n",
       " ('spark.dataproc.metrics.listener.metrics.collector.hostname', 'bdp-zm-m'),\n",
       " ('spark.dataproc.sql.parquet.enableFooterCache', 'true'),\n",
       " ('spark.sql.warehouse.dir', 'file:/spark-warehouse'),\n",
       " ('spark.dataproc.sql.joinConditionReorder.enabled', 'true'),\n",
       " ('spark.org.apache.hadoop.yarn.server.webproxy.amfilter.AmIpFilter.param.PROXY_HOSTS',\n",
       "  'bdp-zm-m'),\n",
       " ('spark.executor.memory', '5739m'),\n",
       " ('spark.history.fs.logDirectory',\n",
       "  'gs://dataproc-temp-us-central1-635155370842-uzamlpgc/3b0a7a61-e426-4c65-998e-695fa4b5fd84/spark-job-history'),\n",
       " ('spark.yarn.am.memory', '640m'),\n",
       " ('spark.driver.host', 'bdp-zm-m.c.msca-bdp-student-ap.internal'),\n",
       " ('spark.hadoop.mapreduce.fileoutputcommitter.concurrent.write.enabled',\n",
       "  'false'),\n",
       " ('spark.dataproc.sql.local.rank.pushdown.enabled', 'true'),\n",
       " ('spark.executor.instances', '2'),\n",
       " ('spark.app.startTime', '1684445676790'),\n",
       " ('spark.serializer.objectStreamReset', '100'),\n",
       " ('spark.yarn.unmanagedAM.enabled', 'true'),\n",
       " ('spark.sql.autoBroadcastJoinThreshold', '43m'),\n",
       " ('spark.submit.deployMode', 'client'),\n",
       " ('spark.extraListeners',\n",
       "  'com.google.cloud.spark.performance.DataprocMetricsListener'),\n",
       " ('spark.ui.filters',\n",
       "  'org.apache.hadoop.yarn.server.webproxy.amfilter.AmIpFilter'),\n",
       " ('spark.sql.cbo.joinReorder.enabled', 'true'),\n",
       " ('spark.driver.maxResultSize', '1920m'),\n",
       " ('spark.eventLog.dir',\n",
       "  'gs://dataproc-temp-us-central1-635155370842-uzamlpgc/3b0a7a61-e426-4c65-998e-695fa4b5fd84/spark-job-history'),\n",
       " ('spark.shuffle.service.enabled', 'true'),\n",
       " ('spark.metrics.namespace',\n",
       "  'app_name:${spark.app.name}.app_id:${spark.app.id}'),\n",
       " ('spark.scheduler.mode', 'FAIR'),\n",
       " ('spark.dataproc.sql.optimizer.leftsemijoin.conversion.enabled', 'true'),\n",
       " ('spark.sql.adaptive.enabled', 'true'),\n",
       " ('spark.yarn.jars', 'local:/usr/lib/spark/jars/*'),\n",
       " ('spark.scheduler.minRegisteredResourcesRatio', '0.0'),\n",
       " ('spark.executor.id', 'driver'),\n",
       " ('spark.hadoop.hive.execution.engine', 'mr'),\n",
       " ('spark.executor.cores', '2'),\n",
       " ('spark.app.name', 'PySparkShell'),\n",
       " ('spark.hadoop.mapreduce.fileoutputcommitter.algorithm.version', '2'),\n",
       " ('spark.dynamicAllocation.maxExecutors', '10000'),\n",
       " ('spark.ui.proxyBase', '/proxy/application_1684436604634_0023'),\n",
       " ('spark.master', 'yarn'),\n",
       " ('spark.ui.port', '0'),\n",
       " ('spark.executorEnv.PYTHONPATH',\n",
       "  '/usr/lib/spark/python/lib/py4j-0.10.9-src.zip:/usr/lib/spark/python/:<CPS>{{PWD}}/pyspark.zip<CPS>{{PWD}}/py4j-0.10.9-src.zip'),\n",
       " ('spark.sql.catalogImplementation', 'hive'),\n",
       " ('spark.rpc.message.maxSize', '512'),\n",
       " ('spark.rdd.compress', 'True'),\n",
       " ('spark.executorEnv.OPENBLAS_NUM_THREADS', '1'),\n",
       " ('spark.submit.pyFiles', ''),\n",
       " ('spark.driver.memory', '3840m'),\n",
       " ('spark.dynamicAllocation.enabled', 'true'),\n",
       " ('spark.yarn.isPython', 'true'),\n",
       " ('spark.yarn.historyServer.address', 'bdp-zm-m:18080'),\n",
       " ('spark.ui.showConsoleProgress', 'true'),\n",
       " ('spark.driver.appUIAddress',\n",
       "  'http://bdp-zm-m.c.msca-bdp-student-ap.internal:37611'),\n",
       " ('spark.sql.cbo.enabled', 'true'),\n",
       " ('spark.org.apache.hadoop.yarn.server.webproxy.amfilter.AmIpFilter.param.PROXY_URI_BASES',\n",
       "  'http://bdp-zm-m:8088/proxy/application_1684436604634_0023')]"
      ]
     },
     "execution_count": 2,
     "metadata": {},
     "output_type": "execute_result"
    }
   ],
   "source": [
    "spark = SparkSession.builder.appName(\"tasks\").getOrCreate()\n",
    "spark.sparkContext.getConf().getAll()"
   ]
  },
  {
   "cell_type": "markdown",
   "id": "cce5e4c5-6f5e-4d22-833b-a0b5f33a2a4a",
   "metadata": {},
   "source": [
    "### Tasks metadata description  \n",
    "tasks.csv: Task metadata for series in the defog dataset. (Not relevant for the series in the tdcsfog or daily datasets.)    \n",
    "&emsp; 1. Id: The data series where the task was measured.  \n",
    "&emsp; 2. Begin: Time (s) the task began.  \n",
    "&emsp; 3. End: Time (s) the task ended.  \n",
    "&emsp; 4. Task: One of seven tasks types in the DeFOG protocol, described on this page.  \n"
   ]
  },
  {
   "cell_type": "code",
   "execution_count": 3,
   "id": "4bab7a1f-5deb-4cc4-914a-a0bdbc991e4b",
   "metadata": {},
   "outputs": [
    {
     "name": "stderr",
     "output_type": "stream",
     "text": [
      "                                                                                \r"
     ]
    }
   ],
   "source": [
    "tasks_path = \"gs://msca-bdp-student-gcs/parkinsons_data/tasks.csv\"\n",
    "tasks = spark.read.csv(tasks_path, header=True)"
   ]
  },
  {
   "cell_type": "markdown",
   "id": "773507f5-d7a0-4801-a390-190b7cd8847a",
   "metadata": {},
   "source": [
    "1. convert times from string to double\n",
    "2. rename Type column to TypeName\n",
    "3. create dummy variables\n",
    "4. merge with fog dataset"
   ]
  },
  {
   "cell_type": "code",
   "execution_count": 4,
   "id": "54ee7d3f-f0b2-4f44-8335-ea5f07b5e148",
   "metadata": {},
   "outputs": [],
   "source": [
    "# convert times to double\n",
    "tasks = tasks.withColumn(\"Begin\",tasks.Begin.cast('double')) \\\n",
    "    .withColumn(\"End\",tasks.End.cast('double'))"
   ]
  },
  {
   "cell_type": "code",
   "execution_count": 5,
   "id": "b00e8c99-2b32-4422-962e-7953b5cbf833",
   "metadata": {},
   "outputs": [],
   "source": [
    "# rename tasks\n",
    "tasks = tasks.withColumnRenamed(\"Task\",\"TaskType\")"
   ]
  },
  {
   "cell_type": "code",
   "execution_count": 6,
   "id": "4a678a90-d76d-4b4e-a3fb-c43413083f31",
   "metadata": {},
   "outputs": [
    {
     "name": "stderr",
     "output_type": "stream",
     "text": [
      "                                                                                \r"
     ]
    }
   ],
   "source": [
    "# count occurrences of each task to compare later\n",
    "task_counts = tasks.groupBy(\"TaskType\").count().sort(F.desc(\"count\")).collect()\n",
    "\n",
    "task_dict ={}\n",
    "for task, count in task_counts:\n",
    "    task_dict[task] = count"
   ]
  },
  {
   "cell_type": "code",
   "execution_count": 7,
   "id": "59b4551a-2919-4143-8796-efe14de4a929",
   "metadata": {},
   "outputs": [
    {
     "name": "stderr",
     "output_type": "stream",
     "text": [
      "                                                                                \r"
     ]
    }
   ],
   "source": [
    "# create dummy vars\n",
    "tasks_dummy = create_dummies(tasks, \"TaskType\")"
   ]
  },
  {
   "cell_type": "code",
   "execution_count": 8,
   "id": "b5d0d5ed-f0ab-45b5-977f-eb41bf7e019d",
   "metadata": {},
   "outputs": [
    {
     "name": "stderr",
     "output_type": "stream",
     "text": [
      "23/05/18 21:35:20 WARN org.apache.spark.sql.catalyst.util.package: Truncated the string representation of a plan since it was too large. This behavior can be adjusted by setting 'spark.sql.debug.maxToStringFields'.\n",
      "[Stage 12:>                                                         (0 + 1) / 1]\r"
     ]
    },
    {
     "name": "stdout",
     "output_type": "stream",
     "text": [
      "We have retained the original counts: True\n"
     ]
    },
    {
     "name": "stderr",
     "output_type": "stream",
     "text": [
      "                                                                                \r"
     ]
    }
   ],
   "source": [
    "# check that we retained original counts\n",
    "test_count = tasks_dummy.groupBy().sum().collect()\n",
    "test_dict = test_count[0].asDict()\n",
    "for k, v in test_dict.items():\n",
    "    col = k[4:-1]\n",
    "    if col != \"Begin\" and col != \"End\":\n",
    "        if v != task_dict[col]:\n",
    "            print(\"We have retained the original counts:\", False)\n",
    "print(\"We have retained the original counts:\", True)"
   ]
  },
  {
   "cell_type": "code",
   "execution_count": 9,
   "id": "52aa3a76-d7d8-489f-8ef9-3c7cecbbe293",
   "metadata": {},
   "outputs": [
    {
     "name": "stdout",
     "output_type": "stream",
     "text": [
      "+----------+------+------+--------+---+-----+-----+-----+---------+----+-----+----+---+-----+----+------+----------+------+-----+--------+---+-----+---+----------+----------+---+--------+---+---+---+-----+----+----+----------+----+\n",
      "|        Id| Begin|   End|TaskType|MB9|Rest1|MB6-L|MB6-R|Turning-C|MB2a|MB3-L|MB12|MB5|MB3-R|MB13|TUG-DT|Turning-ST|TUG-ST|4MW-C|Hotspot2|MB6|TUG-C|4MW|Hotspot1-C|Hotspot2-C|MB8|Hotspot1|MB4|MB1|MB7|Rest2|MB2b|MB10|Turning-DT|MB11|\n",
      "+----------+------+------+--------+---+-----+-----+-----+---------+----+-----+----+---+-----+----+------+----------+------+-----+--------+---+-----+---+----------+----------+---+--------+---+---+---+-----+----+----+----------+----+\n",
      "|02ab235146|  10.0|190.48|   Rest1|  0|    1|    0|    0|        0|   0|    0|   0|  0|    0|   0|     0|         0|     0|    0|       0|  0|    0|  0|         0|         0|  0|       0|  0|  0|  0|    0|   0|   0|         0|   0|\n",
      "|02ab235146|211.24|271.56|   Rest2|  0|    0|    0|    0|        0|   0|    0|   0|  0|    0|   0|     0|         0|     0|    0|       0|  0|    0|  0|         0|         0|  0|       0|  0|  0|  0|    1|   0|   0|         0|   0|\n",
      "|02ab235146|505.88| 522.4|     4MW|  0|    0|    0|    0|        0|   0|    0|   0|  0|    0|   0|     0|         0|     0|    0|       0|  0|    0|  1|         0|         0|  0|       0|  0|  0|  0|    0|   0|   0|         0|   0|\n",
      "|02ab235146|577.96|594.64|   4MW-C|  0|    0|    0|    0|        0|   0|    0|   0|  0|    0|   0|     0|         0|     0|    1|       0|  0|    0|  0|         0|         0|  0|       0|  0|  0|  0|    0|   0|   0|         0|   0|\n",
      "|02ab235146|701.32|715.28|     MB1|  0|    0|    0|    0|        0|   0|    0|   0|  0|    0|   0|     0|         0|     0|    0|       0|  0|    0|  0|         0|         0|  0|       0|  0|  1|  0|    0|   0|   0|         0|   0|\n",
      "+----------+------+------+--------+---+-----+-----+-----+---------+----+-----+----+---+-----+----+------+----------+------+-----+--------+---+-----+---+----------+----------+---+--------+---+---+---+-----+----+----+----------+----+\n",
      "only showing top 5 rows\n",
      "\n"
     ]
    }
   ],
   "source": [
    "tasks_dummy.show(5)"
   ]
  },
  {
   "cell_type": "code",
   "execution_count": 11,
   "id": "3904ea77-3980-47b2-8e52-53c01eb20f1f",
   "metadata": {},
   "outputs": [],
   "source": [
    "# load in fog\n",
    "fog = spark.read.parquet(\"gs://msca-bdp-student-gcs/parkinsons_data/train/processed/defog\")"
   ]
  },
  {
   "cell_type": "code",
   "execution_count": 12,
   "id": "93e63de5-db44-4523-8e3e-1b79c934fad7",
   "metadata": {},
   "outputs": [],
   "source": [
    "# convert fog TimeSeconds to float\n",
    "fog = fog.withColumn(\"TimeSeconds\",fog.TimeSeconds.cast('double'))"
   ]
  },
  {
   "cell_type": "code",
   "execution_count": 13,
   "id": "fcb5a950-5122-4108-b297-c0181f25927e",
   "metadata": {
    "tags": []
   },
   "outputs": [],
   "source": [
    "# join fog with tasks\n",
    "cond = (tasks_dummy.Id == fog.Id) & (fog.TimeSeconds.between(tasks_dummy.Begin, tasks_dummy.End))\n",
    "fog_tasks = fog \\\n",
    "    .join(tasks_dummy, how='left', on=cond)\\\n",
    "    .drop(tasks_dummy.Id)\n",
    "fog_tasks = fog_tasks.na.fill(0)"
   ]
  },
  {
   "cell_type": "code",
   "execution_count": 14,
   "id": "4ce872b1-107f-4365-a5d9-3d213afb7daf",
   "metadata": {},
   "outputs": [
    {
     "name": "stderr",
     "output_type": "stream",
     "text": [
      "                                                                                \r"
     ]
    }
   ],
   "source": [
    "fog_count = fog.count()\n",
    "fog_tasks_count = fog_tasks.count()"
   ]
  },
  {
   "cell_type": "code",
   "execution_count": 16,
   "id": "bfb2f877-38ff-4ed3-9a7b-3d0256d68ea5",
   "metadata": {},
   "outputs": [
    {
     "name": "stdout",
     "output_type": "stream",
     "text": [
      "Are counts same after join? fog taks count: 13525703, fog count 13525702 -> False\n"
     ]
    }
   ],
   "source": [
    "print(f\"Are counts same after join? fog taks count: {fog_tasks_count}, fog count {fog_count} -> { fog_tasks_count == fog_count}\")"
   ]
  },
  {
   "cell_type": "code",
   "execution_count": 20,
   "id": "73d382a7-5f56-48e2-8539-9033c930a04b",
   "metadata": {},
   "outputs": [],
   "source": [
    "fog_tasks1 = transform_target(fog_tasks)"
   ]
  },
  {
   "cell_type": "code",
   "execution_count": 21,
   "id": "ecf3a5e9-0cf9-4abb-af28-369ff941afc4",
   "metadata": {},
   "outputs": [
    {
     "name": "stderr",
     "output_type": "stream",
     "text": [
      "                                                                                \r"
     ]
    }
   ],
   "source": [
    "fog_tasks1_count = fog_tasks1.count()"
   ]
  },
  {
   "cell_type": "code",
   "execution_count": 22,
   "id": "fb8f3360-afde-4d66-9ff1-79e08dc4a6e6",
   "metadata": {},
   "outputs": [
    {
     "data": {
      "text/plain": [
       "13525703"
      ]
     },
     "execution_count": 22,
     "metadata": {},
     "output_type": "execute_result"
    }
   ],
   "source": [
    "fog_tasks1_count"
   ]
  },
  {
   "cell_type": "code",
   "execution_count": 23,
   "id": "14524f0b-54af-4ea1-8a2e-e1a1dff4d3a2",
   "metadata": {},
   "outputs": [
    {
     "name": "stdout",
     "output_type": "stream",
     "text": [
      "Are counts same after transform? -> False\n"
     ]
    }
   ],
   "source": [
    "print(f\"Are counts same after transform? -> { fog_tasks1_count == fog_count}\")"
   ]
  },
  {
   "cell_type": "code",
   "execution_count": 33,
   "id": "f1cbf0a3-6d9d-4507-9a47-6f3c013a8e53",
   "metadata": {
    "tags": []
   },
   "outputs": [
    {
     "name": "stdout",
     "output_type": "stream",
     "text": [
      "WARNING:  SAVING, BUT ROW COUNT NOT PRESERVED. Original: 13525702, Saved: 13525703\n"
     ]
    },
    {
     "name": "stderr",
     "output_type": "stream",
     "text": [
      "                                                                                \r"
     ]
    }
   ],
   "source": [
    "if fog_tasks1_count != fog_count:\n",
    "    print(f\"WARNING:  SAVING, BUT ROW COUNT NOT PRESERVED. Original: {fog_count}, Saved: {fog_tasks1_count}\")\n",
    "fog_tasks1.write.format(\"parquet\").mode(\"overwrite\").save(\"gs://msca-bdp-student-gcs/parkinsons_data/train/processed/defog_tasks\")"
   ]
  },
  {
   "cell_type": "code",
   "execution_count": null,
   "id": "b3642015-fbd1-449b-8ee8-01ca7e918892",
   "metadata": {},
   "outputs": [],
   "source": []
  }
 ],
 "metadata": {
  "kernelspec": {
   "display_name": "PySpark",
   "language": "python",
   "name": "pyspark"
  },
  "language_info": {
   "codemirror_mode": {
    "name": "ipython",
    "version": 3
   },
   "file_extension": ".py",
   "mimetype": "text/x-python",
   "name": "python",
   "nbconvert_exporter": "python",
   "pygments_lexer": "ipython3",
   "version": "3.8.15"
  }
 },
 "nbformat": 4,
 "nbformat_minor": 5
}
