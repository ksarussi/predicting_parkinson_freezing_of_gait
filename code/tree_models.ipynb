{
 "cells": [
  {
   "cell_type": "code",
   "execution_count": 22,
   "id": "91bae3c2-4d30-457c-9237-06091a7e50e8",
   "metadata": {},
   "outputs": [],
   "source": [
    "import os \n",
    "# from utils.utils import *\n",
    "\n",
    "# from fog.code.utils.utils import *\n",
    "from pyspark.sql.functions import lit, col, when\n",
    "from pyspark.sql.types import StringType, BooleanType, IntegerType, FloatType, DateType\n",
    "from pyspark.sql import SparkSession\n",
    "from pyspark.sql import functions as F\n",
    "from google.cloud import storage\n",
    "\n",
    "import matplotlib.pyplot as plt\n",
    "from pyspark.ml.feature import VectorAssembler, StandardScaler, StringIndexer, OneHotEncoder\n",
    "from pyspark.ml import Pipeline\n",
    "\n",
    "from pyspark.ml.classification import MultilayerPerceptronClassifier, DecisionTreeClassifier, RandomForestClassifier\n",
    "from pyspark.ml.evaluation import MulticlassClassificationEvaluator\n",
    "from pyspark.mllib.evaluation import MulticlassMetrics\n",
    "from sklearn.metrics import confusion_matrix"
   ]
  },
  {
   "cell_type": "code",
   "execution_count": 2,
   "id": "d5c22b2f-fe8b-4ef0-b363-ca3d594f852e",
   "metadata": {},
   "outputs": [],
   "source": [
    "spark = SparkSession.builder.appName(\"Model Test\").getOrCreate()"
   ]
  },
  {
   "cell_type": "markdown",
   "id": "99b8e11e-1845-4cfd-8914-0155d1ada300",
   "metadata": {},
   "source": [
    "## Functions for data loading and assembling"
   ]
  },
  {
   "cell_type": "code",
   "execution_count": 3,
   "id": "a5b3f6e3-6e0b-4922-a2d1-d76235e3b85f",
   "metadata": {},
   "outputs": [],
   "source": [
    "def feed_files(top_bucket_name, prefix, suffix):\n",
    "    client = storage.Client()\n",
    "    blobs = client.list_blobs(top_bucket_name, prefix=prefix)\n",
    "\n",
    "    processed = None\n",
    "\n",
    "    for i, blob in enumerate(blobs):\n",
    "        print(blob.name)\n",
    "        if blob.name.endswith(suffix):\n",
    "            \n",
    "            if suffix == \".parquet\":\n",
    "                df = spark.read.parquet(f\"gs://{top_bucket_name}/{blob.name}\")\n",
    "            elif suffix == \".csv\":\n",
    "                df = spark.read.csv(f\"gs://{top_bucket_name}/{blob.name}\")\n",
    "            if processed is None:\n",
    "                processed = df\n",
    "            else:\n",
    "                processed = processed.union(df)\n",
    "    return processed"
   ]
  },
  {
   "cell_type": "code",
   "execution_count": 4,
   "id": "7826868a-75a1-49e9-bb7e-20ba10f46f43",
   "metadata": {},
   "outputs": [],
   "source": [
    "data_path = \"parkinsons_data/train/processed/defog_tasks_lagging\"\n",
    "top_bucket_name = \"msca-bdp-student-gcs\""
   ]
  },
  {
   "cell_type": "code",
   "execution_count": 5,
   "id": "0a0fb118-c6b3-4cd9-909b-a62e81990539",
   "metadata": {},
   "outputs": [
    {
     "name": "stdout",
     "output_type": "stream",
     "text": [
      "parkinsons_data/train/processed/defog_tasks_lagging/\n",
      "parkinsons_data/train/processed/defog_tasks_lagging/_SUCCESS\n",
      "parkinsons_data/train/processed/defog_tasks_lagging/part-00000-eae2acef-cda6-49a5-b43f-ded309b7bad5-c000.snappy.parquet\n"
     ]
    },
    {
     "name": "stderr",
     "output_type": "stream",
     "text": [
      "                                                                                \r"
     ]
    },
    {
     "name": "stdout",
     "output_type": "stream",
     "text": [
      "parkinsons_data/train/processed/defog_tasks_lagging/part-00001-eae2acef-cda6-49a5-b43f-ded309b7bad5-c000.snappy.parquet\n",
      "parkinsons_data/train/processed/defog_tasks_lagging/part-00002-eae2acef-cda6-49a5-b43f-ded309b7bad5-c000.snappy.parquet\n",
      "parkinsons_data/train/processed/defog_tasks_lagging/part-00003-eae2acef-cda6-49a5-b43f-ded309b7bad5-c000.snappy.parquet\n",
      "parkinsons_data/train/processed/defog_tasks_lagging/part-00004-eae2acef-cda6-49a5-b43f-ded309b7bad5-c000.snappy.parquet\n",
      "parkinsons_data/train/processed/defog_tasks_lagging/part-00005-eae2acef-cda6-49a5-b43f-ded309b7bad5-c000.snappy.parquet\n",
      "parkinsons_data/train/processed/defog_tasks_lagging/part-00006-eae2acef-cda6-49a5-b43f-ded309b7bad5-c000.snappy.parquet\n",
      "parkinsons_data/train/processed/defog_tasks_lagging/part-00007-eae2acef-cda6-49a5-b43f-ded309b7bad5-c000.snappy.parquet\n",
      "parkinsons_data/train/processed/defog_tasks_lagging/part-00008-eae2acef-cda6-49a5-b43f-ded309b7bad5-c000.snappy.parquet\n",
      "parkinsons_data/train/processed/defog_tasks_lagging/part-00009-eae2acef-cda6-49a5-b43f-ded309b7bad5-c000.snappy.parquet\n",
      "parkinsons_data/train/processed/defog_tasks_lagging/part-00010-eae2acef-cda6-49a5-b43f-ded309b7bad5-c000.snappy.parquet\n",
      "parkinsons_data/train/processed/defog_tasks_lagging/part-00011-eae2acef-cda6-49a5-b43f-ded309b7bad5-c000.snappy.parquet\n",
      "parkinsons_data/train/processed/defog_tasks_lagging/part-00012-eae2acef-cda6-49a5-b43f-ded309b7bad5-c000.snappy.parquet\n",
      "parkinsons_data/train/processed/defog_tasks_lagging/part-00013-eae2acef-cda6-49a5-b43f-ded309b7bad5-c000.snappy.parquet\n",
      "parkinsons_data/train/processed/defog_tasks_lagging/part-00014-eae2acef-cda6-49a5-b43f-ded309b7bad5-c000.snappy.parquet\n",
      "parkinsons_data/train/processed/defog_tasks_lagging/part-00015-eae2acef-cda6-49a5-b43f-ded309b7bad5-c000.snappy.parquet\n",
      "parkinsons_data/train/processed/defog_tasks_lagging/part-00016-eae2acef-cda6-49a5-b43f-ded309b7bad5-c000.snappy.parquet\n",
      "parkinsons_data/train/processed/defog_tasks_lagging/part-00017-eae2acef-cda6-49a5-b43f-ded309b7bad5-c000.snappy.parquet\n",
      "parkinsons_data/train/processed/defog_tasks_lagging/part-00018-eae2acef-cda6-49a5-b43f-ded309b7bad5-c000.snappy.parquet\n",
      "parkinsons_data/train/processed/defog_tasks_lagging/part-00019-eae2acef-cda6-49a5-b43f-ded309b7bad5-c000.snappy.parquet\n",
      "parkinsons_data/train/processed/defog_tasks_lagging/part-00020-eae2acef-cda6-49a5-b43f-ded309b7bad5-c000.snappy.parquet\n",
      "parkinsons_data/train/processed/defog_tasks_lagging/part-00021-eae2acef-cda6-49a5-b43f-ded309b7bad5-c000.snappy.parquet\n",
      "parkinsons_data/train/processed/defog_tasks_lagging/part-00022-eae2acef-cda6-49a5-b43f-ded309b7bad5-c000.snappy.parquet\n",
      "parkinsons_data/train/processed/defog_tasks_lagging/part-00023-eae2acef-cda6-49a5-b43f-ded309b7bad5-c000.snappy.parquet\n",
      "parkinsons_data/train/processed/defog_tasks_lagging/part-00024-eae2acef-cda6-49a5-b43f-ded309b7bad5-c000.snappy.parquet\n",
      "parkinsons_data/train/processed/defog_tasks_lagging/part-00025-eae2acef-cda6-49a5-b43f-ded309b7bad5-c000.snappy.parquet\n",
      "parkinsons_data/train/processed/defog_tasks_lagging/part-00026-eae2acef-cda6-49a5-b43f-ded309b7bad5-c000.snappy.parquet\n",
      "parkinsons_data/train/processed/defog_tasks_lagging/part-00027-eae2acef-cda6-49a5-b43f-ded309b7bad5-c000.snappy.parquet\n",
      "parkinsons_data/train/processed/defog_tasks_lagging/part-00028-eae2acef-cda6-49a5-b43f-ded309b7bad5-c000.snappy.parquet\n"
     ]
    }
   ],
   "source": [
    "df = feed_files(top_bucket_name, data_path, \".parquet\")"
   ]
  },
  {
   "cell_type": "code",
   "execution_count": 6,
   "id": "690c785d-6993-4739-9b6a-66502578b48c",
   "metadata": {},
   "outputs": [
    {
     "data": {
      "text/plain": [
       "['Subject',\n",
       " 'Visit',\n",
       " 'Id',\n",
       " 'Time',\n",
       " 'AccV',\n",
       " 'AccML',\n",
       " 'AccAP',\n",
       " 'StartHesitation',\n",
       " 'Turn',\n",
       " 'Walking',\n",
       " 'Valid',\n",
       " 'Task',\n",
       " 'SourceDefog',\n",
       " 'Medication',\n",
       " 'Age',\n",
       " 'Sex',\n",
       " 'YearsSinceDx',\n",
       " 'UPDRSIII_On',\n",
       " 'UPDRSIII_Off',\n",
       " 'NFOGQ',\n",
       " 'Test',\n",
       " 'TimeSeconds',\n",
       " 'Begin',\n",
       " 'End',\n",
       " 'TaskType',\n",
       " 'MB9',\n",
       " 'Rest1',\n",
       " 'MB6-L',\n",
       " 'MB6-R',\n",
       " 'Turning-C',\n",
       " 'MB2a',\n",
       " 'MB3-L',\n",
       " 'MB12',\n",
       " 'MB5',\n",
       " 'MB3-R',\n",
       " 'MB13',\n",
       " 'TUG-DT',\n",
       " 'Turning-ST',\n",
       " 'TUG-ST',\n",
       " '4MW-C',\n",
       " 'Hotspot2',\n",
       " 'MB6',\n",
       " 'TUG-C',\n",
       " '4MW',\n",
       " 'Hotspot1-C',\n",
       " 'Hotspot2-C',\n",
       " 'MB8',\n",
       " 'Hotspot1',\n",
       " 'MB4',\n",
       " 'MB1',\n",
       " 'MB7',\n",
       " 'Rest2',\n",
       " 'MB2b',\n",
       " 'MB10',\n",
       " 'Turning-DT',\n",
       " 'MB11',\n",
       " 'target',\n",
       " 'features',\n",
       " 'standardized',\n",
       " 'prediction_67',\n",
       " 'prediction4',\n",
       " 'AccV_lag1',\n",
       " 'AccV_lag2',\n",
       " 'AccV_lag3',\n",
       " 'AccV_lag4',\n",
       " 'AccV_lag5',\n",
       " 'AccV_lag6',\n",
       " 'AccV_lag7',\n",
       " 'AccV_lag8',\n",
       " 'AccV_lag9',\n",
       " 'AccV_lag10',\n",
       " 'AccML_lag1',\n",
       " 'AccML_lag2',\n",
       " 'AccML_lag3',\n",
       " 'AccML_lag4',\n",
       " 'AccML_lag5',\n",
       " 'AccML_lag6',\n",
       " 'AccML_lag7',\n",
       " 'AccML_lag8',\n",
       " 'AccML_lag9',\n",
       " 'AccML_lag10',\n",
       " 'AccAP_lag1',\n",
       " 'AccAP_lag2',\n",
       " 'AccAP_lag3',\n",
       " 'AccAP_lag4',\n",
       " 'AccAP_lag5',\n",
       " 'AccAP_lag6',\n",
       " 'AccAP_lag7',\n",
       " 'AccAP_lag8',\n",
       " 'AccAP_lag9',\n",
       " 'AccAP_lag10']"
      ]
     },
     "execution_count": 6,
     "metadata": {},
     "output_type": "execute_result"
    }
   ],
   "source": [
    "df.columns"
   ]
  },
  {
   "cell_type": "markdown",
   "id": "3cb7a3c6-f00a-4a4a-ac38-8002c6ee482b",
   "metadata": {},
   "source": [
    "## Update target columns\n",
    "The targets (Turn, Walking, StartHesitation) are only accurate when the columns \"Valid\" and \"Task\" are both true."
   ]
  },
  {
   "cell_type": "code",
   "execution_count": 7,
   "id": "9c43d6d3-04d6-4fae-8288-7871c2f30f39",
   "metadata": {},
   "outputs": [],
   "source": [
    "df = df.withColumn(\"StartHesTrue\", when((df.StartHesitation == 1) & (df.Valid == True) & (df.Task == True), 1).otherwise(0))\n",
    "df = df.withColumn(\"TurnTrue\", when((df.Turn == 1) & (df.Valid == True) & (df.Task == True), 1)\n",
    "      .otherwise(0))\n",
    "df = df.withColumn(\"WalkTrue\", when((df.Walking == 1) & (df.Valid == True) & (df.Task == True), 1)\n",
    "      .otherwise(0))\n",
    "df = df.withColumn(\"NoTrue\", when((df.StartHesTrue == 0) & (df.TurnTrue == 0)  & (df.WalkTrue == 0) & (df.Task == True), 1)\n",
    "      .otherwise(0))\n",
    "df = df.withColumn(\"target\", when((df.target == 1) & (df.Valid == True) & (df.Task == True), 1)\n",
    "                   .when((df.target == 2) & (df.Valid == True) & (df.Task == True), 2)\n",
    "                   .when((df.target == 3) & (df.Valid == True) & (df.Task == True), 3)\n",
    "                   .otherwise(0))"
   ]
  },
  {
   "cell_type": "code",
   "execution_count": 8,
   "id": "acdbee66-410a-48a1-8603-f78d06baee64",
   "metadata": {},
   "outputs": [
    {
     "name": "stderr",
     "output_type": "stream",
     "text": [
      "                                                                                \r"
     ]
    },
    {
     "name": "stdout",
     "output_type": "stream",
     "text": [
      "+------+--------+\n",
      "|Target|   count|\n",
      "+------+--------+\n",
      "|     1|      88|\n",
      "|     3|   70521|\n",
      "|     2|  414380|\n",
      "|     0|13040714|\n",
      "+------+--------+\n",
      "\n"
     ]
    }
   ],
   "source": [
    "df.select(\"target\").groupBy(\"Target\").count().show()"
   ]
  },
  {
   "cell_type": "code",
   "execution_count": 9,
   "id": "2aa29c78-aae6-4465-9dc3-2e3680670797",
   "metadata": {},
   "outputs": [
    {
     "name": "stderr",
     "output_type": "stream",
     "text": [
      "                                                                                \r"
     ]
    },
    {
     "name": "stdout",
     "output_type": "stream",
     "text": [
      "+--------+--------+\n",
      "|WalkTrue|   count|\n",
      "+--------+--------+\n",
      "|       1|   70521|\n",
      "|       0|13455182|\n",
      "+--------+--------+\n",
      "\n"
     ]
    },
    {
     "name": "stderr",
     "output_type": "stream",
     "text": [
      "                                                                                \r"
     ]
    },
    {
     "name": "stdout",
     "output_type": "stream",
     "text": [
      "+------------+--------+\n",
      "|StartHesTrue|   count|\n",
      "+------------+--------+\n",
      "|           1|      88|\n",
      "|           0|13525615|\n",
      "+------------+--------+\n",
      "\n"
     ]
    },
    {
     "name": "stderr",
     "output_type": "stream",
     "text": [
      "                                                                                \r"
     ]
    },
    {
     "name": "stdout",
     "output_type": "stream",
     "text": [
      "+--------+--------+\n",
      "|TurnTrue|   count|\n",
      "+--------+--------+\n",
      "|       1|  414380|\n",
      "|       0|13111323|\n",
      "+--------+--------+\n",
      "\n"
     ]
    }
   ],
   "source": [
    "df.select(\"WalkTrue\").groupBy(\"WalkTrue\").count().show()\n",
    "df.select(\"StartHesTrue\").groupBy(\"StartHesTrue\").count().show()\n",
    "df.select(\"TurnTrue\").groupBy(\"TurnTrue\").count().show()"
   ]
  },
  {
   "cell_type": "markdown",
   "id": "9667d9c7-bf55-40e4-a14f-d2e94fa0da4a",
   "metadata": {},
   "source": [
    "## Balancing the dataframe\n",
    "Code to balance the target class counts to improve classification accuracy"
   ]
  },
  {
   "cell_type": "code",
   "execution_count": 10,
   "id": "29b9c353-3f79-4e2b-836a-9835f8045189",
   "metadata": {},
   "outputs": [],
   "source": [
    "def resample(large_dataframe, ratio, class_field, base_class):\n",
    "    \"\"\"\n",
    "    Resample the majority class so your dataset is more balanced.\n",
    "    large_dataframe: df with all rows for all labels\n",
    "    ratio: ratio:1 == new_num_majority_samples:num_minority samples\n",
    "    class_field: target class field name\n",
    "    base_class: majority class\n",
    "    \"\"\"\n",
    "    pos = large_dataframe.filter(large_dataframe[class_field] != base_class)\n",
    "    neg = large_dataframe.filter(large_dataframe[class_field] == base_class)\n",
    "    total_pos = pos.count()\n",
    "    total_neg = neg.count()\n",
    "    print(total_pos)\n",
    "    print(total_neg)\n",
    "    print(ratio)\n",
    "    fraction=float(total_pos*ratio)/float(total_neg)\n",
    "    sampled = neg.sample(False,fraction)\n",
    "    \n",
    "    return sampled.union(pos)"
   ]
  },
  {
   "cell_type": "code",
   "execution_count": 11,
   "id": "04dc6522-b006-4e14-af3c-44aea9d621dd",
   "metadata": {},
   "outputs": [
    {
     "name": "stderr",
     "output_type": "stream",
     "text": [
      "                                                                                \r"
     ]
    },
    {
     "name": "stdout",
     "output_type": "stream",
     "text": [
      "484989\n",
      "13040714\n",
      "4\n"
     ]
    },
    {
     "name": "stderr",
     "output_type": "stream",
     "text": [
      "[Stage 55:=====================================================>(991 + 3) / 994]\r"
     ]
    },
    {
     "name": "stdout",
     "output_type": "stream",
     "text": [
      "+------+-------+\n",
      "|target|  count|\n",
      "+------+-------+\n",
      "|     1|     88|\n",
      "|     3|  70521|\n",
      "|     2| 414380|\n",
      "|     0|1939568|\n",
      "+------+-------+\n",
      "\n"
     ]
    },
    {
     "name": "stderr",
     "output_type": "stream",
     "text": [
      "                                                                                \r"
     ]
    }
   ],
   "source": [
    "dfsamp = resample(df, 4, \"target\", 0)\n",
    "dfsamp.select(\"target\").groupBy(\"target\").count().show()"
   ]
  },
  {
   "cell_type": "code",
   "execution_count": 12,
   "id": "1890565e-4ab9-495f-bd2c-73a244f13f53",
   "metadata": {},
   "outputs": [],
   "source": [
    "df2 = dfsamp.select('AccV',\n",
    " 'AccML',\n",
    " 'AccAP',\n",
    " 'Medication',\n",
    " 'Age',\n",
    " 'Sex',\n",
    " 'YearsSinceDx',\n",
    " 'UPDRSIII_On',\n",
    " 'UPDRSIII_Off',\n",
    " 'NFOGQ',\n",
    " 'TimeSeconds',\n",
    " 'MB9',\n",
    " 'Rest1',\n",
    " 'MB6-L',\n",
    " 'MB6-R',\n",
    " 'Turning-C',\n",
    " 'MB2a',\n",
    " 'MB3-L',\n",
    " 'MB12',\n",
    " 'MB5',\n",
    " 'MB3-R',\n",
    " 'MB13',\n",
    " 'TUG-DT',\n",
    " 'Turning-ST',\n",
    " 'TUG-ST',\n",
    " '4MW-C',\n",
    " 'Hotspot2',\n",
    " 'MB6',\n",
    " 'TUG-C',\n",
    " '4MW',\n",
    " 'Hotspot1-C',\n",
    " 'Hotspot2-C',\n",
    " 'MB8',\n",
    " 'Hotspot1',\n",
    " 'MB4',\n",
    " 'MB1',\n",
    " 'MB7',\n",
    " 'Rest2',\n",
    " 'MB2b',\n",
    " 'MB10',\n",
    " 'Turning-DT',\n",
    " 'MB11',\n",
    " 'target',\n",
    "'prediction_67',\n",
    " 'prediction4',\n",
    " 'AccV_lag1',\n",
    " 'AccV_lag2',\n",
    " 'AccV_lag3',\n",
    " 'AccV_lag4',\n",
    " 'AccV_lag5',\n",
    " 'AccV_lag6',\n",
    " 'AccV_lag7',\n",
    " 'AccV_lag8',\n",
    " 'AccV_lag9',\n",
    " 'AccV_lag10',\n",
    " 'AccML_lag1',\n",
    " 'AccML_lag2',\n",
    " 'AccML_lag3',\n",
    " 'AccML_lag4',\n",
    " 'AccML_lag5',\n",
    " 'AccML_lag6',\n",
    " 'AccML_lag7',\n",
    " 'AccML_lag8',\n",
    " 'AccML_lag9',\n",
    " 'AccML_lag10',\n",
    " 'AccAP_lag1',\n",
    " 'AccAP_lag2',\n",
    " 'AccAP_lag3',\n",
    " 'AccAP_lag4',\n",
    " 'AccAP_lag5',\n",
    " 'AccAP_lag6',\n",
    " 'AccAP_lag7',\n",
    " 'AccAP_lag8',\n",
    " 'AccAP_lag9',\n",
    " 'AccAP_lag10',\n",
    " 'StartHesTrue',\n",
    " 'TurnTrue',\n",
    " 'WalkTrue',\n",
    " 'NoTrue')"
   ]
  },
  {
   "cell_type": "code",
   "execution_count": 13,
   "id": "e93b9a1f-2861-4687-a605-b6a1352248eb",
   "metadata": {},
   "outputs": [],
   "source": [
    "floats = ['AccV',\n",
    " 'AccML',\n",
    " 'AccAP','AccV_lag1',\n",
    " 'AccV_lag2',\n",
    " 'AccV_lag3',\n",
    " 'AccV_lag4',\n",
    " 'AccV_lag5',\n",
    " 'AccV_lag6',\n",
    " 'AccV_lag7',\n",
    " 'AccV_lag8',\n",
    " 'AccV_lag9',\n",
    " 'AccV_lag10',\n",
    " 'AccML_lag1',\n",
    " 'AccML_lag2',\n",
    " 'AccML_lag3',\n",
    " 'AccML_lag4',\n",
    " 'AccML_lag5',\n",
    " 'AccML_lag6',\n",
    " 'AccML_lag7',\n",
    " 'AccML_lag8',\n",
    " 'AccML_lag9',\n",
    " 'AccML_lag10',\n",
    " 'AccAP_lag1',\n",
    " 'AccAP_lag2',\n",
    " 'AccAP_lag3',\n",
    " 'AccAP_lag4',\n",
    " 'AccAP_lag5',\n",
    " 'AccAP_lag6',\n",
    " 'AccAP_lag7',\n",
    " 'AccAP_lag8',\n",
    " 'AccAP_lag9',\n",
    " 'AccAP_lag10']"
   ]
  },
  {
   "cell_type": "code",
   "execution_count": 14,
   "id": "bcf92c6c-cb6e-48ff-9165-71814548d20d",
   "metadata": {},
   "outputs": [],
   "source": [
    "# Need to cast to \"double\" so vectorAssembler will work\n",
    "for col in floats:\n",
    "    df2 = df2.withColumn(\n",
    "    col,\n",
    "    F.col(col).cast(\"double\"))"
   ]
  },
  {
   "cell_type": "code",
   "execution_count": 15,
   "id": "7399e542-fb09-4c3a-bbc6-55c7606bccc6",
   "metadata": {},
   "outputs": [],
   "source": [
    "df2 = df2.fillna(0)"
   ]
  },
  {
   "cell_type": "markdown",
   "id": "164b6780-fc00-4c53-8ca8-80ae64710ad0",
   "metadata": {},
   "source": [
    "## Pipeline Creation"
   ]
  },
  {
   "cell_type": "code",
   "execution_count": 16,
   "id": "f1d97900-cb3e-4005-9742-ba8ca62928d2",
   "metadata": {},
   "outputs": [],
   "source": [
    "sex_indexer = StringIndexer(inputCol=\"Sex\", outputCol=\"sexIndex\")\n",
    "med_indexer = StringIndexer(inputCol=\"Medication\", outputCol=\"medIndex\")\n",
    "\n",
    "ohe_clust67 = OneHotEncoder(inputCol=\"prediction_67\", outputCol=\"pred67ohe\")\n",
    "ohe_clust4 = OneHotEncoder(inputCol=\"prediction4\", outputCol=\"pred4ohe\")\n",
    "ohe_sex = OneHotEncoder(inputCol=\"sexIndex\", outputCol=\"SexOhe\")\n",
    "ohe_med = OneHotEncoder(inputCol=\"medIndex\", outputCol=\"MedOhe\")\n",
    "\n",
    "assemble=VectorAssembler(inputCols=['AccV', 'AccML', 'AccAP', 'Age'], outputCol = 'assemblefeats')\n",
    "\n",
    "scaleML = StandardScaler(inputCol='assemblefeats', outputCol = 'scalefeats')\n",
    "\n",
    "#Create pipeline and pass all stages\n",
    "pipeline = Pipeline(stages=[sex_indexer,\n",
    "                            med_indexer,\n",
    "                            ohe_clust67,\n",
    "                            ohe_clust4,\n",
    "                            ohe_sex,\n",
    "                            ohe_med,\n",
    "                            assemble,\n",
    "                            scaleML])"
   ]
  },
  {
   "cell_type": "code",
   "execution_count": 17,
   "id": "ea6cec47-e95d-4d79-aebd-df6316c18b25",
   "metadata": {},
   "outputs": [
    {
     "name": "stderr",
     "output_type": "stream",
     "text": [
      "23/05/22 15:19:43 WARN org.apache.spark.sql.catalyst.util.package: Truncated the string representation of a plan since it was too large. This behavior can be adjusted by setting 'spark.sql.debug.maxToStringFields'.\n",
      "23/05/22 15:19:47 WARN org.apache.spark.scheduler.DAGScheduler: Broadcasting large task binary with size 4.2 MiB\n",
      "23/05/22 15:19:48 WARN org.apache.spark.scheduler.DAGScheduler: Broadcasting large task binary with size 4.2 MiB\n",
      "23/05/22 15:19:48 WARN org.apache.spark.scheduler.DAGScheduler: Broadcasting large task binary with size 4.2 MiB\n",
      "[Stage 75:=====================================================>  (19 + 1) / 20]\r"
     ]
    },
    {
     "name": "stdout",
     "output_type": "stream",
     "text": [
      "+-------------------+--------------------+--------------------+----------+---+---+------------+-----------+------------+-----+-----------+---+-----+-----+-----+---------+----+-----+----+---+-----+----+------+----------+------+-----+--------+---+-----+---+----------+----------+---+--------+---+---+---+-----+----+----+----------+----+------+-------------+-----------+-------------------+-------------------+-------------------+-------------------+-------------------+-------------------+-------------------+-------------------+-------------------+-------------------+--------------------+--------------------+--------------------+--------------------+--------------------+--------------------+--------------------+--------------------+--------------------+--------------------+--------------------+--------------------+--------------------+--------------------+--------------------+--------------------+--------------------+--------------------+--------------------+--------------------+------------+--------+--------+------+--------+--------+---------------+-------------+-------------+-------------+--------------------+--------------------+\n",
      "|               AccV|               AccML|               AccAP|Medication|Age|Sex|YearsSinceDx|UPDRSIII_On|UPDRSIII_Off|NFOGQ|TimeSeconds|MB9|Rest1|MB6-L|MB6-R|Turning-C|MB2a|MB3-L|MB12|MB5|MB3-R|MB13|TUG-DT|Turning-ST|TUG-ST|4MW-C|Hotspot2|MB6|TUG-C|4MW|Hotspot1-C|Hotspot2-C|MB8|Hotspot1|MB4|MB1|MB7|Rest2|MB2b|MB10|Turning-DT|MB11|target|prediction_67|prediction4|          AccV_lag1|          AccV_lag2|          AccV_lag3|          AccV_lag4|          AccV_lag5|          AccV_lag6|          AccV_lag7|          AccV_lag8|          AccV_lag9|         AccV_lag10|          AccML_lag1|          AccML_lag2|          AccML_lag3|          AccML_lag4|          AccML_lag5|          AccML_lag6|          AccML_lag7|          AccML_lag8|          AccML_lag9|         AccML_lag10|          AccAP_lag1|          AccAP_lag2|          AccAP_lag3|          AccAP_lag4|          AccAP_lag5|          AccAP_lag6|          AccAP_lag7|          AccAP_lag8|          AccAP_lag9|         AccAP_lag10|StartHesTrue|TurnTrue|WalkTrue|NoTrue|sexIndex|medIndex|      pred67ohe|     pred4ohe|       SexOhe|       MedOhe|       assemblefeats|          scalefeats|\n",
      "+-------------------+--------------------+--------------------+----------+---+---+------------+-----------+------------+-----+-----------+---+-----+-----+-----+---------+----+-----+----+---+-----+----+------+----------+------+-----+--------+---+-----+---+----------+----------+---+--------+---+---+---+-----+----+----+----------+----+------+-------------+-----------+-------------------+-------------------+-------------------+-------------------+-------------------+-------------------+-------------------+-------------------+-------------------+-------------------+--------------------+--------------------+--------------------+--------------------+--------------------+--------------------+--------------------+--------------------+--------------------+--------------------+--------------------+--------------------+--------------------+--------------------+--------------------+--------------------+--------------------+--------------------+--------------------+--------------------+------------+--------+--------+------+--------+--------+---------------+-------------+-------------+-------------+--------------------+--------------------+\n",
      "|-0.8983333706855774|-0.14672334492206573|  0.4233044683933258|       off| 62|  M|          13|         35|          45|   19|        0.0|  0|    0|    0|    0|        0|   0|    0|   0|  0|    0|   0|     0|         0|     0|    0|       0|  0|    0|  0|         0|         0|  0|       0|  0|  0|  0|    0|   0|   0|         0|   0|     0|           61|          1| -0.905724048614502|                0.0|                0.0|                0.0|                0.0|                0.0|                0.0|                0.0|                0.0|                0.0|     -0.135009765625|                 0.0|                 0.0|                 0.0|                 0.0|                 0.0|                 0.0|                 0.0|                 0.0|                 0.0|  0.4064669907093048|                 0.0|                 0.0|                 0.0|                 0.0|                 0.0|                 0.0|                 0.0|                 0.0|                 0.0|           0|       0|       0|     0|     0.0|     1.0|(66,[61],[1.0])|(3,[1],[1.0])|(1,[0],[1.0])|    (1,[],[])|[-0.8983333706855...|[-10.387951197623...|\n",
      "|-0.9055313467979431|-0.13454435765743256|  0.4114361107349396|        on| 62|  M|          13|         35|          45|   19|       10.0|  0|    1|    0|    0|        0|   0|    0|   0|  0|    0|   0|     0|         0|     0|    0|       0|  0|    0|  0|         0|         0|  0|       0|  0|  0|  0|    0|   0|   0|         0|   0|     0|           61|          1|-0.8987909555435181|-0.9063776731491089| -0.897925078868866| -0.906733512878418|-0.8972374200820923|           -0.90625|-0.8983333706855774| -0.905724048614502|                0.0|                0.0|  -0.146479532122612|   -0.13504558801651|-0.14794647693634033|-0.13408157229423523|-0.14654108881950378|     -0.135009765625|-0.14672334492206573|     -0.135009765625|                 0.0|                 0.0|  0.4239058792591095| 0.40707433223724365|  0.4216387867927551| 0.40758028626441956|      0.423095703125| 0.40366771817207336|  0.4233044683933258|  0.4064669907093048|                 0.0|                 0.0|           0|       0|       0|     1|     0.0|     0.0|(66,[61],[1.0])|(3,[1],[1.0])|(1,[0],[1.0])|(1,[0],[1.0])|[-0.9055313467979...|[-10.471185581446...|\n",
      "|-0.8984823226928711|-0.14384622871875763|  0.4258265793323517|       off| 62|  M|          13|         35|          45|   19|       10.0|  0|    1|    0|    0|        0|   0|    0|   0|  0|    0|   0|     0|         0|     0|    0|       0|  0|    0|  0|         0|         0|  0|       0|  0|  0|  0|    0|   0|   0|         0|   0|     0|           61|          1|-0.9055313467979431|-0.8987909555435181|-0.9063776731491089| -0.897925078868866| -0.906733512878418|-0.8972374200820923|           -0.90625|-0.8983333706855774| -0.905724048614502|                0.0|-0.13454435765743256|  -0.146479532122612|   -0.13504558801651|-0.14794647693634033|-0.13408157229423523|-0.14654108881950378|     -0.135009765625|-0.14672334492206573|     -0.135009765625|                 0.0|  0.4114361107349396|  0.4239058792591095| 0.40707433223724365|  0.4216387867927551| 0.40758028626441956|      0.423095703125| 0.40366771817207336|  0.4233044683933258|  0.4064669907093048|                 0.0|           0|       0|       0|     1|     0.0|     1.0|(66,[61],[1.0])|(3,[1],[1.0])|(1,[0],[1.0])|    (1,[],[])|[-0.8984823226928...|[-10.389673616307...|\n",
      "| -0.986225426197052|-0.18462924659252167|-0.03338401392102...|        on| 62|  M|          13|         35|          45|   19|    1000.04|  0|    0|    0|    0|        0|   0|    0|   0|  0|    0|   0|     0|         0|     0|    0|       0|  0|    0|  0|         0|         0|  0|       0|  0|  0|  0|    0|   0|   0|         0|   0|     0|           61|          1|-1.0219964981079102|-0.9906543493270874|-1.0345011949539185|-0.9933310151100159|-1.0304440259933472| -0.991043210029602|-1.0458320379257202|-0.9898492693901062|         -0.8984375|-0.8987681269645691|-0.27153030037879944| -0.1831495612859726| -0.2789602279663086|-0.18504853546619415| -0.2587755620479584|-0.18588626384735107| -0.2347102165222168|-0.18852923810482025|-0.14504791796207428|-0.12718285620212555|-0.02607288211584...|-0.03597841411828995|-0.06786911189556122|-0.03170352056622505|-0.09558932483196259|-0.02841698192059...|-0.11771190911531448|-0.02909520827233...|   0.424650639295578| 0.42027801275253296|           0|       0|       0|     0|     0.0|     0.0|(66,[61],[1.0])|(3,[1],[1.0])|(1,[0],[1.0])|(1,[0],[1.0])|[-0.9862254261970...|[-11.404298149774...|\n",
      "|    -0.986083984375|-0.18458127975463867|-0.03268834576010704|        on| 62|  M|          13|         35|          45|   19|    1000.07|  0|    0|    0|    0|        0|   0|    0|   0|  0|    0|   0|     0|         0|     0|    0|       0|  0|    0|  0|         0|         0|  0|       0|  0|  0|  0|    0|   0|   0|         0|   0|     0|           61|          1|-1.0010004043579102|-0.9837885499000549|-1.0083973407745361|-0.9846366047859192|-1.0095940828323364| -0.986225426197052|-1.0219964981079102|-0.9906543493270874|-1.0345011949539185|-0.9933310151100159|-0.16686691343784332|-0.18543404340744019|-0.21454940736293793|-0.18648071587085724|-0.24667444825172424|-0.18462924659252167|-0.27153030037879944| -0.1831495612859726| -0.2789602279663086|-0.18504853546619415|-0.01029948052018...|-0.03453658893704...|0.005777402780950069|-0.03329087793827057|  0.0049156011082232|-0.03338401392102...|-0.02607288211584...|-0.03597841411828995|-0.06786911189556122|-0.03170352056622505|           0|       0|       0|     0|     0.0|     0.0|(66,[61],[1.0])|(3,[1],[1.0])|(1,[0],[1.0])|(1,[0],[1.0])|[-0.986083984375,...|[-11.402662575729...|\n",
      "|-0.8983979225158691| -0.1467266082763672|  0.4221583604812622|       off| 62|  M|          13|         35|          45|   19|     100.01|  0|    1|    0|    0|        0|   0|    0|   0|  0|    0|   0|     0|         0|     0|    0|       0|  0|    0|  0|         0|         0|  0|       0|  0|  0|  0|    0|   0|   0|         0|   0|     0|           61|          1|-0.9001240134239197|-1.0424655675888062|-0.9835492372512817|-1.0139405727386475|-0.9859915971755981|-0.9985468983650208|    -0.986083984375|-1.0010004043579102|-0.9837885499000549|-1.0083973407745361|        -0.126953125|-0.08550174534320831|-0.18096596002578735|-0.08831914514303207|-0.18208801746368408|-0.11671628057956696|-0.18458127975463867|-0.16686691343784332|-0.18543404340744019|-0.21454940736293793| 0.42127469182014465|-0.13738331198692322|-0.03682191669940...|-0.09235700219869614|-0.03649973496794...|-0.04635282605886...|-0.03268834576010704|-0.01029948052018...|-0.03453658893704...|0.005777402780950069|           0|       0|       0|     1|     0.0|     1.0|(66,[61],[1.0])|(3,[1],[1.0])|(1,[0],[1.0])|    (1,[],[])|[-0.8983979225158...|[-10.388697647977...|\n",
      "|-0.8698514699935913| -0.1938706934452057|-0.21426011621952057|       off| 62|  M|          13|         35|          45|   19|    1000.14|  0|    0|    0|    0|        0|   0|    0|   0|  0|    0|   0|     0|         0|     0|    0|       0|  0|    0|  0|         0|         0|  0|       0|  0|  0|  0|    0|   0|   0|         0|   0|     0|           61|          1|-0.9842554926872253|-0.9231921434402466| -0.980356752872467|-0.9882286787033081|-0.9819245934486389|-1.0305184125900269|-0.9831213355064392|-1.0448275804519653|-0.9820056557655334|-0.8983979225158691|-0.18718677759170532| -0.1666911393404007| -0.1853547841310501| -0.1346881091594696| -0.1822175681591034|-0.10179458558559418| -0.1807027906179428|-0.08826784789562225|-0.18181270360946655| -0.1467266082763672|-0.03369208052754402|-0.22726213932037354|-0.03464547917246...|-0.22440233826637268|      -0.03466796875|-0.19553717970848083|-0.03650727868080139|-0.17002460360527039| -0.0361616350710392|  0.4221583604812622|           0|       0|       0|     0|     0.0|     1.0|(66,[61],[1.0])|(3,[1],[1.0])|(1,[0],[1.0])|    (1,[],[])|[-0.8698514699935...|[-10.058598416062...|\n",
      "|-0.9857015013694763|-0.18558655679225922|-0.03437336534261...|        on| 62|  M|          13|         35|          45|   19|    1000.19|  0|    0|    0|    0|        0|   0|    0|   0|  0|    0|   0|     0|         0|     0|    0|       0|  0|    0|  0|         0|         0|  0|       0|  0|  0|  0|    0|   0|   0|         0|   0|     0|           61|          1|-0.7927252650260925|-0.9856095910072327|-0.7894877195358276|-0.9860562086105347|-0.7922743558883667|    -0.986083984375|-0.8191419839859009| -0.987464427947998|-0.8698514699935913|-0.9842554926872253|-0.20161384344100952|-0.18531224131584167|-0.21236026287078857| -0.1867215782403946|-0.21759115159511566|-0.18874719738960266| -0.2150256484746933|-0.18990877270698547| -0.1938706934452057|-0.18718677759170532|-0.18708646297454834|-0.03514416888356209|-0.19225290417671204|-0.03842533379793167| -0.1984221637248993|-0.03476598858833313| -0.2048323154449463|-0.03182197362184...|-0.21426011621952057|-0.03369208052754402|           0|       0|       0|     0|     0.0|     0.0|(66,[61],[1.0])|(3,[1],[1.0])|(1,[0],[1.0])|(1,[0],[1.0])|[-0.9857015013694...|[-11.398239702300...|\n",
      "|-0.8145161867141724|-0.19918298721313477| -0.1764799952507019|       off| 62|  M|          13|         35|          45|   19|    1000.19|  0|    0|    0|    0|        0|   0|    0|   0|  0|    0|   0|     0|         0|     0|    0|       0|  0|    0|  0|         0|         0|  0|       0|  0|  0|  0|    0|   0|   0|         0|   0|     0|           61|          1|-0.9857015013694763|-0.7927252650260925|-0.9856095910072327|-0.7894877195358276|-0.9860562086105347|-0.7922743558883667|    -0.986083984375|-0.8191419839859009| -0.987464427947998|-0.8698514699935913|-0.18558655679225922|-0.20161384344100952|-0.18531224131584167|-0.21236026287078857| -0.1867215782403946|-0.21759115159511566|-0.18874719738960266| -0.2150256484746933|-0.18990877270698547| -0.1938706934452057|-0.03437336534261...|-0.18708646297454834|-0.03514416888356209|-0.19225290417671204|-0.03842533379793167| -0.1984221637248993|-0.03476598858833313| -0.2048323154449463|-0.03182197362184...|-0.21426011621952057|           0|       0|       0|     0|     0.0|     1.0|(66,[61],[1.0])|(3,[1],[1.0])|(1,[0],[1.0])|    (1,[],[])|[-0.8145161867141...|[-9.4187243548612...|\n",
      "|-0.9834590554237366|-0.18575343489646912|-0.03751635923981...|        on| 62|  M|          13|         35|          45|   19|     1000.2|  0|    0|    0|    0|        0|   0|    0|   0|  0|    0|   0|     0|         0|     0|    0|       0|  0|    0|  0|         0|         0|  0|       0|  0|  0|  0|    0|   0|   0|         0|   0|     0|           61|          1|-0.8960105776786804|-0.8996154069900513|-0.8145161867141724|-0.9857015013694763|-0.7927252650260925|-0.9856095910072327|-0.7894877195358276|-0.9860562086105347|-0.7922743558883667|    -0.986083984375| -0.1464485079050064|-0.12684056162834167|-0.19918298721313477|-0.18558655679225922|-0.20161384344100952|-0.18531224131584167|-0.21236026287078857| -0.1867215782403946|-0.21759115159511566|-0.18874719738960266|  0.4248667061328888| 0.42184942960739136| -0.1764799952507019|-0.03437336534261...|-0.18708646297454834|-0.03514416888356209|-0.19225290417671204|-0.03842533379793167| -0.1984221637248993|-0.03476598858833313|           0|       0|       0|     0|     0.0|     0.0|(66,[61],[1.0])|(3,[1],[1.0])|(1,[0],[1.0])|(1,[0],[1.0])|[-0.9834590554237...|[-11.372308995719...|\n",
      "| -0.966111421585083|-0.24825483560562134|-0.11672104895114899|       off| 62|  M|          13|         35|          45|   19|    1000.23|  0|    0|    0|    0|        0|   0|    0|   0|  0|    0|   0|     0|         0|     0|    0|       0|  0|    0|  0|         0|         0|  0|       0|  0|  0|  0|    0|   0|   0|         0|   0|     0|           61|          1|-0.9883361458778381|-0.9390480518341064|-0.9850924015045166|-0.9016373157501221|-0.9846676588058472|-0.8567166328430176|-0.9834590554237366|-0.8960105776786804|-0.8996154069900513|-0.8145161867141724|-0.18214358389377594|-0.23905405402183533|-0.18168120086193085|-0.22548243403434753|-0.18422465026378632|-0.20978297293186188|-0.18575343489646912| -0.1464485079050064|-0.12684056162834167|-0.19918298721313477|-0.03777430579066...|-0.13342580199241638|-0.03622747957706...|-0.15057523548603058|       -0.0361328125|-0.16128699481487274|-0.03751635923981...|  0.4248667061328888| 0.42184942960739136| -0.1764799952507019|           0|       0|       0|     0|     0.0|     1.0|(66,[61],[1.0])|(3,[1],[1.0])|(1,[0],[1.0])|    (1,[],[])|[-0.9661114215850...|[-11.171708216998...|\n",
      "|-1.0166904926300049| -0.2573091983795166|-0.11107676476240158|       off| 62|  M|          13|         35|          45|   19|    1000.26|  0|    0|    0|    0|        0|   0|    0|   0|  0|    0|   0|     0|         0|     0|    0|       0|  0|    0|  0|         0|         0|  0|       0|  0|  0|  0|    0|   0|   0|         0|   0|     0|           61|          1| -0.985628068447113| -0.997462809085846|-0.9890971779823303|-0.9858909249305725|-0.9886036515235901| -0.966111421585083|-0.9883361458778381|-0.9390480518341064|-0.9850924015045166|-0.9016373157501221|-0.18289905786514282|-0.24767550826072693|-0.18161766231060028|-0.24608901143074036|-0.17836567759513855|-0.24825483560562134|-0.18214358389377594|-0.23905405402183533|-0.18168120086193085|-0.22548243403434753|-0.03594693541526...|-0.10894539207220078|-0.03869627416133...| -0.1084631159901619|-0.03674118965864...|-0.11672104895114899|-0.03777430579066...|-0.13342580199241638|-0.03622747957706...|-0.15057523548603058|           0|       0|       0|     0|     0.0|     1.0|(66,[61],[1.0])|(3,[1],[1.0])|(1,[0],[1.0])|    (1,[],[])|[-1.0166904926300...|[-11.756583430122...|\n",
      "|-0.8993512988090515|-0.12506356835365295|  0.4209747910499573|        on| 62|  M|          13|         35|          45|   19|     100.03|  0|    1|    0|    0|        0|   0|    0|   0|  0|    0|   0|     0|         0|     0|    0|       0|  0|    0|  0|         0|         0|  0|       0|  0|  0|  0|    0|   0|   0|         0|   0|     0|           61|          1|-1.0990320444107056|-0.9856727123260498| -1.074798822402954|-0.9851592779159546|-1.0470385551452637|-0.9848709106445312|-1.0166904926300049| -0.985628068447113| -0.997462809085846|-0.9890971779823303|-0.31528007984161377| -0.1890314370393753| -0.3020103871822357| -0.1894475221633911| -0.2791890501976013|-0.18610522150993347| -0.2573091983795166|-0.18289905786514282|-0.24767550826072693|-0.18161766231060028|-0.10664279758930206|-0.03023953549563...|  -0.114521823823452|-0.03379150480031967|-0.11292675137519836|-0.03502910956740379|-0.11107676476240158|-0.03594693541526...|-0.10894539207220078|-0.03869627416133...|           0|       0|       0|     1|     0.0|     0.0|(66,[61],[1.0])|(3,[1],[1.0])|(1,[0],[1.0])|(1,[0],[1.0])|[-0.8993512988090...|[-10.399722092498...|\n",
      "|-1.0976637601852417| -0.3076828718185425|-0.10177991539239883|       off| 62|  M|          13|         35|          45|   19|    1000.32|  0|    0|    0|    0|        0|   0|    0|   0|  0|    0|   0|     0|         0|     0|    0|       0|  0|    0|  0|         0|         0|  0|       0|  0|  0|  0|    0|   0|   0|         0|   0|     0|           61|          1|-0.9808890223503113|-1.1176273822784424|-0.9828428030014038| -1.117344856262207|-0.9859678149223328|-0.8976208567619324|-0.8993512988090515|-1.0990320444107056|-0.9856727123260498| -1.074798822402954|-0.18621419370174408|-0.30714941024780273|-0.18770818412303925| -0.3147848844528198| -0.1868194341659546|-0.14541679620742798|-0.12506356835365295|-0.31528007984161377| -0.1890314370393753| -0.3020103871822357|-0.03522465378046036|-0.09780551493167877|-0.03332000970840454|-0.10098910331726074|-0.03389665856957...|  0.4252645671367645|  0.4209747910499573|-0.10664279758930206|-0.03023953549563...|  -0.114521823823452|           0|       0|       0|     0|     0.0|     1.0|(66,[61],[1.0])|(3,[1],[1.0])|(1,[0],[1.0])|    (1,[],[])|[-1.0976637601852...|[-12.692924413463...|\n",
      "| -0.978852391242981|-0.18339821696281433|-0.03087413311004...|        on| 62|  M|          13|         35|          45|   19|    1000.33|  0|    0|    0|    0|        0|   0|    0|   0|  0|    0|   0|     0|         0|     0|    0|       0|  0|    0|  0|         0|         0|  0|       0|  0|  0|  0|    0|   0|   0|         0|   0|     0|           61|          1|-1.0976637601852417|-0.9808890223503113|-1.1176273822784424|-0.9828428030014038| -1.117344856262207|-0.9859678149223328|-0.8976208567619324|-0.8993512988090515|-1.0990320444107056|-0.9856727123260498| -0.3076828718185425|-0.18621419370174408|-0.30714941024780273|-0.18770818412303925| -0.3147848844528198| -0.1868194341659546|-0.14541679620742798|-0.12506356835365295|-0.31528007984161377| -0.1890314370393753|-0.10177991539239883|-0.03522465378046036|-0.09780551493167877|-0.03332000970840454|-0.10098910331726074|-0.03389665856957...|  0.4252645671367645|  0.4209747910499573|-0.10664279758930206|-0.03023953549563...|           0|       0|       0|     0|     0.0|     0.0|(66,[61],[1.0])|(3,[1],[1.0])|(1,[0],[1.0])|(1,[0],[1.0])|[-0.9788523912429...|[-11.319039458757...|\n",
      "|-1.0081868171691895| -0.3147525489330292|-0.10267101228237152|       off| 62|  M|          13|         35|          45|   19|    1000.37|  0|    0|    0|    0|        0|   0|    0|   0|  0|    0|   0|     0|         0|     0|    0|       0|  0|    0|  0|         0|         0|  0|       0|  0|  0|  0|    0|   0|   0|         0|   0|     0|           61|          1|-0.9876105785369873|-1.0272514820098877|-0.9833951592445374|-1.0494376420974731|-0.9805415272712708| -1.064139723777771|-0.9783363342285156|-1.0747815370559692| -0.978852391242981|-1.0976637601852417|-0.17934763431549072|-0.32581573724746704| -0.1811748743057251|-0.33125343918800354|-0.18230390548706055|-0.32895877957344055| -0.1825706660747528| -0.3161761164665222|-0.18339821696281433| -0.3076828718185425|-0.03098058886826...|-0.10129722952842712|-0.03007983602583...|-0.10017162561416626|-0.03049235604703...|-0.10468576848506927|-0.02936080470681...|-0.10664485394954681|-0.03087413311004...|-0.10177991539239883|           0|       0|       0|     0|     0.0|     1.0|(66,[61],[1.0])|(3,[1],[1.0])|(1,[0],[1.0])|    (1,[],[])|[-1.0081868171691...|[-11.658250485393...|\n",
      "|     -0.89990234375|-0.14429330825805664| 0.42360374331474304|       off| 62|  M|          13|         35|          45|   19|     100.04|  0|    1|    0|    0|        0|   0|    0|   0|  0|    0|   0|     0|         0|     0|    0|       0|  0|    0|  0|         0|         0|  0|       0|  0|  0|  0|    0|   0|   0|         0|   0|     0|           61|          1|-0.8990662097930908|-0.9627687335014343|-0.9923883676528931|-0.9933604001998901|-0.9910496473312378|-1.0081868171691895|-0.9876105785369873|-1.0272514820098877|-0.9833951592445374|-1.0494376420974731|-0.12703995406627655| -0.2866297662258148|-0.17824342846870422|-0.30040645599365234|   -0.17885722219944| -0.3147525489330292|-0.17934763431549072|-0.32581573724746704| -0.1811748743057251|-0.33125343918800354| 0.41997942328453064|-0.10673476755619049|-0.03550877049565315|-0.10713499784469604|-0.03071224503219...|-0.10267101228237152|-0.03098058886826...|-0.10129722952842712|-0.03007983602583...|-0.10017162561416626|           0|       0|       0|     1|     0.0|     1.0|(66,[61],[1.0])|(3,[1],[1.0])|(1,[0],[1.0])|    (1,[],[])|[-0.89990234375,-...|[-10.406094145614...|\n",
      "|-0.9901689291000366|-0.17911583185195923|-0.03735264018177986|        on| 62|  M|          13|         35|          45|   19|     1000.4|  0|    0|    0|    0|        0|   0|    0|   0|  0|    0|   0|     0|         0|     0|    0|       0|  0|    0|  0|         0|         0|  0|       0|  0|  0|  0|    0|   0|   0|         0|   0|     0|           61|          1|     -0.89990234375|-0.8990662097930908|-0.9627687335014343|-0.9923883676528931|-0.9933604001998901|-0.9910496473312378|-1.0081868171691895|-0.9876105785369873|-1.0272514820098877|-0.9833951592445374|-0.14429330825805664|-0.12703995406627655| -0.2866297662258148|-0.17824342846870422|-0.30040645599365234|   -0.17885722219944| -0.3147525489330292|-0.17934763431549072|-0.32581573724746704| -0.1811748743057251| 0.42360374331474304| 0.41997942328453064|-0.10673476755619049|-0.03550877049565315|-0.10713499784469604|-0.03071224503219...|-0.10267101228237152|-0.03098058886826...|-0.10129722952842712|-0.03007983602583...|           0|       0|       0|     0|     0.0|     0.0|(66,[61],[1.0])|(3,[1],[1.0])|(1,[0],[1.0])|(1,[0],[1.0])|[-0.9901689291000...|[-11.449899167214...|\n",
      "|-0.9841417670249939|-0.18004269897937775|-0.03534137457609...|        on| 62|  M|          13|         35|          45|   19|    1000.48|  0|    0|    0|    0|        0|   0|    0|   0|  0|    0|   0|     0|         0|     0|    0|       0|  0|    0|  0|         0|         0|  0|       0|  0|  0|  0|    0|   0|   0|         0|   0|     0|           61|          1|-0.8519030213356018|    -0.984130859375|-0.8627809286117554|-0.9826318621635437|-0.8700825572013855|-0.9815136194229126|-0.8733774423599243|-0.9812465310096741|-0.8777599930763245|-0.9802674651145935|  -0.333134263753891| -0.1767110377550125|-0.32287880778312683| -0.1760362833738327|-0.30918774008750916| -0.1778699904680252| -0.2905704081058502|-0.18066848814487457| -0.2769339680671692| -0.1817736178636551|-0.06467656046152115|-0.03776637837290764|-0.06877560913562775|-0.03621745109558...|-0.07734967023134232|       -0.0361328125|-0.08740901201963425|-0.03172431513667...|-0.08878140151500702|-0.03308510035276413|           0|       0|       0|     0|     0.0|     0.0|(66,[61],[1.0])|(3,[1],[1.0])|(1,[0],[1.0])|(1,[0],[1.0])|[-0.9841417670249...|[-11.380203587000...|\n",
      "| -0.844323992729187| -0.3346724510192871| -0.0667710155248642|       off| 62|  M|          13|         35|          45|   19|    1000.48|  0|    0|    0|    0|        0|   0|    0|   0|  0|    0|   0|     0|         0|     0|    0|       0|  0|    0|  0|         0|         0|  0|       0|  0|  0|  0|    0|   0|   0|         0|   0|     0|           61|          1|-0.9841417670249939|-0.8519030213356018|    -0.984130859375|-0.8627809286117554|-0.9826318621635437|-0.8700825572013855|-0.9815136194229126|-0.8733774423599243|-0.9812465310096741|-0.8777599930763245|-0.18004269897937775|  -0.333134263753891| -0.1767110377550125|-0.32287880778312683| -0.1760362833738327|-0.30918774008750916| -0.1778699904680252| -0.2905704081058502|-0.18066848814487457| -0.2769339680671692|-0.03534137457609...|-0.06467656046152115|-0.03776637837290764|-0.06877560913562775|-0.03621745109558...|-0.07734967023134232|       -0.0361328125|-0.08740901201963425|-0.03172431513667...|-0.08878140151500702|           0|       0|       0|     0|     0.0|     1.0|(66,[61],[1.0])|(3,[1],[1.0])|(1,[0],[1.0])|    (1,[],[])|[-0.8443239927291...|[-9.7634093507619...|\n",
      "+-------------------+--------------------+--------------------+----------+---+---+------------+-----------+------------+-----+-----------+---+-----+-----+-----+---------+----+-----+----+---+-----+----+------+----------+------+-----+--------+---+-----+---+----------+----------+---+--------+---+---+---+-----+----+----+----------+----+------+-------------+-----------+-------------------+-------------------+-------------------+-------------------+-------------------+-------------------+-------------------+-------------------+-------------------+-------------------+--------------------+--------------------+--------------------+--------------------+--------------------+--------------------+--------------------+--------------------+--------------------+--------------------+--------------------+--------------------+--------------------+--------------------+--------------------+--------------------+--------------------+--------------------+--------------------+--------------------+------------+--------+--------+------+--------+--------+---------------+-------------+-------------+-------------+--------------------+--------------------+\n",
      "only showing top 20 rows\n",
      "\n"
     ]
    },
    {
     "name": "stderr",
     "output_type": "stream",
     "text": [
      "                                                                                \r"
     ]
    }
   ],
   "source": [
    "df2 = pipeline.fit(df2).transform(df2)\n",
    "df2.show()"
   ]
  },
  {
   "cell_type": "code",
   "execution_count": 18,
   "id": "7abfc407-dade-4444-8e12-1aec8af7458a",
   "metadata": {},
   "outputs": [],
   "source": [
    "labels = ['StartHesTrue',\n",
    " 'TurnTrue',\n",
    " 'WalkTrue',\n",
    " 'NoTrue']\n",
    "\n",
    "feats = ['scalefeats',\n",
    "    'pred67ohe',\n",
    " 'pred4ohe',\n",
    " 'SexOhe',\n",
    " 'MedOhe', \n",
    "    'AccV_lag1',\n",
    " 'AccV_lag2',\n",
    " 'AccV_lag3',\n",
    " 'AccV_lag4',\n",
    " 'AccV_lag5',\n",
    " 'AccV_lag6',\n",
    " 'AccV_lag7',\n",
    " 'AccV_lag8',\n",
    " 'AccV_lag9',\n",
    " 'AccV_lag10',\n",
    " 'AccML_lag1',\n",
    " 'AccML_lag2',\n",
    " 'AccML_lag3',\n",
    " 'AccML_lag4',\n",
    " 'AccML_lag5',\n",
    " 'AccML_lag6',\n",
    " 'AccML_lag7',\n",
    " 'AccML_lag8',\n",
    " 'AccML_lag9',\n",
    " 'AccML_lag10',\n",
    " 'AccAP_lag1',\n",
    " 'AccAP_lag2',\n",
    " 'AccAP_lag3',\n",
    " 'AccAP_lag4',\n",
    " 'AccAP_lag5',\n",
    " 'AccAP_lag6',\n",
    " 'AccAP_lag7',\n",
    " 'AccAP_lag8',\n",
    " 'AccAP_lag9',\n",
    " 'AccAP_lag10', 'MB9',\n",
    " 'Rest1',\n",
    " 'MB6-L',\n",
    " 'MB6-R',\n",
    " 'Turning-C',\n",
    " 'MB2a',\n",
    " 'MB3-L',\n",
    " 'MB12',\n",
    " 'MB5',\n",
    " 'MB3-R',\n",
    " 'MB13',\n",
    " 'TUG-DT',\n",
    " 'Turning-ST',\n",
    " 'TUG-ST',\n",
    " '4MW-C',\n",
    " 'Hotspot2',\n",
    " 'MB6',\n",
    " 'TUG-C',\n",
    " '4MW',\n",
    " 'Hotspot1-C',\n",
    " 'Hotspot2-C',\n",
    " 'MB8',\n",
    " 'Hotspot1',\n",
    " 'MB4',\n",
    " 'MB1',\n",
    " 'MB7',\n",
    " 'Rest2',\n",
    " 'MB2b',\n",
    " 'MB10',\n",
    " 'Turning-DT',\n",
    " 'MB11',\n",
    "'YearsSinceDx',\n",
    " 'UPDRSIII_On',\n",
    " 'UPDRSIII_Off',\n",
    " 'NFOGQ']"
   ]
  },
  {
   "cell_type": "markdown",
   "id": "570a3e90-bbdb-4745-86e3-c0eb2370b5cc",
   "metadata": {},
   "source": [
    "## Model Creation and Fitting"
   ]
  },
  {
   "cell_type": "code",
   "execution_count": 46,
   "id": "7caf4866-6155-43f1-a856-b38bf72108ac",
   "metadata": {},
   "outputs": [],
   "source": [
    "def fit_models(model_name, model, train_data, test_data):\n",
    "    print(\"Begin training {}\".format(model_name))\n",
    "    mod_metrics = []\n",
    "    model = model.fit(train_data)\n",
    "    \n",
    "    print(\"Begin evaluation on test data\")\n",
    "    pred = model.transform(test_data)\n",
    "    \n",
    "    for col in ['label','prediction']:\n",
    "        pred = pred.withColumn(col, F.col(col).cast(\"double\"))\n",
    "        \n",
    "    metrics = MulticlassMetrics(pred.select(\"prediction\",\"label\").rdd)\n",
    "    mod_metrics.append(metrics) \n",
    "    print(\"{} Accuracy = {}\".format(model_name, metrics.accuracy))\n",
    "    print(\"{} Weighted F1 = {}\".format(model_name, metrics.weightedFMeasure()))\n",
    "    \n",
    "    y_pred=pred.select(\"prediction\").collect()\n",
    "    y_orig=pred.select(\"label\").collect()\n",
    "\n",
    "    cm = confusion_matrix(y_orig, y_pred)\n",
    "    print(\"{} Confustion Matrix\".format(model_name))\n",
    "    print(cm)\n",
    "    \n",
    "    return (cm, mod_metrics)\n"
   ]
  },
  {
   "cell_type": "code",
   "execution_count": 20,
   "id": "5cc0f2de-b5e5-4fa5-9701-915daedd637e",
   "metadata": {},
   "outputs": [],
   "source": [
    "feats_sm = ['scalefeats',\n",
    " 'SexOhe',\n",
    " 'MedOhe', \n",
    "'YearsSinceDx',\n",
    " 'UPDRSIII_On',\n",
    " 'UPDRSIII_Off',\n",
    " 'NFOGQ']\n",
    "\n",
    "feats_med = ['scalefeats',\n",
    " 'SexOhe',\n",
    " 'MedOhe', \n",
    "    'MB9',\n",
    " 'Rest1',\n",
    " 'MB6-L',\n",
    " 'MB6-R',\n",
    " 'Turning-C',\n",
    " 'MB2a',\n",
    " 'MB3-L',\n",
    " 'MB12',\n",
    " 'MB5',\n",
    " 'MB3-R',\n",
    " 'MB13',\n",
    " 'TUG-DT',\n",
    " 'Turning-ST',\n",
    " 'TUG-ST',\n",
    " '4MW-C',\n",
    " 'Hotspot2',\n",
    " 'MB6',\n",
    " 'TUG-C',\n",
    " '4MW',\n",
    " 'Hotspot1-C',\n",
    " 'Hotspot2-C',\n",
    " 'MB8',\n",
    " 'Hotspot1',\n",
    " 'MB4',\n",
    " 'MB1',\n",
    " 'MB7',\n",
    " 'Rest2',\n",
    " 'MB2b',\n",
    " 'MB10',\n",
    " 'Turning-DT',\n",
    " 'MB11',\n",
    "'YearsSinceDx',\n",
    " 'UPDRSIII_On',\n",
    " 'UPDRSIII_Off',\n",
    " 'NFOGQ']"
   ]
  },
  {
   "cell_type": "code",
   "execution_count": null,
   "id": "eb5b4de2-6001-42c1-bf87-0e3e5b0ccd4f",
   "metadata": {},
   "outputs": [
    {
     "name": "stdout",
     "output_type": "stream",
     "text": [
      "Begin training Decision Tree - Small Features\n"
     ]
    },
    {
     "name": "stderr",
     "output_type": "stream",
     "text": [
      "23/05/22 16:26:06 WARN org.apache.spark.scheduler.DAGScheduler: Broadcasting large task binary with size 1908.0 KiB\n",
      "23/05/22 16:26:34 WARN org.apache.spark.scheduler.DAGScheduler: Broadcasting large task binary with size 1873.4 KiB\n",
      "23/05/22 16:26:35 WARN org.apache.spark.scheduler.DAGScheduler: Broadcasting large task binary with size 1873.4 KiB\n",
      "23/05/22 16:26:36 WARN org.apache.spark.scheduler.DAGScheduler: Broadcasting large task binary with size 1873.4 KiB\n",
      "23/05/22 16:26:39 WARN org.apache.spark.scheduler.DAGScheduler: Broadcasting large task binary with size 1873.6 KiB\n",
      "23/05/22 16:26:53 WARN org.apache.spark.scheduler.DAGScheduler: Broadcasting large task binary with size 1880.9 KiB\n",
      "23/05/22 16:27:05 WARN org.apache.spark.scheduler.DAGScheduler: Broadcasting large task binary with size 1880.6 KiB\n",
      "23/05/22 16:27:15 WARN org.apache.spark.scheduler.DAGScheduler: Broadcasting large task binary with size 1881.4 KiB\n",
      "23/05/22 16:27:17 WARN org.apache.spark.scheduler.DAGScheduler: Broadcasting large task binary with size 1882.2 KiB\n",
      "23/05/22 16:27:20 WARN org.apache.spark.scheduler.DAGScheduler: Broadcasting large task binary with size 1883.3 KiB\n",
      "23/05/22 16:27:23 WARN org.apache.spark.scheduler.DAGScheduler: Broadcasting large task binary with size 1886.0 KiB\n",
      "                                                                                \r"
     ]
    },
    {
     "name": "stdout",
     "output_type": "stream",
     "text": [
      "Begin evaluation on test data\n"
     ]
    },
    {
     "name": "stderr",
     "output_type": "stream",
     "text": [
      "23/05/22 16:27:28 WARN org.apache.spark.scheduler.DAGScheduler: Broadcasting large task binary with size 1887.7 KiB\n",
      "23/05/22 16:27:29 WARN org.apache.spark.scheduler.DAGScheduler: Broadcasting large task binary with size 1887.7 KiB\n",
      "23/05/22 16:27:30 WARN org.apache.spark.scheduler.DAGScheduler: Broadcasting large task binary with size 1887.7 KiB\n",
      "23/05/22 16:27:32 WARN org.apache.spark.scheduler.DAGScheduler: Broadcasting large task binary with size 1900.5 KiB\n",
      "                                                                                \r"
     ]
    },
    {
     "name": "stdout",
     "output_type": "stream",
     "text": [
      "Decision Tree - Small Features Accuracy = 0.8403349204285363\n",
      "Decision Tree - Small Features Weighted F1 = 0.8251963771240978\n"
     ]
    },
    {
     "name": "stderr",
     "output_type": "stream",
     "text": [
      "23/05/22 16:27:45 WARN org.apache.spark.scheduler.DAGScheduler: Broadcasting large task binary with size 1921.8 KiB\n",
      "23/05/22 16:27:59 WARN org.apache.spark.scheduler.DAGScheduler: Broadcasting large task binary with size 1899.6 KiB\n",
      "                                                                                \r"
     ]
    },
    {
     "name": "stdout",
     "output_type": "stream",
     "text": [
      "Decision Tree - Small Features Confustion Matrix\n",
      "[[359877      0  27685      0]\n",
      " [     3      0     16      0]\n",
      " [ 35516      0  47293      0]\n",
      " [ 12248      0   1895      0]]\n",
      "Begin training Random Forest - Small Features\n"
     ]
    },
    {
     "name": "stderr",
     "output_type": "stream",
     "text": [
      "23/05/22 16:28:37 WARN org.apache.spark.scheduler.DAGScheduler: Broadcasting large task binary with size 1908.0 KiB\n",
      "23/05/22 16:28:48 WARN org.apache.spark.scheduler.DAGScheduler: Broadcasting large task binary with size 1873.4 KiB\n",
      "23/05/22 16:28:48 WARN org.apache.spark.scheduler.DAGScheduler: Broadcasting large task binary with size 1873.4 KiB\n",
      "23/05/22 16:28:48 WARN org.apache.spark.scheduler.DAGScheduler: Broadcasting large task binary with size 1873.4 KiB\n",
      "23/05/22 16:28:50 WARN org.apache.spark.scheduler.DAGScheduler: Broadcasting large task binary with size 1873.6 KiB\n",
      "23/05/22 16:28:58 WARN org.apache.spark.scheduler.DAGScheduler: Broadcasting large task binary with size 1880.9 KiB\n",
      "23/05/22 16:29:06 WARN org.apache.spark.scheduler.DAGScheduler: Broadcasting large task binary with size 1882.4 KiB\n",
      "23/05/22 16:29:16 WARN org.apache.spark.scheduler.DAGScheduler: Broadcasting large task binary with size 1890.3 KiB\n",
      "23/05/22 16:29:20 WARN org.apache.spark.scheduler.DAGScheduler: Broadcasting large task binary with size 1903.8 KiB\n",
      "23/05/22 16:29:25 WARN org.apache.spark.scheduler.DAGScheduler: Broadcasting large task binary with size 1930.7 KiB\n",
      "23/05/22 16:29:30 WARN org.apache.spark.scheduler.DAGScheduler: Broadcasting large task binary with size 1983.9 KiB\n",
      "                                                                                \r"
     ]
    },
    {
     "name": "stdout",
     "output_type": "stream",
     "text": [
      "Begin evaluation on test data\n"
     ]
    },
    {
     "name": "stderr",
     "output_type": "stream",
     "text": [
      "23/05/22 16:29:43 WARN org.apache.spark.scheduler.DAGScheduler: Broadcasting large task binary with size 1974.1 KiB\n",
      "23/05/22 16:29:43 WARN org.apache.spark.scheduler.DAGScheduler: Broadcasting large task binary with size 1974.1 KiB\n",
      "23/05/22 16:29:44 WARN org.apache.spark.scheduler.DAGScheduler: Broadcasting large task binary with size 1974.1 KiB\n",
      "23/05/22 16:29:45 WARN org.apache.spark.scheduler.DAGScheduler: Broadcasting large task binary with size 1986.9 KiB\n",
      "                                                                                \r"
     ]
    },
    {
     "name": "stdout",
     "output_type": "stream",
     "text": [
      "Random Forest - Small Features Accuracy = 0.8307359870225557\n",
      "Random Forest - Small Features Weighted F1 = 0.7892815567108403\n"
     ]
    },
    {
     "name": "stderr",
     "output_type": "stream",
     "text": [
      "23/05/22 16:29:56 WARN org.apache.spark.scheduler.DAGScheduler: Broadcasting large task binary with size 2008.2 KiB\n",
      "23/05/22 16:30:08 WARN org.apache.spark.scheduler.DAGScheduler: Broadcasting large task binary with size 1899.6 KiB\n",
      "                                                                                \r"
     ]
    },
    {
     "name": "stdout",
     "output_type": "stream",
     "text": [
      "Random Forest - Small Features Confustion Matrix\n",
      "[[380612      0   6950      0]\n",
      " [    19      0      0      0]\n",
      " [ 60902      0  21907      0]\n",
      " [ 13554      0    589      0]]\n",
      "Begin training Decision Tree - Medium Features\n"
     ]
    },
    {
     "name": "stderr",
     "output_type": "stream",
     "text": [
      "23/05/22 16:30:48 WARN org.apache.spark.scheduler.DAGScheduler: Broadcasting large task binary with size 3.0 MiB\n",
      "23/05/22 16:31:09 WARN org.apache.spark.scheduler.DAGScheduler: Broadcasting large task binary with size 2.9 MiB\n",
      "23/05/22 16:31:09 WARN org.apache.spark.scheduler.DAGScheduler: Broadcasting large task binary with size 2.9 MiB\n",
      "23/05/22 16:31:09 WARN org.apache.spark.scheduler.DAGScheduler: Broadcasting large task binary with size 2.9 MiB\n",
      "23/05/22 16:31:12 WARN org.apache.spark.scheduler.DAGScheduler: Broadcasting large task binary with size 2.9 MiB\n",
      "23/05/22 16:31:26 WARN org.apache.spark.scheduler.DAGScheduler: Broadcasting large task binary with size 2.9 MiB\n",
      "23/05/22 16:31:40 WARN org.apache.spark.scheduler.DAGScheduler: Broadcasting large task binary with size 2.9 MiB\n",
      "23/05/22 16:31:53 WARN org.apache.spark.scheduler.DAGScheduler: Broadcasting large task binary with size 2.9 MiB\n",
      "23/05/22 16:31:57 WARN org.apache.spark.scheduler.DAGScheduler: Broadcasting large task binary with size 2.9 MiB\n",
      "23/05/22 16:32:00 WARN org.apache.spark.scheduler.DAGScheduler: Broadcasting large task binary with size 2.9 MiB\n",
      "23/05/22 16:32:03 WARN org.apache.spark.scheduler.DAGScheduler: Broadcasting large task binary with size 3.0 MiB\n",
      "                                                                                \r"
     ]
    },
    {
     "name": "stdout",
     "output_type": "stream",
     "text": [
      "Begin evaluation on test data\n"
     ]
    },
    {
     "name": "stderr",
     "output_type": "stream",
     "text": [
      "23/05/22 16:32:10 WARN org.apache.spark.scheduler.DAGScheduler: Broadcasting large task binary with size 3.0 MiB\n",
      "23/05/22 16:32:10 WARN org.apache.spark.scheduler.DAGScheduler: Broadcasting large task binary with size 3.0 MiB\n",
      "23/05/22 16:32:10 WARN org.apache.spark.scheduler.DAGScheduler: Broadcasting large task binary with size 3.0 MiB\n",
      "23/05/22 16:32:13 WARN org.apache.spark.scheduler.DAGScheduler: Broadcasting large task binary with size 3.0 MiB\n",
      "                                                                                \r"
     ]
    },
    {
     "name": "stdout",
     "output_type": "stream",
     "text": [
      "Decision Tree - Medium Features Accuracy = 0.9220713553050051\n",
      "Decision Tree - Medium Features Weighted F1 = 0.9226610614774615\n"
     ]
    },
    {
     "name": "stderr",
     "output_type": "stream",
     "text": [
      "23/05/22 16:32:31 WARN org.apache.spark.scheduler.DAGScheduler: Broadcasting large task binary with size 3.0 MiB\n",
      "23/05/22 16:32:48 WARN org.apache.spark.scheduler.DAGScheduler: Broadcasting large task binary with size 3.0 MiB\n",
      "                                                                                \r"
     ]
    },
    {
     "name": "stdout",
     "output_type": "stream",
     "text": [
      "Decision Tree - Medium Features Confustion Matrix\n",
      "[[366789      0  15959   4814]\n",
      " [     0      0      0     11]\n",
      " [  9899      0  71802   1160]\n",
      " [  5824      0     92   8183]]\n",
      "Begin training Random Forest - Medium Features\n"
     ]
    },
    {
     "name": "stderr",
     "output_type": "stream",
     "text": [
      "23/05/22 16:33:32 WARN org.apache.spark.scheduler.DAGScheduler: Broadcasting large task binary with size 3.0 MiB\n",
      "23/05/22 16:33:49 WARN org.apache.spark.scheduler.DAGScheduler: Broadcasting large task binary with size 2.9 MiB\n",
      "23/05/22 16:33:49 WARN org.apache.spark.scheduler.DAGScheduler: Broadcasting large task binary with size 2.9 MiB\n",
      "23/05/22 16:33:49 WARN org.apache.spark.scheduler.DAGScheduler: Broadcasting large task binary with size 2.9 MiB\n",
      "23/05/22 16:33:51 WARN org.apache.spark.scheduler.DAGScheduler: Broadcasting large task binary with size 2.9 MiB\n",
      "23/05/22 16:34:04 WARN org.apache.spark.scheduler.DAGScheduler: Broadcasting large task binary with size 2.9 MiB\n",
      "23/05/22 16:34:15 WARN org.apache.spark.scheduler.DAGScheduler: Broadcasting large task binary with size 2.9 MiB\n",
      "23/05/22 16:34:28 WARN org.apache.spark.scheduler.DAGScheduler: Broadcasting large task binary with size 3.0 MiB\n",
      "23/05/22 16:34:33 WARN org.apache.spark.scheduler.DAGScheduler: Broadcasting large task binary with size 3.0 MiB\n",
      "23/05/22 16:34:39 WARN org.apache.spark.scheduler.DAGScheduler: Broadcasting large task binary with size 3.0 MiB\n",
      "23/05/22 16:34:44 WARN org.apache.spark.scheduler.DAGScheduler: Broadcasting large task binary with size 3.0 MiB\n",
      "                                                                                \r"
     ]
    },
    {
     "name": "stdout",
     "output_type": "stream",
     "text": [
      "Begin evaluation on test data\n"
     ]
    },
    {
     "name": "stderr",
     "output_type": "stream",
     "text": [
      "23/05/22 16:34:58 WARN org.apache.spark.scheduler.DAGScheduler: Broadcasting large task binary with size 3.0 MiB\n",
      "23/05/22 16:34:58 WARN org.apache.spark.scheduler.DAGScheduler: Broadcasting large task binary with size 3.0 MiB\n",
      "23/05/22 16:34:58 WARN org.apache.spark.scheduler.DAGScheduler: Broadcasting large task binary with size 3.0 MiB\n",
      "23/05/22 16:35:00 WARN org.apache.spark.scheduler.DAGScheduler: Broadcasting large task binary with size 3.1 MiB\n",
      "                                                                                \r"
     ]
    },
    {
     "name": "stdout",
     "output_type": "stream",
     "text": [
      "Random Forest - Medium Features Accuracy = 0.9102723653497286\n",
      "Random Forest - Medium Features Weighted F1 = 0.8957838581930846\n"
     ]
    },
    {
     "name": "stderr",
     "output_type": "stream",
     "text": [
      "23/05/22 16:35:17 WARN org.apache.spark.scheduler.DAGScheduler: Broadcasting large task binary with size 3.1 MiB\n",
      "23/05/22 16:35:33 WARN org.apache.spark.scheduler.DAGScheduler: Broadcasting large task binary with size 3.0 MiB\n",
      "                                                                                \r"
     ]
    },
    {
     "name": "stdout",
     "output_type": "stream",
     "text": [
      "Random Forest - Medium Features Confustion Matrix\n",
      "[[375637      0  11925      0]\n",
      " [    11      0      0      0]\n",
      " [ 17441      0  65420      0]\n",
      " [ 14007      0     92      0]]\n",
      "Begin training Decision Tree - Full Features\n"
     ]
    },
    {
     "name": "stderr",
     "output_type": "stream",
     "text": [
      "23/05/22 16:36:19 WARN org.apache.spark.scheduler.DAGScheduler: Broadcasting large task binary with size 4.2 MiB\n",
      "23/05/22 16:37:05 WARN org.apache.spark.scheduler.DAGScheduler: Broadcasting large task binary with size 4.1 MiB\n",
      "23/05/22 16:37:05 WARN org.apache.spark.scheduler.DAGScheduler: Broadcasting large task binary with size 4.1 MiB\n",
      "23/05/22 16:37:06 WARN org.apache.spark.scheduler.DAGScheduler: Broadcasting large task binary with size 4.1 MiB\n",
      "23/05/22 16:37:13 WARN org.apache.spark.scheduler.DAGScheduler: Broadcasting large task binary with size 4.1 MiB\n",
      "23/05/22 16:37:46 WARN org.apache.spark.scheduler.DAGScheduler: Broadcasting large task binary with size 4.1 MiB\n",
      "23/05/22 16:38:23 WARN org.apache.spark.scheduler.DAGScheduler: Broadcasting large task binary with size 4.1 MiB\n",
      "23/05/22 16:38:58 WARN org.apache.spark.scheduler.DAGScheduler: Broadcasting large task binary with size 4.1 MiB\n",
      "23/05/22 16:39:05 WARN org.apache.spark.scheduler.DAGScheduler: Broadcasting large task binary with size 4.1 MiB\n",
      "23/05/22 16:39:13 WARN org.apache.spark.scheduler.DAGScheduler: Broadcasting large task binary with size 4.1 MiB\n",
      "23/05/22 16:39:18 WARN org.apache.spark.scheduler.DAGScheduler: Broadcasting large task binary with size 4.1 MiB\n",
      "                                                                                \r"
     ]
    },
    {
     "name": "stdout",
     "output_type": "stream",
     "text": [
      "Begin evaluation on test data\n"
     ]
    },
    {
     "name": "stderr",
     "output_type": "stream",
     "text": [
      "23/05/22 16:39:27 WARN org.apache.spark.scheduler.DAGScheduler: Broadcasting large task binary with size 4.1 MiB\n",
      "23/05/22 16:39:27 WARN org.apache.spark.scheduler.DAGScheduler: Broadcasting large task binary with size 4.1 MiB\n",
      "23/05/22 16:39:28 WARN org.apache.spark.scheduler.DAGScheduler: Broadcasting large task binary with size 4.1 MiB\n",
      "23/05/22 16:39:33 WARN org.apache.spark.scheduler.DAGScheduler: Broadcasting large task binary with size 4.2 MiB\n",
      "                                                                                \r"
     ]
    },
    {
     "name": "stdout",
     "output_type": "stream",
     "text": [
      "Decision Tree - Full Features Accuracy = 0.9217555873387365\n",
      "Decision Tree - Full Features Weighted F1 = 0.922368707361091\n"
     ]
    },
    {
     "name": "stderr",
     "output_type": "stream",
     "text": [
      "23/05/22 16:40:03 WARN org.apache.spark.scheduler.DAGScheduler: Broadcasting large task binary with size 4.2 MiB\n",
      "23/05/22 16:40:38 WARN org.apache.spark.scheduler.DAGScheduler: Broadcasting large task binary with size 4.2 MiB\n",
      "                                                                                \r"
     ]
    },
    {
     "name": "stdout",
     "output_type": "stream",
     "text": [
      "Decision Tree - Full Features Confustion Matrix\n",
      "[[366533      0  16259   4770]\n",
      " [     0      0      0     11]\n",
      " [  9793      0  71894   1148]\n",
      " [  5839      0     92   8194]]\n",
      "Begin training Random Forest - Full Features\n"
     ]
    },
    {
     "name": "stderr",
     "output_type": "stream",
     "text": [
      "23/05/22 16:41:44 WARN org.apache.spark.scheduler.DAGScheduler: Broadcasting large task binary with size 4.2 MiB\n",
      "23/05/22 16:42:14 WARN org.apache.spark.scheduler.DAGScheduler: Broadcasting large task binary with size 4.1 MiB\n",
      "23/05/22 16:42:14 WARN org.apache.spark.scheduler.DAGScheduler: Broadcasting large task binary with size 4.1 MiB\n",
      "23/05/22 16:42:15 WARN org.apache.spark.scheduler.DAGScheduler: Broadcasting large task binary with size 4.1 MiB\n",
      "23/05/22 16:42:20 WARN org.apache.spark.scheduler.DAGScheduler: Broadcasting large task binary with size 4.1 MiB\n",
      "23/05/22 16:42:49 WARN org.apache.spark.scheduler.DAGScheduler: Broadcasting large task binary with size 4.1 MiB\n",
      "23/05/22 16:43:15 WARN org.apache.spark.scheduler.DAGScheduler: Broadcasting large task binary with size 4.1 MiB\n",
      "23/05/22 16:43:56 WARN org.apache.spark.scheduler.DAGScheduler: Broadcasting large task binary with size 4.2 MiB\n",
      "23/05/22 16:44:04 WARN org.apache.spark.scheduler.DAGScheduler: Broadcasting large task binary with size 4.2 MiB\n",
      "23/05/22 16:44:14 WARN org.apache.spark.scheduler.DAGScheduler: Broadcasting large task binary with size 4.2 MiB\n",
      "23/05/22 16:44:23 WARN org.apache.spark.scheduler.DAGScheduler: Broadcasting large task binary with size 4.3 MiB\n",
      "                                                                                \r"
     ]
    },
    {
     "name": "stdout",
     "output_type": "stream",
     "text": [
      "Begin evaluation on test data\n"
     ]
    },
    {
     "name": "stderr",
     "output_type": "stream",
     "text": [
      "23/05/22 16:44:42 WARN org.apache.spark.scheduler.DAGScheduler: Broadcasting large task binary with size 4.2 MiB\n",
      "23/05/22 16:44:42 WARN org.apache.spark.scheduler.DAGScheduler: Broadcasting large task binary with size 4.2 MiB\n",
      "23/05/22 16:44:43 WARN org.apache.spark.scheduler.DAGScheduler: Broadcasting large task binary with size 4.2 MiB\n",
      "23/05/22 16:44:47 WARN org.apache.spark.scheduler.DAGScheduler: Broadcasting large task binary with size 4.2 MiB\n",
      "                                                                                \r"
     ]
    },
    {
     "name": "stdout",
     "output_type": "stream",
     "text": [
      "Random Forest - Full Features Accuracy = 0.8297763000662494\n",
      "Random Forest - Full Features Weighted F1 = 0.776492812467173\n"
     ]
    },
    {
     "name": "stderr",
     "output_type": "stream",
     "text": [
      "23/05/22 16:45:13 WARN org.apache.spark.scheduler.DAGScheduler: Broadcasting large task binary with size 4.3 MiB\n",
      "23/05/22 16:45:47 WARN org.apache.spark.scheduler.DAGScheduler: Broadcasting large task binary with size 4.2 MiB\n",
      "                                                                                \r"
     ]
    },
    {
     "name": "stdout",
     "output_type": "stream",
     "text": [
      "Random Forest - Full Features Confustion Matrix\n",
      "[[386377      0   1185      0]\n",
      " [    11      0      0      0]\n",
      " [ 67158      0  15677      0]\n",
      " [ 14125      0      0      0]]\n"
     ]
    }
   ],
   "source": [
    "matrices = []\n",
    "evals = []\n",
    "acc_labels = []\n",
    "for feat_list in [feats_sm, feats_med, feats]:\n",
    "    if feat_list == feats_sm:\n",
    "        name = \"Small\"\n",
    "    elif feat_list == feats_med:\n",
    "        name = \"Medium\"\n",
    "    else:\n",
    "        name = \"Full\"\n",
    "    featassemble_tmp = VectorAssembler(inputCols=feat_list, outputCol = 'features')\n",
    "    assembled_data_tmp = featassemble_tmp.transform(df2)\n",
    "    assembled_data_tmp = assembled_data_tmp.select(\"features\",'StartHesTrue','TurnTrue',\n",
    "                                                   'WalkTrue','NoTrue','target')\n",
    "    data_tmp = assembled_data_tmp.withColumn(\"label\", assembled_data_tmp.target)\n",
    "    \n",
    "    splits = data_tmp.randomSplit([0.8,0.2],1)\n",
    "    train_df = splits[0]\n",
    "    test_df = splits[1]\n",
    "    \n",
    "    dtc = DecisionTreeClassifier(featuresCol=\"features\", labelCol=\"target\")\n",
    "    rf = RandomForestClassifier(featuresCol = 'features', labelCol = 'target')\n",
    "\n",
    "    dtc_cm, dtc_metrics = fit_models(\"Decision Tree - {} Features\".format(name)\n",
    "                                                 , dtc, train_df, test_df)\n",
    "    rf_cm, rf_metrics = fit_models(\"Random Forest - {} Features\".format(name), \n",
    "                                              rf, train_df, test_df)\n",
    "    \n",
    "    matrices.append([dtc_cm, rf_cm])\n",
    "    evals.append([dtc_metrics, rf_metrics])"
   ]
  },
  {
   "cell_type": "code",
   "execution_count": 48,
   "id": "91bf3fd6-a513-468b-af4e-371849f457d3",
   "metadata": {},
   "outputs": [
    {
     "data": {
      "text/plain": [
       "[[[<pyspark.mllib.evaluation.MulticlassMetrics at 0x7fa567f293a0>],\n",
       "  [<pyspark.mllib.evaluation.MulticlassMetrics at 0x7fa576d26e80>]],\n",
       " [[<pyspark.mllib.evaluation.MulticlassMetrics at 0x7fa58213c250>],\n",
       "  [<pyspark.mllib.evaluation.MulticlassMetrics at 0x7fa581c7f9a0>]],\n",
       " [[<pyspark.mllib.evaluation.MulticlassMetrics at 0x7fa581fd53a0>],\n",
       "  [<pyspark.mllib.evaluation.MulticlassMetrics at 0x7fa58291fa60>]]]"
      ]
     },
     "execution_count": 48,
     "metadata": {},
     "output_type": "execute_result"
    }
   ],
   "source": [
    "evals"
   ]
  },
  {
   "cell_type": "code",
   "execution_count": 54,
   "id": "f9a2d1d4-a051-4c64-8a54-815ed9bfaa4f",
   "metadata": {},
   "outputs": [
    {
     "name": "stdout",
     "output_type": "stream",
     "text": [
      "0 0.9285662681067803\n",
      "1 0.0\n",
      "2 0.57110942047362\n",
      "3 0.0\n",
      "0 0.9820673853473767\n",
      "1 0.0\n",
      "2 0.26454853940996753\n",
      "3 0.0\n",
      "0 0.9464008339310872\n",
      "1 0.0\n",
      "2 0.866535523346327\n",
      "3 0.5803957727498404\n",
      "0 0.9692307295348873\n",
      "1 0.0\n",
      "2 0.789514970854805\n",
      "3 0.0\n",
      "0 0.9457402944561129\n",
      "1 0.0\n",
      "2 0.8679181505402306\n",
      "3 0.5801061946902655\n",
      "0 0.9969424246959196\n",
      "1 0.0\n",
      "2 0.1892557493813002\n",
      "3 0.0\n"
     ]
    }
   ],
   "source": [
    "for eval in evals:\n",
    "    for x in eval:\n",
    "        print(\"0\",x[0].truePositiveRate(0.0))\n",
    "        print(\"1\",x[0].truePositiveRate(1.0))\n",
    "        print(\"2\",x[0].truePositiveRate(2.0))\n",
    "        print(\"3\",x[0].truePositiveRate(3.0))"
   ]
  },
  {
   "cell_type": "code",
   "execution_count": null,
   "id": "269fc629-d223-4d79-ba4b-e03a825c15bf",
   "metadata": {},
   "outputs": [],
   "source": []
  }
 ],
 "metadata": {
  "kernelspec": {
   "display_name": "PySpark",
   "language": "python",
   "name": "pyspark"
  },
  "language_info": {
   "codemirror_mode": {
    "name": "ipython",
    "version": 3
   },
   "file_extension": ".py",
   "mimetype": "text/x-python",
   "name": "python",
   "nbconvert_exporter": "python",
   "pygments_lexer": "ipython3",
   "version": "3.8.15"
  }
 },
 "nbformat": 4,
 "nbformat_minor": 5
}
